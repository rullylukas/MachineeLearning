{
  "cells": [
    {
      "cell_type": "code",
      "execution_count": null,
      "metadata": {
        "id": "JJAz6p9wiUNb"
      },
      "outputs": [],
      "source": [
        "#Nama  : Rully Lukas T\n",
        "#NIM   : 1103200181\n",
        "#Kelas : TK-44G2"
      ]
    },
    {
      "cell_type": "code",
      "execution_count": null,
      "metadata": {
        "id": "oR60a6fPi7D8"
      },
      "outputs": [],
      "source": [
        "from sklearn import datasets\n",
        "from sklearn.model_selection import train_test_split\n",
        "from sklearn.decomposition import PCA\n",
        "from sklearn.tree import DecisionTreeClassifier\n",
        "\n",
        "import matplotlib.pyplot as plt"
      ]
    },
    {
      "cell_type": "code",
      "execution_count": null,
      "metadata": {
        "id": "vssGcVs2i-JL"
      },
      "outputs": [],
      "source": [
        "#Muat dataset Iris\n",
        "iris = datasets.load_iris()\n",
        "atribut = iris.data\n",
        "label = iris.target"
      ]
    },
    {
      "cell_type": "code",
      "execution_count": null,
      "metadata": {
        "id": "CTYPTocYjBoT"
      },
      "outputs": [],
      "source": [
        "#Bagi dataset menjadi train set dan test set\n",
        "\n",
        "X_train, X_test, y_train, y_test = train_test_split(atribut, label, test_size=0.2, random_state=42)"
      ]
    },
    {
      "cell_type": "code",
      "execution_count": null,
      "metadata": {
        "id": "C9MTDGtFjDST"
      },
      "outputs": [],
      "source": [
        "#Lakukan dimensionality reduction menggunakan PCA (dengan 2 komponen)\n",
        "\n",
        "pca_2_components = PCA(n_components=2)\n",
        "X_train_pca_2 = pca_2_components.fit_transform(X_train)\n",
        "X_test_pca_2 = pca_2_components.transform(X_test)"
      ]
    },
    {
      "cell_type": "code",
      "execution_count": null,
      "metadata": {
        "id": "k55E3_CIjEwK"
      },
      "outputs": [],
      "source": [
        "#Latih model Decision Tree dengan data yang telah direduksi (2 komponen)\n",
        "\n",
        "decision_tree_2_components = DecisionTreeClassifier(random_state=42)\n",
        "model_dengan_PCA_2_components = decision_tree_2_components.fit(X_train_pca_2, y_train)"
      ]
    },
    {
      "cell_type": "code",
      "execution_count": null,
      "metadata": {
        "colab": {
          "base_uri": "https://localhost:8080/"
        },
        "id": "vB4CDmfNjJa6",
        "outputId": "959b2f8e-bd7c-4cd8-a825-b379f33c36d1"
      },
      "outputs": [
        {
          "name": "stdout",
          "output_type": "stream",
          "text": [
            "Akurasi model dengan PCA (2 komponen): 1.0\n"
          ]
        }
      ],
      "source": [
        "#Hitung dan cetak akurasi model pada test set dengan 2 komponen PCA\n",
        "\n",
        "accuracy_2_components = model_dengan_PCA_2_components.score(X_test_pca_2, y_test)\n",
        "print(\"Akurasi model dengan PCA (2 komponen):\", accuracy_2_components)"
      ]
    },
    {
      "cell_type": "code",
      "execution_count": null,
      "metadata": {
        "id": "o3JFBFuIjNop"
      },
      "outputs": [],
      "source": [
        "#Lakukan dimensionality reduction menggunakan PCA (dengan 4 komponen)\n",
        "\n",
        "pca_4_components = PCA(n_components=4)\n",
        "X_train_pca_4 = pca_4_components.fit_transform(X_train)\n",
        "X_test_pca_4 = pca_4_components.transform(X_test)"
      ]
    },
    {
      "cell_type": "code",
      "execution_count": null,
      "metadata": {
        "id": "5iWmETeujQFC"
      },
      "outputs": [],
      "source": [
        "# Sel 8: Latih model Decision Tree dengan data yang telah direduksi (4 komponen)\n",
        "\n",
        "decision_tree_4_components = DecisionTreeClassifier(random_state=42)\n",
        "model_dengan_PCA_4_components = decision_tree_4_components.fit(X_train_pca_4, y_train)"
      ]
    },
    {
      "cell_type": "code",
      "execution_count": null,
      "metadata": {
        "colab": {
          "base_uri": "https://localhost:8080/"
        },
        "id": "9mA8AD2GjR0p",
        "outputId": "9bd9fa9f-663b-4152-cf04-ce8a8e4f6100"
      },
      "outputs": [
        {
          "name": "stdout",
          "output_type": "stream",
          "text": [
            "Akurasi model dengan PCA (4 komponen): 1.0\n"
          ]
        }
      ],
      "source": [
        "#Hitung dan cetak akurasi model pada test set dengan 4 komponen PCA\n",
        "\n",
        "accuracy_4_components = model_dengan_PCA_4_components.score(X_test_pca_4, y_test)\n",
        "print(\"Akurasi model dengan PCA (4 komponen):\", accuracy_4_components)"
      ]
    },
    {
      "cell_type": "code",
      "execution_count": null,
      "metadata": {
        "colab": {
          "base_uri": "https://localhost:8080/"
        },
        "id": "2ytz0J1SjUHL",
        "outputId": "9b074bdc-c015-40b4-efa0-099682cec45a"
      },
      "outputs": [
        {
          "name": "stdout",
          "output_type": "stream",
          "text": [
            "Explained Variance Ratio (2 komponen): [0.91959926 0.05714377]\n"
          ]
        }
      ],
      "source": [
        "#Variance Ratio (2 komponen)\n",
        "\n",
        "explained_variance_ratio_2 = pca_2_components.explained_variance_ratio_\n",
        "print(\"Explained Variance Ratio (2 komponen):\", explained_variance_ratio_2)"
      ]
    },
    {
      "cell_type": "code",
      "execution_count": null,
      "metadata": {
        "colab": {
          "base_uri": "https://localhost:8080/"
        },
        "id": "TLidlnOBjVpS",
        "outputId": "ab79ad65-9d9a-4be7-886b-107d57794c21"
      },
      "outputs": [
        {
          "name": "stdout",
          "output_type": "stream",
          "text": [
            "Explained Variance Ratio (4 komponen): [0.91959926 0.05714377 0.01838378 0.00487319]\n"
          ]
        }
      ],
      "source": [
        "#Variance Ratio (4 komponen)\n",
        "\n",
        "explained_variance_ratio_4 = pca_4_components.explained_variance_ratio_\n",
        "print(\"Explained Variance Ratio (4 komponen):\", explained_variance_ratio_4)"
      ]
    }
  ],
  "metadata": {
    "colab": {
      "provenance": []
    },
    "kernelspec": {
      "display_name": "Python 3",
      "name": "python3"
    },
    "language_info": {
      "name": "python"
    }
  },
  "nbformat": 4,
  "nbformat_minor": 0
}
