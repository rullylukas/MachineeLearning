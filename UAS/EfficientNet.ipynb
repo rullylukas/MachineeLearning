{
  "cells": [
    {
      "cell_type": "markdown",
      "source": [
        "\n",
        "---\n",
        "\n",
        "Nama : **Rully Lukas T**\n",
        "\n",
        "NIM : **1103200181**\n",
        "\n",
        "Model : **EfficientNet**\n",
        "\n",
        "---\n",
        "\n",
        "\n"
      ],
      "metadata": {
        "id": "hKFcjY1K1VIU"
      }
    },
    {
      "cell_type": "code",
      "execution_count": null,
      "metadata": {
        "colab": {
          "base_uri": "https://localhost:8080/"
        },
        "id": "PVl97KBS9NSZ",
        "outputId": "282e4e5d-867b-4dc6-8ea5-7ac963e38095"
      },
      "outputs": [
        {
          "output_type": "stream",
          "name": "stdout",
          "text": [
            "Mounted at /content/drive\n"
          ]
        }
      ],
      "source": [
        "from google.colab import drive\n",
        "drive.mount('/content/drive')"
      ]
    },
    {
      "cell_type": "code",
      "execution_count": null,
      "metadata": {
        "colab": {
          "base_uri": "https://localhost:8080/"
        },
        "id": "0hzTll_D0Thi",
        "outputId": "5d563e7f-dae1-43b5-bd81-e9e3c80fa8d5"
      },
      "outputs": [
        {
          "output_type": "stream",
          "name": "stdout",
          "text": [
            "Requirement already satisfied: timm in /usr/local/lib/python3.10/dist-packages (1.0.3)\n",
            "Requirement already satisfied: torch in /usr/local/lib/python3.10/dist-packages (from timm) (2.3.0+cu121)\n",
            "Requirement already satisfied: torchvision in /usr/local/lib/python3.10/dist-packages (from timm) (0.18.0+cu121)\n",
            "Requirement already satisfied: pyyaml in /usr/local/lib/python3.10/dist-packages (from timm) (6.0.1)\n",
            "Requirement already satisfied: huggingface_hub in /usr/local/lib/python3.10/dist-packages (from timm) (0.23.3)\n",
            "Requirement already satisfied: safetensors in /usr/local/lib/python3.10/dist-packages (from timm) (0.4.3)\n",
            "Requirement already satisfied: filelock in /usr/local/lib/python3.10/dist-packages (from huggingface_hub->timm) (3.14.0)\n",
            "Requirement already satisfied: fsspec>=2023.5.0 in /usr/local/lib/python3.10/dist-packages (from huggingface_hub->timm) (2023.6.0)\n",
            "Requirement already satisfied: packaging>=20.9 in /usr/local/lib/python3.10/dist-packages (from huggingface_hub->timm) (24.1)\n",
            "Requirement already satisfied: requests in /usr/local/lib/python3.10/dist-packages (from huggingface_hub->timm) (2.31.0)\n",
            "Requirement already satisfied: tqdm>=4.42.1 in /usr/local/lib/python3.10/dist-packages (from huggingface_hub->timm) (4.66.4)\n",
            "Requirement already satisfied: typing-extensions>=3.7.4.3 in /usr/local/lib/python3.10/dist-packages (from huggingface_hub->timm) (4.12.2)\n",
            "Requirement already satisfied: sympy in /usr/local/lib/python3.10/dist-packages (from torch->timm) (1.12.1)\n",
            "Requirement already satisfied: networkx in /usr/local/lib/python3.10/dist-packages (from torch->timm) (3.3)\n",
            "Requirement already satisfied: jinja2 in /usr/local/lib/python3.10/dist-packages (from torch->timm) (3.1.4)\n",
            "Requirement already satisfied: nvidia-cuda-nvrtc-cu12==12.1.105 in /usr/local/lib/python3.10/dist-packages (from torch->timm) (12.1.105)\n",
            "Requirement already satisfied: nvidia-cuda-runtime-cu12==12.1.105 in /usr/local/lib/python3.10/dist-packages (from torch->timm) (12.1.105)\n",
            "Requirement already satisfied: nvidia-cuda-cupti-cu12==12.1.105 in /usr/local/lib/python3.10/dist-packages (from torch->timm) (12.1.105)\n",
            "Requirement already satisfied: nvidia-cudnn-cu12==8.9.2.26 in /usr/local/lib/python3.10/dist-packages (from torch->timm) (8.9.2.26)\n",
            "Requirement already satisfied: nvidia-cublas-cu12==12.1.3.1 in /usr/local/lib/python3.10/dist-packages (from torch->timm) (12.1.3.1)\n",
            "Requirement already satisfied: nvidia-cufft-cu12==11.0.2.54 in /usr/local/lib/python3.10/dist-packages (from torch->timm) (11.0.2.54)\n",
            "Requirement already satisfied: nvidia-curand-cu12==10.3.2.106 in /usr/local/lib/python3.10/dist-packages (from torch->timm) (10.3.2.106)\n",
            "Requirement already satisfied: nvidia-cusolver-cu12==11.4.5.107 in /usr/local/lib/python3.10/dist-packages (from torch->timm) (11.4.5.107)\n",
            "Requirement already satisfied: nvidia-cusparse-cu12==12.1.0.106 in /usr/local/lib/python3.10/dist-packages (from torch->timm) (12.1.0.106)\n",
            "Requirement already satisfied: nvidia-nccl-cu12==2.20.5 in /usr/local/lib/python3.10/dist-packages (from torch->timm) (2.20.5)\n",
            "Requirement already satisfied: nvidia-nvtx-cu12==12.1.105 in /usr/local/lib/python3.10/dist-packages (from torch->timm) (12.1.105)\n",
            "Requirement already satisfied: triton==2.3.0 in /usr/local/lib/python3.10/dist-packages (from torch->timm) (2.3.0)\n",
            "Requirement already satisfied: nvidia-nvjitlink-cu12 in /usr/local/lib/python3.10/dist-packages (from nvidia-cusolver-cu12==11.4.5.107->torch->timm) (12.5.40)\n",
            "Requirement already satisfied: numpy in /usr/local/lib/python3.10/dist-packages (from torchvision->timm) (1.25.2)\n",
            "Requirement already satisfied: pillow!=8.3.*,>=5.3.0 in /usr/local/lib/python3.10/dist-packages (from torchvision->timm) (9.4.0)\n",
            "Requirement already satisfied: MarkupSafe>=2.0 in /usr/local/lib/python3.10/dist-packages (from jinja2->torch->timm) (2.1.5)\n",
            "Requirement already satisfied: charset-normalizer<4,>=2 in /usr/local/lib/python3.10/dist-packages (from requests->huggingface_hub->timm) (3.3.2)\n",
            "Requirement already satisfied: idna<4,>=2.5 in /usr/local/lib/python3.10/dist-packages (from requests->huggingface_hub->timm) (3.7)\n",
            "Requirement already satisfied: urllib3<3,>=1.21.1 in /usr/local/lib/python3.10/dist-packages (from requests->huggingface_hub->timm) (2.0.7)\n",
            "Requirement already satisfied: certifi>=2017.4.17 in /usr/local/lib/python3.10/dist-packages (from requests->huggingface_hub->timm) (2024.6.2)\n",
            "Requirement already satisfied: mpmath<1.4.0,>=1.1.0 in /usr/local/lib/python3.10/dist-packages (from sympy->torch->timm) (1.3.0)\n"
          ]
        }
      ],
      "source": [
        "# The below 3 Installation was required in Kaggle Kernel\n",
        "# !pip install --upgrade --force-reinstall --no-deps torch\n",
        "# !pip install --upgrade --force-reinstall --no-deps torchvision\n",
        "!pip install timm"
      ]
    },
    {
      "cell_type": "code",
      "execution_count": null,
      "metadata": {
        "colab": {
          "base_uri": "https://localhost:8080/"
        },
        "id": "3u5xzPSc0Thn",
        "outputId": "b88ef3ef-c2e7-439f-f140-d5a5c440a94a"
      },
      "outputs": [
        {
          "output_type": "execute_result",
          "data": {
            "text/plain": [
              "device(type='cuda')"
            ]
          },
          "metadata": {},
          "execution_count": 9
        }
      ],
      "source": [
        "import numpy as np # linear algebra\n",
        "import pandas as pd # data processing, CSV file I/O (e.g. pd.read_csv)\n",
        "import os\n",
        "import torch\n",
        "import torchvision\n",
        "from torchvision import datasets, transforms\n",
        "from torch import nn, optim\n",
        "from torch.nn import functional as F\n",
        "from torch.utils.data import DataLoader, sampler, random_split\n",
        "from torchvision import models\n",
        "from tqdm import tqdm\n",
        "import time\n",
        "import copy\n",
        "import timm\n",
        "import matplotlib.image as mpimg\n",
        "import matplotlib.pyplot as plt\n",
        "import warnings\n",
        "warnings.filterwarnings('ignore')\n",
        "import timm\n",
        "device = torch.device('cuda' if torch.cuda.is_available() else 'cpu')\n",
        "# device='cpu'\n",
        "device"
      ]
    },
    {
      "cell_type": "code",
      "execution_count": null,
      "metadata": {
        "colab": {
          "base_uri": "https://localhost:8080/"
        },
        "id": "wFEujuV50Tho",
        "outputId": "e3024ff5-0652-4ba2-dbc6-074c20eeb6ea"
      },
      "outputs": [
        {
          "output_type": "stream",
          "name": "stdout",
          "text": [
            "2.3.0+cu121\n",
            "0.18.0+cu121\n"
          ]
        }
      ],
      "source": [
        "print(torch.__version__)\n",
        "print(torchvision.__version__)"
      ]
    },
    {
      "cell_type": "code",
      "execution_count": null,
      "metadata": {
        "id": "BQMuE45q0Thp"
      },
      "outputs": [],
      "source": [
        "# Colab path from G-Drive\n",
        "ROOT_PATH = \"/content/drive/MyDrive/Statistik/SplitOver\"\n",
        "\n",
        "# Kaggle Root Path\n",
        "# ROOT_PATH = \"/kaggle/input/fruits/fruits-360_dataset/fruits-360/\"\n",
        "\n",
        "# Local Machine\n",
        "# ROOT_PATH = \"../../Datasets/Covid-19-Image-Dataset-170MB/\"\n",
        "\n",
        "#  Image size is not same throughout the whole dataset. Therefore all the images has been resized to 256 X 256 size using the Resize() function"
      ]
    },
    {
      "cell_type": "markdown",
      "metadata": {
        "id": "QWrTVrOs0Thp"
      },
      "source": [
        "## Plotting images"
      ]
    },
    {
      "cell_type": "markdown",
      "source": [
        "mengakses direktori yang berisikan data train untuk berbagai jenis tanaman dan menampilkan nama file dari setiap jenis tanaman tersebut dengan mendefinisikan path direktori dengan ROOT_PATH (yang merupakan path root) dengan sub directori 'train'. Bagian train_dir menggabungkan subdirektori masing-masing jenis tanaman untuk mendapatkan path penuh ke masing-masing subdirektori. Bagian os.listdir untuk mendapatkan daftar semua nama file dalam masing-masing subdirektori. Menampilkan 10 nama file pertama dari setiap subdirectori"
      ],
      "metadata": {
        "id": "6VqCqIK6VKqX"
      }
    },
    {
      "cell_type": "code",
      "execution_count": null,
      "metadata": {
        "colab": {
          "base_uri": "https://localhost:8080/"
        },
        "id": "we9y7vIi0Thr",
        "outputId": "023c37c7-76ef-4526-8374-216f8844ec0c"
      },
      "outputs": [
        {
          "output_type": "stream",
          "name": "stdout",
          "text": [
            "['0_13.jpg', '0_17.jpg', '0_20.jpg', '0_22.jpg', '1_1.jpg', '1_6.jpg', '1_16.jpg', '2_5.jpg', '2_7.jpg', '2_11.jpg']\n",
            "['0_9.jpg', '0_19.jpg', '1_27.jpg', '2_12.jpg', '2_19.jpg', '2_23.jpg', '2_27.jpg', '2_28.jpg', '3_5.jpg', '3_8.jpg']\n",
            "['0_2.jpg', '0_6.jpg', '0_16.jpg', '1_11.jpg', '1_14.jpg', '1_17.jpg', '1_23.jpg', '1_30.jpg', '2_22.jpg', '2_25.jpg']\n",
            "['0_12.jpg', '0_15.jpg', '1_24.jpg', '1_31.jpg', '2_15.jpg', '3_9.jpg', '3_20.jpg', '3_25.jpg', '3_29.jpg', '4_10.jpg']\n",
            "['1_29.jpg', '3_0.jpg', '3_16.jpg', '3_31.jpg', '4_15.jpg', '5_10.jpg', '5_16.jpg', '5_26.jpg', '6_3.jpg', '6_21.jpg']\n"
          ]
        }
      ],
      "source": [
        "train_dir = os.path.join(ROOT_PATH, 'train')\n",
        "\n",
        "train_kangkungair_dir = os.path.join(train_dir, 'Kangkung_Air')\n",
        "train_kangkungdarat_dir = os.path.join(train_dir, 'Kangkung_Darat')\n",
        "train_bayam_dir = os.path.join(train_dir, 'Bayam')\n",
        "train_kelor_dir = os.path.join(train_dir, 'Kelor')\n",
        "train_pakis_dir = os.path.join(train_dir, 'Pakis')\n",
        "\n",
        "train_kangkungair_fnames = os.listdir(train_kangkungair_dir)\n",
        "train_kangkungdarat_fnames = os.listdir(train_kangkungdarat_dir)\n",
        "train_bayam_fnames = os.listdir(train_bayam_dir)\n",
        "train_kelor_fnames = os.listdir(train_kelor_dir)\n",
        "train_pakis_fnames = os.listdir(train_pakis_dir)\n",
        "\n",
        "print(train_kangkungair_fnames[:10])\n",
        "print(train_kangkungdarat_fnames[:10])\n",
        "print(train_bayam_fnames[:10])\n",
        "print(train_kelor_fnames[:10])\n",
        "print(train_pakis_fnames[:10])"
      ]
    },
    {
      "cell_type": "code",
      "execution_count": null,
      "metadata": {
        "id": "hXerfIp50Thu"
      },
      "outputs": [],
      "source": [
        "def get_dataset_loader(data_path, batch_size=256, train=False):\n",
        "  \"\"\"  Get the dataset loader for training or testing.\n",
        "\n",
        "    Parameters:\n",
        "    - data_path (str): Path to the dataset directory.\n",
        "    - batch_size (int): Batch size for the dataloader.\n",
        "    - train (bool): Whether to get the training dataset loader or testing dataset loader.\n",
        "\n",
        "    Returns:\n",
        "    - dataloader (torch.utils.data.DataLoader): Dataset loader.\n",
        "    - dataset_size (int): Size of the dataset. \"\"\"\n",
        "  if train:\n",
        "    transform = transforms.Compose([\n",
        "      transforms.RandomHorizontalFlip(p=0.5),\n",
        "      transforms.RandomVerticalFlip(p=0.5),\n",
        "      transforms.RandomApply(torch.nn.ModuleList([transforms.ColorJitter(), transforms.GaussianBlur(3)]), p=0.1),\n",
        "      transforms.Resize(256),\n",
        "      transforms.CenterCrop(224),\n",
        "      transforms.ToTensor(),\n",
        "      transforms.Normalize((0.485, 0.456, 0.466), (0.229, 0.224, 0.255)),\n",
        "      transforms.RandomErasing(p=0.12, value='random')\n",
        "    ])\n",
        "\n",
        "    train_imgs = datasets.ImageFolder(os.path.join(ROOT_PATH, 'train/'), transform=transform)\n",
        "\n",
        "    print(f\"We have {len(train_imgs)} Training Images with {len(train_imgs.classes)} classes\")\n",
        "\n",
        "    len_train_images = int(len(train_imgs) * 0.78)\n",
        "\n",
        "    len_validation_images = int(len(train_imgs) - len_train_images )\n",
        "\n",
        "    train_dataset, validation_dataset = random_split(train_imgs, [len_train_images, len_validation_images] )\n",
        "\n",
        "    train_dataloader = DataLoader(train_dataset, batch_size=batch_size, shuffle=True, num_workers=2, pin_memory=True)\n",
        "\n",
        "    validation_dataloader = DataLoader(validation_dataset, batch_size=batch_size, shuffle=True, num_workers=2, pin_memory=True)\n",
        "\n",
        "    return train_dataloader, validation_dataloader, len(train_dataset), len(validation_dataset)\n",
        "\n",
        "  else:\n",
        "    transform = transforms.Compose([\n",
        "    transforms.Resize(256),\n",
        "    transforms.CenterCrop(224),\n",
        "    transforms.ToTensor(),\n",
        "    transforms.Normalize((0.485, 0.456, 0.466), (0.229, 0.224, 0.255)),\n",
        "  ])\n",
        "\n",
        "  test_imgs = datasets.ImageFolder(os.path.join(ROOT_PATH, 'test/'), transform=transform)\n",
        "\n",
        "  print(f\"We have {len(test_imgs)} Training Images with {len(test_imgs.classes)} classes\")\n",
        "\n",
        "  test_dataloader = DataLoader(test_imgs, batch_size=batch_size, shuffle=True, num_workers=2, pin_memory=True)\n",
        "\n",
        "  return test_dataloader, len(test_imgs)\n",
        "\n"
      ]
    },
    {
      "cell_type": "markdown",
      "metadata": {
        "id": "jYmcJo3a0Thv"
      },
      "source": [
        "## Get Number of Classes"
      ]
    },
    {
      "cell_type": "code",
      "execution_count": null,
      "metadata": {
        "colab": {
          "base_uri": "https://localhost:8080/"
        },
        "id": "L65GgJk40Thv",
        "outputId": "551b744d-d49e-45b3-f94d-61eb5e243b6b"
      },
      "outputs": [
        {
          "output_type": "execute_result",
          "data": {
            "text/plain": [
              "5"
            ]
          },
          "metadata": {},
          "execution_count": 15
        }
      ],
      "source": [
        "class_categories = datasets.ImageFolder(os.path.join(ROOT_PATH, 'train/')).classes\n",
        "# ['Covid', 'Normal', 'Viral Pneumonia']\n",
        "num_classes = len(class_categories)\n",
        "num_classes"
      ]
    },
    {
      "cell_type": "markdown",
      "metadata": {
        "id": "igDDF5Xo0Thw"
      },
      "source": [
        "### Display a random image"
      ]
    },
    {
      "cell_type": "markdown",
      "source": [
        "Kode ini membuat sebuah objek 'ImageFolder' dari PyTorch, yang membaca gambar dari direktori 'train/' yang berada di 'ROOT_PATH'. 'ImageFolder' mengasumsikan bahwa direktori 'train/' memiliki subdirektori untuk setiap kelas gambar, dan setiap subdirektori tersebut berisi gambar-gambar yang sesuai dengan kelasnya. dengam memgambil contoh gambar pada element ke tiga pada index 0 yaitu gambar."
      ],
      "metadata": {
        "id": "pP6zzTuahiWS"
      }
    },
    {
      "cell_type": "code",
      "execution_count": null,
      "metadata": {
        "colab": {
          "base_uri": "https://localhost:8080/",
          "height": 241
        },
        "id": "Mzks6DZc0Thw",
        "outputId": "b554bc19-bba8-4a8f-9120-ac9f9905a7c3"
      },
      "outputs": [
        {
          "output_type": "execute_result",
          "data": {
            "text/plain": [
              "<PIL.Image.Image image mode=RGB size=224x224>"
            ],
            "image/png": "[encoded data removed]"
          },
          "metadata": {},
          "execution_count": 16
        }
      ],
      "source": [
        "train_data = datasets.ImageFolder(os.path.join(ROOT_PATH, 'train/'))\n",
        "train_data[2][0]"
      ]
    },
    {
      "cell_type": "markdown",
      "metadata": {
        "id": "qfW6PqZi0Thw"
      },
      "source": [
        "## Invoke the previous get_dataset_loader() Function to get all my loaders (train, test and valid)"
      ]
    },
    {
      "cell_type": "markdown",
      "source": [],
      "metadata": {
        "id": "z_XlAnNmile1"
      }
    },
    {
      "cell_type": "code",
      "execution_count": null,
      "metadata": {
        "colab": {
          "base_uri": "https://localhost:8080/"
        },
        "id": "K_dh-nOt0Thx",
        "outputId": "ad47dab8-6871-47d4-dedb-439c9d7268ec"
      },
      "outputs": [
        {
          "output_type": "stream",
          "name": "stdout",
          "text": [
            "We have 1966 Training Images with 5 classes\n",
            "We have 486 Training Images with 5 classes\n"
          ]
        }
      ],
      "source": [
        "BATCH_SIZE = 32\n",
        "\n",
        "(train_dataloader, validation_dataloader, len_train_dataloader, len_validation_dataloader) = get_dataset_loader(ROOT_PATH, batch_size=BATCH_SIZE, train=True)\n",
        "\n",
        "(test_dataloader, len_test_dataloader) = get_dataset_loader(ROOT_PATH, batch_size=BATCH_SIZE, train=False)"
      ]
    },
    {
      "cell_type": "code",
      "execution_count": null,
      "metadata": {
        "colab": {
          "base_uri": "https://localhost:8080/"
        },
        "id": "VBQ2e6yj0Thx",
        "outputId": "50f61907-f9bc-4344-fc80-fbcec977816d"
      },
      "outputs": [
        {
          "output_type": "execute_result",
          "data": {
            "text/plain": [
              "<torch.utils.data.dataset.Subset at 0x7d94493f6d10>"
            ]
          },
          "metadata": {},
          "execution_count": 18
        }
      ],
      "source": [
        "train_dataloader.dataset"
      ]
    },
    {
      "cell_type": "code",
      "execution_count": null,
      "metadata": {
        "colab": {
          "base_uri": "https://localhost:8080/"
        },
        "id": "QK5_U4rQ0Thx",
        "outputId": "c02c0b81-c767-4cb8-d32b-1c312d4eb077"
      },
      "outputs": [
        {
          "output_type": "execute_result",
          "data": {
            "text/plain": [
              "Dataset ImageFolder\n",
              "    Number of datapoints: 486\n",
              "    Root location: /content/drive/MyDrive/Statistik/SplitOver/test/\n",
              "    StandardTransform\n",
              "Transform: Compose(\n",
              "               Resize(size=256, interpolation=bilinear, max_size=None, antialias=True)\n",
              "               CenterCrop(size=(224, 224))\n",
              "               ToTensor()\n",
              "               Normalize(mean=(0.485, 0.456, 0.466), std=(0.229, 0.224, 0.255))\n",
              "           )"
            ]
          },
          "metadata": {},
          "execution_count": 19
        }
      ],
      "source": [
        "test_dataloader.dataset"
      ]
    },
    {
      "cell_type": "code",
      "execution_count": null,
      "metadata": {
        "colab": {
          "base_uri": "https://localhost:8080/"
        },
        "id": "wjgxvTzk0Thy",
        "outputId": "f380b37c-1669-421a-896e-7a4e966dbdd4"
      },
      "outputs": [
        {
          "output_type": "stream",
          "name": "stdout",
          "text": [
            "48\n",
            "14\n",
            "16\n",
            "1533 433 486\n"
          ]
        }
      ],
      "source": [
        "print(len(train_dataloader))\n",
        "print(len(validation_dataloader))\n",
        "print(len(test_dataloader))\n",
        "print(len_train_dataloader, len_validation_dataloader, len_test_dataloader )"
      ]
    },
    {
      "cell_type": "code",
      "execution_count": null,
      "metadata": {
        "id": "meRQbb7-0Thy"
      },
      "outputs": [],
      "source": [
        "dataloaders_dict = {\n",
        "  'train': train_dataloader,\n",
        "  'validation': validation_dataloader\n",
        "}\n",
        "\n",
        "dataset_sizes_dict = {\n",
        "  'train':len_train_dataloader,\n",
        "  'validation': len_validation_dataloader\n",
        "}"
      ]
    },
    {
      "cell_type": "markdown",
      "metadata": {
        "id": "Z_zQQ5VG0Thz"
      },
      "source": []
    },
    {
      "cell_type": "markdown",
      "metadata": {
        "id": "Zp4VXMEQ0Th0"
      },
      "source": [
        "## Load `efficientnet_b0` from torchvision Models"
      ]
    },
    {
      "cell_type": "code",
      "execution_count": null,
      "metadata": {
        "colab": {
          "base_uri": "https://localhost:8080/"
        },
        "id": "aE4RSUKW0Th0",
        "outputId": "22552760-5045-4c13-e700-4a3bd9bf0ffb"
      },
      "outputs": [
        {
          "output_type": "stream",
          "name": "stderr",
          "text": [
            "Downloading: \"https://download.pytorch.org/models/efficientnet_b0_rwightman-7f5810bc.pth\" to /root/.cache/torch/hub/checkpoints/efficientnet_b0_rwightman-7f5810bc.pth\n",
            "100%|██████████| 20.5M/20.5M [00:00<00:00, 98.8MB/s]\n"
          ]
        },
        {
          "output_type": "stream",
          "name": "stdout",
          "text": [
            "model.classifier is =>  Sequential(\n",
            "  (0): Dropout(p=0.2, inplace=True)\n",
            "  (1): Linear(in_features=1280, out_features=1000, bias=True)\n",
            ")\n",
            "Sequential(\n",
            "  (0): Linear(in_features=1280, out_features=2048, bias=True)\n",
            "  (1): SiLU()\n",
            "  (2): Dropout(p=0.2, inplace=False)\n",
            "  (3): Linear(in_features=2048, out_features=5, bias=True)\n",
            ")\n"
          ]
        }
      ],
      "source": [
        "torch.backends.cudnn.benchmark = True\n",
        "\n",
        "model = models.efficientnet_b0(pretrained=True)\n",
        "\n",
        "print(\"model.classifier is => \", model.classifier)\n",
        "\n",
        "\"\"\" model.classifier is =>  Sequential(\n",
        "  (0): Dropout(p=0.2, inplace=True)\n",
        "  (1): Linear(in_features=1280, out_features=1000, bias=True)\n",
        ")\n",
        "\"\"\"\n",
        "\n",
        "for param in model.parameters():\n",
        "  param.requires_grad = False\n",
        "\n",
        "num_inputs = model.classifier[1].in_features\n",
        "\n",
        "\n",
        "\"\"\" Now here is where I am adding additional layers to the pre-trained model.\n",
        "\n",
        "for nn.Linear - note the following\n",
        "in_features – size of each input sample\n",
        "out_features – size of each output sample\n",
        "\n",
        "\"\"\"\n",
        "\n",
        "\n",
        "model.classifier = nn.Sequential(\n",
        "  nn.Linear(num_inputs, 2048),\n",
        "  nn.SiLU(), # Sigmoid Weighted Linear Unit\n",
        "  nn.Dropout(0.2),\n",
        "  # Note that the last layer is 2048 * Number of Classes\n",
        "  # Reshape the final layer(s) to have the same number of outputs as the number of classes in the new dataset\n",
        "  nn.Linear(2048, len(class_categories))\n",
        ")\n",
        "\n",
        "model = model.to(device)\n",
        "print(model.classifier)\n",
        "\n"
      ]
    },
    {
      "cell_type": "markdown",
      "metadata": {
        "id": "FcrgGQ0EhmMF"
      },
      "source": [
        "## What does `torch.backends.cudnn.benchmark = True` does\n",
        "\n",
        "It enables benchmark mode in cudnn, and so allowing you to enable the inbuilt cudnn auto-tuner to find the best algorithm to use for your hardware.\n",
        "\n",
        "Benchmark mode is good whenever your input sizes for your network do not vary. This way, cudnn will look for the optimal set of algorithms for that particular configuration (which takes some time). This usually leads to faster runtime.\n",
        "\n",
        "But if your input sizes changes at each iteration, then cudnn will benchmark every time a new size appears, possibly leading to worse runtime performances. Because, each new input shape will rerun `cudnnFind` to find the fastest kernel for this shape (for all layers with a new input shape) and will add these kernels to a cache.\n",
        "\n",
        "If your input always have the same size, you should enable it all the time.\n",
        "\n",
        "However, if your model changes: for instance, if you have layers that are only \"activated\" when certain conditions are met, or you have layers inside a loop that can be iterated a different number of times, then setting torch.backends.cudnn.benchmark = True might stall your execution."
      ]
    },
    {
      "cell_type": "code",
      "execution_count": null,
      "metadata": {
        "id": "wSHEKi8q0Th0"
      },
      "outputs": [],
      "source": [
        "criterion = nn.CrossEntropyLoss(label_smoothing=0.11)\n",
        "criterion = criterion.to(device)\n",
        "optimizer = optim.AdamW(model.classifier.parameters(), lr=0.001 )"
      ]
    },
    {
      "cell_type": "markdown",
      "metadata": {
        "id": "VE02AOchL6gw"
      },
      "source": [
        "### Formula of Label Smoothing\n",
        "\n",
        "Label smoothing replaces one-hot encoded label vector y_hot with a mixture of y_hot and the uniform distribution:\n",
        "\n",
        "\n",
        "## y_ls = (1 - α) * y_hot + α / K"
      ]
    },
    {
      "cell_type": "code",
      "execution_count": null,
      "metadata": {
        "id": "chKFh04z0Th1"
      },
      "outputs": [],
      "source": [
        "exp_lr_scheduler = optim.lr_scheduler.StepLR(optimizer, step_size=3, gamma=0.8)\n",
        "# Change the learning rate based on number of epochs\n",
        "# Decays the learning rate of each parameter group by gamma every step_size epochs"
      ]
    },
    {
      "cell_type": "code",
      "execution_count": null,
      "metadata": {
        "id": "5IBkdft50Th1"
      },
      "outputs": [],
      "source": [
        "training_history = {'accuracy': [], 'loss':[] }\n",
        "validation_history = {'accuracy': [], 'loss': []}"
      ]
    },
    {
      "cell_type": "markdown",
      "metadata": {
        "id": "BUxevb1Y0Th1"
      },
      "source": [
        "## Training the Model\n",
        "\n",
        "```py\n",
        "dataloaders_dict = {\n",
        "  'train': train_dataloader,\n",
        "  'validation': validation_dataloader\n",
        "}\n",
        "\n",
        "dataset_sizes_dict = {\n",
        "  'train':len_train_dataloader,\n",
        "  'validation': len_validation_dataloader\n",
        "}\n",
        "\n",
        "```"
      ]
    },
    {
      "cell_type": "code",
      "execution_count": null,
      "metadata": {
        "id": "lMrJYmf70Th1"
      },
      "outputs": [],
      "source": [
        "def train(model, criterion, optimizer, scheduler, num_epochs=25):\n",
        "  start_time = time.time()\n",
        "\n",
        "  best_model_weights = copy.deepcopy(model.state_dict())\n",
        "  best_accuracy = 0.0\n",
        "\n",
        "  for epoch in range(num_epochs):\n",
        "    print('Running epoch {}/{}'.format(epoch, num_epochs-1))\n",
        "    print('-' * 10)\n",
        "\n",
        "    \"\"\" Within each epoch first configure training or eval mode\n",
        "    based on wheather I am in the 'train' or 'validation' phase.\n",
        "\n",
        "    `model.train()` tells your model that you are training the model. So effectively layers like dropout, batchnorm etc.\n",
        "     which behave different on the train and test procedures know what is going on and hence can behave accordingly.\n",
        "\n",
        "    In below, after I start the for loop for phase, the rest entire code for this train() function runs\n",
        "    within this for loop and at various stage passing the phase variable to be either 'train' or\n",
        "    'validation'\n",
        "\n",
        "    \"\"\"\n",
        "    for phase in ['train', 'validation']:\n",
        "      if phase == 'train':\n",
        "        model.train()\n",
        "      else:\n",
        "        model.eval()\n",
        "\n",
        "      running_loss = 0.0\n",
        "      running_corrects = 0\n",
        "\n",
        "      \"\"\" now start the iteration of the dataloaders_dict variable\n",
        "      i.e. for both 'train' and 'validation' phases\n",
        "\n",
        "      Below loop, basically tells that, for every epoch the train_dataloader and then the validation_dataloader is invoked\n",
        "       which returns input and its corresponding label.\n",
        "\n",
        "      \"\"\"\n",
        "      for inputs, labels in tqdm(dataloaders_dict[phase]):\n",
        "        inputs = inputs.to(device)\n",
        "        labels = labels.to(device)\n",
        "\n",
        "        \"\"\" for every mini-batch during the training phase, we typically want to explicitly set the gradients\n",
        "        to zero before starting to do backpropragation \"\"\"\n",
        "        optimizer.zero_grad()\n",
        "\n",
        "        \"\"\" Start the forward movement\n",
        "        tracking history for phase == 'train'\n",
        "        set_grad_enabled is a Context-manager that sets gradient calculation to on or off.\n",
        "\n",
        "        The argument to it is called mode (which is a boolean ), and this mode controls whether to enable grad (True),\n",
        "        or disable (False). This can be used to conditionally enable gradients.\n",
        "        \"\"\"\n",
        "        with torch.set_grad_enabled(phase == 'train'):\n",
        "          predicted_outputs = model(inputs)\n",
        "          # print('outputs on which to apply torch.max ', outputs)\n",
        "          # find the maximum along the rows, use dim=1 to torch.max()\n",
        "          _, predictions = torch.max(predicted_outputs, 1)\n",
        "\n",
        "          loss = criterion(predicted_outputs, labels)\n",
        "\n",
        "          # Now for the 'train' phase, do backpropagation and update weights with step()\n",
        "          if phase == 'train':\n",
        "            loss.backward()\n",
        "            optimizer.step()\n",
        "\n",
        "        \"\"\" Update the running loss and corrects\n",
        "        we need to use, loss.item() instead of loss alone in running_loss calculation and averaging.\n",
        "        Because loss gives you a grad_function, not a float value.\n",
        "        The item() method extracts the loss’s value as a Python float.\n",
        "        \"\"\"\n",
        "        running_loss += loss.item() * inputs.size(0)\n",
        "        running_corrects += torch.sum(predictions == labels.data)\n",
        "\n",
        "      if phase == 'train':\n",
        "        scheduler.step()\n",
        "\n",
        "      epoch_loss = running_loss / dataset_sizes_dict[phase]\n",
        "      epoch_accuracy = running_corrects.double() / dataset_sizes_dict[phase]\n",
        "\n",
        "      \"\"\" To summarize, in the above code what I did is\n",
        "\n",
        "      1. => multiply each average batch loss with batch-length.\n",
        "      The batch-length is inputs.size(0) which gives the number total images in each batch.\n",
        "      Essentially I am un-averaging the Batch-Loss\n",
        "\n",
        "      Do this all the batches inside the batch-running loop.\n",
        "      And then after that loop, i.e. outside the batch-loop and coming back to my epoch-loop\n",
        "\n",
        "      2. => Divide this accumulated un-averaged Batch-loss from all batches,\n",
        "      by the number of samples (len(train_dataloader)) to get the exact train loss average for the epoch \"\"\"\n",
        "\n",
        "\n",
        "      if phase == 'train':\n",
        "        training_history['loss'].append(epoch_loss)\n",
        "        training_history['accuracy'].append(epoch_accuracy)\n",
        "      elif phase == 'validation':\n",
        "        validation_history['loss'].append(epoch_loss)\n",
        "        validation_history['accuracy'].append(epoch_accuracy)\n",
        "\n",
        "      # finally update best_accuracy and deep copy the model\n",
        "      if phase == 'validation' and epoch_accuracy > best_accuracy:\n",
        "        best_accuracy = epoch_accuracy\n",
        "        best_model_weights = copy.deepcopy(model.state_dict())\n",
        "\n",
        "  time_elapsed = time.time() - start_time\n",
        "  print('Training complete in {:.0f}m {:.0f}s'.format(\n",
        "    time_elapsed // 60, time_elapsed % 60\n",
        "  ))\n",
        "  print('Best Validation Accuracy: {:4f}'.format(best_accuracy))\n",
        "\n",
        "  # loading best model weights\n",
        "  model.load_state_dict(best_model_weights)\n",
        "  return model"
      ]
    },
    {
      "cell_type": "markdown",
      "metadata": {
        "id": "8z6X8-nahmMH"
      },
      "source": []
    },
    {
      "cell_type": "code",
      "execution_count": null,
      "metadata": {
        "colab": {
          "base_uri": "https://localhost:8080/"
        },
        "id": "PnV0xYJB0Th4",
        "outputId": "f585088c-db83-4f16-89fd-d102954bfe0b"
      },
      "outputs": [
        {
          "output_type": "stream",
          "name": "stdout",
          "text": [
            "Running epoch 0/149\n",
            "----------\n"
          ]
        },
        {
          "output_type": "stream",
          "name": "stderr",
          "text": [
            "100%|██████████| 48/48 [08:33<00:00, 10.70s/it]\n",
            "100%|██████████| 14/14 [02:09<00:00,  9.26s/it]\n"
          ]
        },
        {
          "output_type": "stream",
          "name": "stdout",
          "text": [
            "Running epoch 1/149\n",
            "----------\n"
          ]
        },
        {
          "output_type": "stream",
          "name": "stderr",
          "text": [
            "100%|██████████| 48/48 [00:08<00:00,  5.72it/s]\n",
            "100%|██████████| 14/14 [00:03<00:00,  3.79it/s]\n"
          ]
        },
        {
          "output_type": "stream",
          "name": "stdout",
          "text": [
            "Running epoch 2/149\n",
            "----------\n"
          ]
        },
        {
          "output_type": "stream",
          "name": "stderr",
          "text": [
            "100%|██████████| 48/48 [00:10<00:00,  4.42it/s]\n",
            "100%|██████████| 14/14 [00:02<00:00,  5.75it/s]\n"
          ]
        },
        {
          "output_type": "stream",
          "name": "stdout",
          "text": [
            "Running epoch 3/149\n",
            "----------\n"
          ]
        },
        {
          "output_type": "stream",
          "name": "stderr",
          "text": [
            "100%|██████████| 48/48 [00:09<00:00,  4.81it/s]\n",
            "100%|██████████| 14/14 [00:02<00:00,  5.66it/s]\n"
          ]
        },
        {
          "output_type": "stream",
          "name": "stdout",
          "text": [
            "Running epoch 4/149\n",
            "----------\n"
          ]
        },
        {
          "output_type": "stream",
          "name": "stderr",
          "text": [
            "100%|██████████| 48/48 [00:10<00:00,  4.74it/s]\n",
            "100%|██████████| 14/14 [00:02<00:00,  5.68it/s]\n"
          ]
        },
        {
          "output_type": "stream",
          "name": "stdout",
          "text": [
            "Running epoch 5/149\n",
            "----------\n"
          ]
        },
        {
          "output_type": "stream",
          "name": "stderr",
          "text": [
            "100%|██████████| 48/48 [00:09<00:00,  5.03it/s]\n",
            "100%|██████████| 14/14 [00:03<00:00,  4.50it/s]\n"
          ]
        },
        {
          "output_type": "stream",
          "name": "stdout",
          "text": [
            "Running epoch 6/149\n",
            "----------\n"
          ]
        },
        {
          "output_type": "stream",
          "name": "stderr",
          "text": [
            "100%|██████████| 48/48 [00:08<00:00,  5.65it/s]\n",
            "100%|██████████| 14/14 [00:03<00:00,  3.58it/s]\n"
          ]
        },
        {
          "output_type": "stream",
          "name": "stdout",
          "text": [
            "Running epoch 7/149\n",
            "----------\n"
          ]
        },
        {
          "output_type": "stream",
          "name": "stderr",
          "text": [
            "100%|██████████| 48/48 [00:08<00:00,  5.59it/s]\n",
            "100%|██████████| 14/14 [00:02<00:00,  5.00it/s]\n"
          ]
        },
        {
          "output_type": "stream",
          "name": "stdout",
          "text": [
            "Running epoch 8/149\n",
            "----------\n"
          ]
        },
        {
          "output_type": "stream",
          "name": "stderr",
          "text": [
            "100%|██████████| 48/48 [00:09<00:00,  4.87it/s]\n",
            "100%|██████████| 14/14 [00:02<00:00,  5.59it/s]\n"
          ]
        },
        {
          "output_type": "stream",
          "name": "stdout",
          "text": [
            "Running epoch 9/149\n",
            "----------\n"
          ]
        },
        {
          "output_type": "stream",
          "name": "stderr",
          "text": [
            "100%|██████████| 48/48 [00:10<00:00,  4.68it/s]\n",
            "100%|██████████| 14/14 [00:02<00:00,  5.72it/s]\n"
          ]
        },
        {
          "output_type": "stream",
          "name": "stdout",
          "text": [
            "Running epoch 10/149\n",
            "----------\n"
          ]
        },
        {
          "output_type": "stream",
          "name": "stderr",
          "text": [
            "100%|██████████| 48/48 [00:10<00:00,  4.70it/s]\n",
            "100%|██████████| 14/14 [00:02<00:00,  5.69it/s]\n"
          ]
        },
        {
          "output_type": "stream",
          "name": "stdout",
          "text": [
            "Running epoch 11/149\n",
            "----------\n"
          ]
        },
        {
          "output_type": "stream",
          "name": "stderr",
          "text": [
            "100%|██████████| 48/48 [00:09<00:00,  4.84it/s]\n",
            "100%|██████████| 14/14 [00:02<00:00,  5.32it/s]\n"
          ]
        },
        {
          "output_type": "stream",
          "name": "stdout",
          "text": [
            "Running epoch 12/149\n",
            "----------\n"
          ]
        },
        {
          "output_type": "stream",
          "name": "stderr",
          "text": [
            "100%|██████████| 48/48 [00:08<00:00,  5.58it/s]\n",
            "100%|██████████| 14/14 [00:03<00:00,  3.58it/s]\n"
          ]
        },
        {
          "output_type": "stream",
          "name": "stdout",
          "text": [
            "Running epoch 13/149\n",
            "----------\n"
          ]
        },
        {
          "output_type": "stream",
          "name": "stderr",
          "text": [
            "100%|██████████| 48/48 [00:08<00:00,  5.82it/s]\n",
            "100%|██████████| 14/14 [00:02<00:00,  4.70it/s]\n"
          ]
        },
        {
          "output_type": "stream",
          "name": "stdout",
          "text": [
            "Running epoch 14/149\n",
            "----------\n"
          ]
        },
        {
          "output_type": "stream",
          "name": "stderr",
          "text": [
            "100%|██████████| 48/48 [00:09<00:00,  5.10it/s]\n",
            "100%|██████████| 14/14 [00:02<00:00,  5.77it/s]\n"
          ]
        },
        {
          "output_type": "stream",
          "name": "stdout",
          "text": [
            "Running epoch 15/149\n",
            "----------\n"
          ]
        },
        {
          "output_type": "stream",
          "name": "stderr",
          "text": [
            "100%|██████████| 48/48 [00:10<00:00,  4.72it/s]\n",
            "100%|██████████| 14/14 [00:02<00:00,  5.70it/s]\n"
          ]
        },
        {
          "output_type": "stream",
          "name": "stdout",
          "text": [
            "Running epoch 16/149\n",
            "----------\n"
          ]
        },
        {
          "output_type": "stream",
          "name": "stderr",
          "text": [
            "100%|██████████| 48/48 [00:10<00:00,  4.73it/s]\n",
            "100%|██████████| 14/14 [00:02<00:00,  5.68it/s]\n"
          ]
        },
        {
          "output_type": "stream",
          "name": "stdout",
          "text": [
            "Running epoch 17/149\n",
            "----------\n"
          ]
        },
        {
          "output_type": "stream",
          "name": "stderr",
          "text": [
            "100%|██████████| 48/48 [00:10<00:00,  4.68it/s]\n",
            "100%|██████████| 14/14 [00:02<00:00,  5.43it/s]\n"
          ]
        },
        {
          "output_type": "stream",
          "name": "stdout",
          "text": [
            "Running epoch 18/149\n",
            "----------\n"
          ]
        },
        {
          "output_type": "stream",
          "name": "stderr",
          "text": [
            "100%|██████████| 48/48 [00:08<00:00,  5.50it/s]\n",
            "100%|██████████| 14/14 [00:03<00:00,  3.60it/s]\n"
          ]
        },
        {
          "output_type": "stream",
          "name": "stdout",
          "text": [
            "Running epoch 19/149\n",
            "----------\n"
          ]
        },
        {
          "output_type": "stream",
          "name": "stderr",
          "text": [
            "100%|██████████| 48/48 [00:08<00:00,  5.61it/s]\n",
            "100%|██████████| 14/14 [00:03<00:00,  4.16it/s]\n"
          ]
        },
        {
          "output_type": "stream",
          "name": "stdout",
          "text": [
            "Running epoch 20/149\n",
            "----------\n"
          ]
        },
        {
          "output_type": "stream",
          "name": "stderr",
          "text": [
            "100%|██████████| 48/48 [00:09<00:00,  5.21it/s]\n",
            "100%|██████████| 14/14 [00:02<00:00,  5.78it/s]\n"
          ]
        },
        {
          "output_type": "stream",
          "name": "stdout",
          "text": [
            "Running epoch 21/149\n",
            "----------\n"
          ]
        },
        {
          "output_type": "stream",
          "name": "stderr",
          "text": [
            "100%|██████████| 48/48 [00:10<00:00,  4.56it/s]\n",
            "100%|██████████| 14/14 [00:02<00:00,  5.30it/s]\n"
          ]
        },
        {
          "output_type": "stream",
          "name": "stdout",
          "text": [
            "Running epoch 22/149\n",
            "----------\n"
          ]
        },
        {
          "output_type": "stream",
          "name": "stderr",
          "text": [
            "100%|██████████| 48/48 [00:10<00:00,  4.51it/s]\n",
            "100%|██████████| 14/14 [00:02<00:00,  5.36it/s]\n"
          ]
        },
        {
          "output_type": "stream",
          "name": "stdout",
          "text": [
            "Running epoch 23/149\n",
            "----------\n"
          ]
        },
        {
          "output_type": "stream",
          "name": "stderr",
          "text": [
            "100%|██████████| 48/48 [00:10<00:00,  4.69it/s]\n",
            "100%|██████████| 14/14 [00:02<00:00,  5.60it/s]\n"
          ]
        },
        {
          "output_type": "stream",
          "name": "stdout",
          "text": [
            "Running epoch 24/149\n",
            "----------\n"
          ]
        },
        {
          "output_type": "stream",
          "name": "stderr",
          "text": [
            "100%|██████████| 48/48 [00:12<00:00,  3.88it/s]\n",
            "100%|██████████| 14/14 [00:02<00:00,  5.78it/s]\n"
          ]
        },
        {
          "output_type": "stream",
          "name": "stdout",
          "text": [
            "Running epoch 25/149\n",
            "----------\n"
          ]
        },
        {
          "output_type": "stream",
          "name": "stderr",
          "text": [
            "100%|██████████| 48/48 [00:09<00:00,  4.83it/s]\n",
            "100%|██████████| 14/14 [00:02<00:00,  5.24it/s]\n"
          ]
        },
        {
          "output_type": "stream",
          "name": "stdout",
          "text": [
            "Running epoch 26/149\n",
            "----------\n"
          ]
        },
        {
          "output_type": "stream",
          "name": "stderr",
          "text": [
            "100%|██████████| 48/48 [00:08<00:00,  5.38it/s]\n",
            "100%|██████████| 14/14 [00:03<00:00,  3.57it/s]\n"
          ]
        },
        {
          "output_type": "stream",
          "name": "stdout",
          "text": [
            "Running epoch 27/149\n",
            "----------\n"
          ]
        },
        {
          "output_type": "stream",
          "name": "stderr",
          "text": [
            "100%|██████████| 48/48 [00:08<00:00,  5.70it/s]\n",
            "100%|██████████| 14/14 [00:03<00:00,  4.43it/s]\n"
          ]
        },
        {
          "output_type": "stream",
          "name": "stdout",
          "text": [
            "Running epoch 28/149\n",
            "----------\n"
          ]
        },
        {
          "output_type": "stream",
          "name": "stderr",
          "text": [
            "100%|██████████| 48/48 [00:09<00:00,  5.12it/s]\n",
            "100%|██████████| 14/14 [00:02<00:00,  5.74it/s]\n"
          ]
        },
        {
          "output_type": "stream",
          "name": "stdout",
          "text": [
            "Running epoch 29/149\n",
            "----------\n"
          ]
        },
        {
          "output_type": "stream",
          "name": "stderr",
          "text": [
            "100%|██████████| 48/48 [00:10<00:00,  4.64it/s]\n",
            "100%|██████████| 14/14 [00:02<00:00,  5.68it/s]\n"
          ]
        },
        {
          "output_type": "stream",
          "name": "stdout",
          "text": [
            "Running epoch 30/149\n",
            "----------\n"
          ]
        },
        {
          "output_type": "stream",
          "name": "stderr",
          "text": [
            "100%|██████████| 48/48 [00:10<00:00,  4.70it/s]\n",
            "100%|██████████| 14/14 [00:02<00:00,  5.78it/s]\n"
          ]
        },
        {
          "output_type": "stream",
          "name": "stdout",
          "text": [
            "Running epoch 31/149\n",
            "----------\n"
          ]
        },
        {
          "output_type": "stream",
          "name": "stderr",
          "text": [
            "100%|██████████| 48/48 [00:10<00:00,  4.73it/s]\n",
            "100%|██████████| 14/14 [00:02<00:00,  5.73it/s]\n"
          ]
        },
        {
          "output_type": "stream",
          "name": "stdout",
          "text": [
            "Running epoch 32/149\n",
            "----------\n"
          ]
        },
        {
          "output_type": "stream",
          "name": "stderr",
          "text": [
            "100%|██████████| 48/48 [00:08<00:00,  5.41it/s]\n",
            "100%|██████████| 14/14 [00:03<00:00,  3.70it/s]\n"
          ]
        },
        {
          "output_type": "stream",
          "name": "stdout",
          "text": [
            "Running epoch 33/149\n",
            "----------\n"
          ]
        },
        {
          "output_type": "stream",
          "name": "stderr",
          "text": [
            "100%|██████████| 48/48 [00:08<00:00,  5.79it/s]\n",
            "100%|██████████| 14/14 [00:03<00:00,  4.57it/s]\n"
          ]
        },
        {
          "output_type": "stream",
          "name": "stdout",
          "text": [
            "Running epoch 34/149\n",
            "----------\n"
          ]
        },
        {
          "output_type": "stream",
          "name": "stderr",
          "text": [
            "100%|██████████| 48/48 [00:09<00:00,  5.01it/s]\n",
            "100%|██████████| 14/14 [00:02<00:00,  5.40it/s]\n"
          ]
        },
        {
          "output_type": "stream",
          "name": "stdout",
          "text": [
            "Running epoch 35/149\n",
            "----------\n"
          ]
        },
        {
          "output_type": "stream",
          "name": "stderr",
          "text": [
            "100%|██████████| 48/48 [00:10<00:00,  4.62it/s]\n",
            "100%|██████████| 14/14 [00:02<00:00,  5.54it/s]\n"
          ]
        },
        {
          "output_type": "stream",
          "name": "stdout",
          "text": [
            "Running epoch 36/149\n",
            "----------\n"
          ]
        },
        {
          "output_type": "stream",
          "name": "stderr",
          "text": [
            "100%|██████████| 48/48 [00:10<00:00,  4.67it/s]\n",
            "100%|██████████| 14/14 [00:02<00:00,  5.58it/s]\n"
          ]
        },
        {
          "output_type": "stream",
          "name": "stdout",
          "text": [
            "Running epoch 37/149\n",
            "----------\n"
          ]
        },
        {
          "output_type": "stream",
          "name": "stderr",
          "text": [
            "100%|██████████| 48/48 [00:10<00:00,  4.68it/s]\n",
            "100%|██████████| 14/14 [00:02<00:00,  5.77it/s]\n"
          ]
        },
        {
          "output_type": "stream",
          "name": "stdout",
          "text": [
            "Running epoch 38/149\n",
            "----------\n"
          ]
        },
        {
          "output_type": "stream",
          "name": "stderr",
          "text": [
            "100%|██████████| 48/48 [00:09<00:00,  5.19it/s]\n",
            "100%|██████████| 14/14 [00:03<00:00,  3.93it/s]\n"
          ]
        },
        {
          "output_type": "stream",
          "name": "stdout",
          "text": [
            "Running epoch 39/149\n",
            "----------\n"
          ]
        },
        {
          "output_type": "stream",
          "name": "stderr",
          "text": [
            "100%|██████████| 48/48 [00:08<00:00,  5.71it/s]\n",
            "100%|██████████| 14/14 [00:03<00:00,  4.02it/s]\n"
          ]
        },
        {
          "output_type": "stream",
          "name": "stdout",
          "text": [
            "Running epoch 40/149\n",
            "----------\n"
          ]
        },
        {
          "output_type": "stream",
          "name": "stderr",
          "text": [
            "100%|██████████| 48/48 [00:09<00:00,  5.21it/s]\n",
            "100%|██████████| 14/14 [00:02<00:00,  5.49it/s]\n"
          ]
        },
        {
          "output_type": "stream",
          "name": "stdout",
          "text": [
            "Running epoch 41/149\n",
            "----------\n"
          ]
        },
        {
          "output_type": "stream",
          "name": "stderr",
          "text": [
            "100%|██████████| 48/48 [00:10<00:00,  4.66it/s]\n",
            "100%|██████████| 14/14 [00:02<00:00,  5.40it/s]\n"
          ]
        },
        {
          "output_type": "stream",
          "name": "stdout",
          "text": [
            "Running epoch 42/149\n",
            "----------\n"
          ]
        },
        {
          "output_type": "stream",
          "name": "stderr",
          "text": [
            "100%|██████████| 48/48 [00:10<00:00,  4.70it/s]\n",
            "100%|██████████| 14/14 [00:02<00:00,  5.56it/s]\n"
          ]
        },
        {
          "output_type": "stream",
          "name": "stdout",
          "text": [
            "Running epoch 43/149\n",
            "----------\n"
          ]
        },
        {
          "output_type": "stream",
          "name": "stderr",
          "text": [
            "100%|██████████| 48/48 [00:10<00:00,  4.67it/s]\n",
            "100%|██████████| 14/14 [00:02<00:00,  5.61it/s]\n"
          ]
        },
        {
          "output_type": "stream",
          "name": "stdout",
          "text": [
            "Running epoch 44/149\n",
            "----------\n"
          ]
        },
        {
          "output_type": "stream",
          "name": "stderr",
          "text": [
            "100%|██████████| 48/48 [00:09<00:00,  4.88it/s]\n",
            "100%|██████████| 14/14 [00:02<00:00,  5.31it/s]\n"
          ]
        },
        {
          "output_type": "stream",
          "name": "stdout",
          "text": [
            "Running epoch 45/149\n",
            "----------\n"
          ]
        },
        {
          "output_type": "stream",
          "name": "stderr",
          "text": [
            "100%|██████████| 48/48 [00:09<00:00,  5.31it/s]\n",
            "100%|██████████| 14/14 [00:03<00:00,  3.62it/s]\n"
          ]
        },
        {
          "output_type": "stream",
          "name": "stdout",
          "text": [
            "Running epoch 46/149\n",
            "----------\n"
          ]
        },
        {
          "output_type": "stream",
          "name": "stderr",
          "text": [
            "100%|██████████| 48/48 [00:11<00:00,  4.28it/s]\n",
            "100%|██████████| 14/14 [00:03<00:00,  3.85it/s]\n"
          ]
        },
        {
          "output_type": "stream",
          "name": "stdout",
          "text": [
            "Running epoch 47/149\n",
            "----------\n"
          ]
        },
        {
          "output_type": "stream",
          "name": "stderr",
          "text": [
            "100%|██████████| 48/48 [00:08<00:00,  5.67it/s]\n",
            "100%|██████████| 14/14 [00:03<00:00,  4.13it/s]\n"
          ]
        },
        {
          "output_type": "stream",
          "name": "stdout",
          "text": [
            "Running epoch 48/149\n",
            "----------\n"
          ]
        },
        {
          "output_type": "stream",
          "name": "stderr",
          "text": [
            "100%|██████████| 48/48 [00:09<00:00,  5.07it/s]\n",
            "100%|██████████| 14/14 [00:02<00:00,  5.60it/s]\n"
          ]
        },
        {
          "output_type": "stream",
          "name": "stdout",
          "text": [
            "Running epoch 49/149\n",
            "----------\n"
          ]
        },
        {
          "output_type": "stream",
          "name": "stderr",
          "text": [
            "100%|██████████| 48/48 [00:10<00:00,  4.72it/s]\n",
            "100%|██████████| 14/14 [00:02<00:00,  5.65it/s]\n"
          ]
        },
        {
          "output_type": "stream",
          "name": "stdout",
          "text": [
            "Running epoch 50/149\n",
            "----------\n"
          ]
        },
        {
          "output_type": "stream",
          "name": "stderr",
          "text": [
            "100%|██████████| 48/48 [00:10<00:00,  4.72it/s]\n",
            "100%|██████████| 14/14 [00:02<00:00,  5.52it/s]\n"
          ]
        },
        {
          "output_type": "stream",
          "name": "stdout",
          "text": [
            "Running epoch 51/149\n",
            "----------\n"
          ]
        },
        {
          "output_type": "stream",
          "name": "stderr",
          "text": [
            "100%|██████████| 48/48 [00:10<00:00,  4.75it/s]\n",
            "100%|██████████| 14/14 [00:02<00:00,  5.74it/s]\n"
          ]
        },
        {
          "output_type": "stream",
          "name": "stdout",
          "text": [
            "Running epoch 52/149\n",
            "----------\n"
          ]
        },
        {
          "output_type": "stream",
          "name": "stderr",
          "text": [
            "100%|██████████| 48/48 [00:09<00:00,  4.92it/s]\n",
            "100%|██████████| 14/14 [00:02<00:00,  5.54it/s]\n"
          ]
        },
        {
          "output_type": "stream",
          "name": "stdout",
          "text": [
            "Running epoch 53/149\n",
            "----------\n"
          ]
        },
        {
          "output_type": "stream",
          "name": "stderr",
          "text": [
            "100%|██████████| 48/48 [00:08<00:00,  5.40it/s]\n",
            "100%|██████████| 14/14 [00:03<00:00,  3.62it/s]\n"
          ]
        },
        {
          "output_type": "stream",
          "name": "stdout",
          "text": [
            "Running epoch 54/149\n",
            "----------\n"
          ]
        },
        {
          "output_type": "stream",
          "name": "stderr",
          "text": [
            "100%|██████████| 48/48 [00:08<00:00,  5.82it/s]\n",
            "100%|██████████| 14/14 [00:02<00:00,  4.89it/s]\n"
          ]
        },
        {
          "output_type": "stream",
          "name": "stdout",
          "text": [
            "Running epoch 55/149\n",
            "----------\n"
          ]
        },
        {
          "output_type": "stream",
          "name": "stderr",
          "text": [
            "100%|██████████| 48/48 [00:09<00:00,  4.87it/s]\n",
            "100%|██████████| 14/14 [00:02<00:00,  5.64it/s]\n"
          ]
        },
        {
          "output_type": "stream",
          "name": "stdout",
          "text": [
            "Running epoch 56/149\n",
            "----------\n"
          ]
        },
        {
          "output_type": "stream",
          "name": "stderr",
          "text": [
            "100%|██████████| 48/48 [00:10<00:00,  4.66it/s]\n",
            "100%|██████████| 14/14 [00:02<00:00,  5.69it/s]\n"
          ]
        },
        {
          "output_type": "stream",
          "name": "stdout",
          "text": [
            "Running epoch 57/149\n",
            "----------\n"
          ]
        },
        {
          "output_type": "stream",
          "name": "stderr",
          "text": [
            "100%|██████████| 48/48 [00:10<00:00,  4.72it/s]\n",
            "100%|██████████| 14/14 [00:02<00:00,  5.60it/s]\n"
          ]
        },
        {
          "output_type": "stream",
          "name": "stdout",
          "text": [
            "Running epoch 58/149\n",
            "----------\n"
          ]
        },
        {
          "output_type": "stream",
          "name": "stderr",
          "text": [
            "100%|██████████| 48/48 [00:10<00:00,  4.67it/s]\n",
            "100%|██████████| 14/14 [00:02<00:00,  5.52it/s]\n"
          ]
        },
        {
          "output_type": "stream",
          "name": "stdout",
          "text": [
            "Running epoch 59/149\n",
            "----------\n"
          ]
        },
        {
          "output_type": "stream",
          "name": "stderr",
          "text": [
            "100%|██████████| 48/48 [00:09<00:00,  5.13it/s]\n",
            "100%|██████████| 14/14 [00:03<00:00,  4.27it/s]\n"
          ]
        },
        {
          "output_type": "stream",
          "name": "stdout",
          "text": [
            "Running epoch 60/149\n",
            "----------\n"
          ]
        },
        {
          "output_type": "stream",
          "name": "stderr",
          "text": [
            "100%|██████████| 48/48 [00:08<00:00,  5.64it/s]\n",
            "100%|██████████| 14/14 [00:03<00:00,  3.69it/s]\n"
          ]
        },
        {
          "output_type": "stream",
          "name": "stdout",
          "text": [
            "Running epoch 61/149\n",
            "----------\n"
          ]
        },
        {
          "output_type": "stream",
          "name": "stderr",
          "text": [
            "100%|██████████| 48/48 [00:08<00:00,  5.57it/s]\n",
            "100%|██████████| 14/14 [00:02<00:00,  5.11it/s]\n"
          ]
        },
        {
          "output_type": "stream",
          "name": "stdout",
          "text": [
            "Running epoch 62/149\n",
            "----------\n"
          ]
        },
        {
          "output_type": "stream",
          "name": "stderr",
          "text": [
            "100%|██████████| 48/48 [00:09<00:00,  4.99it/s]\n",
            "100%|██████████| 14/14 [00:02<00:00,  5.88it/s]\n"
          ]
        },
        {
          "output_type": "stream",
          "name": "stdout",
          "text": [
            "Running epoch 63/149\n",
            "----------\n"
          ]
        },
        {
          "output_type": "stream",
          "name": "stderr",
          "text": [
            "100%|██████████| 48/48 [00:10<00:00,  4.69it/s]\n",
            "100%|██████████| 14/14 [00:02<00:00,  5.57it/s]\n"
          ]
        },
        {
          "output_type": "stream",
          "name": "stdout",
          "text": [
            "Running epoch 64/149\n",
            "----------\n"
          ]
        },
        {
          "output_type": "stream",
          "name": "stderr",
          "text": [
            "100%|██████████| 48/48 [00:10<00:00,  4.79it/s]\n",
            "100%|██████████| 14/14 [00:02<00:00,  5.61it/s]\n"
          ]
        },
        {
          "output_type": "stream",
          "name": "stdout",
          "text": [
            "Running epoch 65/149\n",
            "----------\n"
          ]
        },
        {
          "output_type": "stream",
          "name": "stderr",
          "text": [
            "100%|██████████| 48/48 [00:10<00:00,  4.63it/s]\n",
            "100%|██████████| 14/14 [00:02<00:00,  5.70it/s]\n"
          ]
        },
        {
          "output_type": "stream",
          "name": "stdout",
          "text": [
            "Running epoch 66/149\n",
            "----------\n"
          ]
        },
        {
          "output_type": "stream",
          "name": "stderr",
          "text": [
            "100%|██████████| 48/48 [00:09<00:00,  5.24it/s]\n",
            "100%|██████████| 14/14 [00:03<00:00,  3.88it/s]\n"
          ]
        },
        {
          "output_type": "stream",
          "name": "stdout",
          "text": [
            "Running epoch 67/149\n",
            "----------\n"
          ]
        },
        {
          "output_type": "stream",
          "name": "stderr",
          "text": [
            "100%|██████████| 48/48 [00:08<00:00,  5.73it/s]\n",
            "100%|██████████| 14/14 [00:03<00:00,  4.05it/s]\n"
          ]
        },
        {
          "output_type": "stream",
          "name": "stdout",
          "text": [
            "Running epoch 68/149\n",
            "----------\n"
          ]
        },
        {
          "output_type": "stream",
          "name": "stderr",
          "text": [
            "100%|██████████| 48/48 [00:10<00:00,  4.36it/s]\n",
            "100%|██████████| 14/14 [00:03<00:00,  4.28it/s]\n"
          ]
        },
        {
          "output_type": "stream",
          "name": "stdout",
          "text": [
            "Running epoch 69/149\n",
            "----------\n"
          ]
        },
        {
          "output_type": "stream",
          "name": "stderr",
          "text": [
            "100%|██████████| 48/48 [00:08<00:00,  5.34it/s]\n",
            "100%|██████████| 14/14 [00:02<00:00,  5.89it/s]\n"
          ]
        },
        {
          "output_type": "stream",
          "name": "stdout",
          "text": [
            "Running epoch 70/149\n",
            "----------\n"
          ]
        },
        {
          "output_type": "stream",
          "name": "stderr",
          "text": [
            "100%|██████████| 48/48 [00:10<00:00,  4.68it/s]\n",
            "100%|██████████| 14/14 [00:02<00:00,  5.65it/s]\n"
          ]
        },
        {
          "output_type": "stream",
          "name": "stdout",
          "text": [
            "Running epoch 71/149\n",
            "----------\n"
          ]
        },
        {
          "output_type": "stream",
          "name": "stderr",
          "text": [
            "100%|██████████| 48/48 [00:10<00:00,  4.68it/s]\n",
            "100%|██████████| 14/14 [00:02<00:00,  5.65it/s]\n"
          ]
        },
        {
          "output_type": "stream",
          "name": "stdout",
          "text": [
            "Running epoch 72/149\n",
            "----------\n"
          ]
        },
        {
          "output_type": "stream",
          "name": "stderr",
          "text": [
            "100%|██████████| 48/48 [00:10<00:00,  4.69it/s]\n",
            "100%|██████████| 14/14 [00:02<00:00,  5.11it/s]\n"
          ]
        },
        {
          "output_type": "stream",
          "name": "stdout",
          "text": [
            "Running epoch 73/149\n",
            "----------\n"
          ]
        },
        {
          "output_type": "stream",
          "name": "stderr",
          "text": [
            "100%|██████████| 48/48 [00:09<00:00,  5.11it/s]\n",
            "100%|██████████| 14/14 [00:03<00:00,  4.30it/s]\n"
          ]
        },
        {
          "output_type": "stream",
          "name": "stdout",
          "text": [
            "Running epoch 74/149\n",
            "----------\n"
          ]
        },
        {
          "output_type": "stream",
          "name": "stderr",
          "text": [
            "100%|██████████| 48/48 [00:08<00:00,  5.73it/s]\n",
            "100%|██████████| 14/14 [00:03<00:00,  3.62it/s]\n"
          ]
        },
        {
          "output_type": "stream",
          "name": "stdout",
          "text": [
            "Running epoch 75/149\n",
            "----------\n"
          ]
        },
        {
          "output_type": "stream",
          "name": "stderr",
          "text": [
            "100%|██████████| 48/48 [00:08<00:00,  5.57it/s]\n",
            "100%|██████████| 14/14 [00:02<00:00,  4.78it/s]\n"
          ]
        },
        {
          "output_type": "stream",
          "name": "stdout",
          "text": [
            "Running epoch 76/149\n",
            "----------\n"
          ]
        },
        {
          "output_type": "stream",
          "name": "stderr",
          "text": [
            "100%|██████████| 48/48 [00:09<00:00,  4.83it/s]\n",
            "100%|██████████| 14/14 [00:02<00:00,  5.66it/s]\n"
          ]
        },
        {
          "output_type": "stream",
          "name": "stdout",
          "text": [
            "Running epoch 77/149\n",
            "----------\n"
          ]
        },
        {
          "output_type": "stream",
          "name": "stderr",
          "text": [
            "100%|██████████| 48/48 [00:10<00:00,  4.73it/s]\n",
            "100%|██████████| 14/14 [00:02<00:00,  5.57it/s]\n"
          ]
        },
        {
          "output_type": "stream",
          "name": "stdout",
          "text": [
            "Running epoch 78/149\n",
            "----------\n"
          ]
        },
        {
          "output_type": "stream",
          "name": "stderr",
          "text": [
            "100%|██████████| 48/48 [00:10<00:00,  4.80it/s]\n",
            "100%|██████████| 14/14 [00:02<00:00,  5.68it/s]\n"
          ]
        },
        {
          "output_type": "stream",
          "name": "stdout",
          "text": [
            "Running epoch 79/149\n",
            "----------\n"
          ]
        },
        {
          "output_type": "stream",
          "name": "stderr",
          "text": [
            "100%|██████████| 48/48 [00:10<00:00,  4.74it/s]\n",
            "100%|██████████| 14/14 [00:02<00:00,  5.62it/s]\n"
          ]
        },
        {
          "output_type": "stream",
          "name": "stdout",
          "text": [
            "Running epoch 80/149\n",
            "----------\n"
          ]
        },
        {
          "output_type": "stream",
          "name": "stderr",
          "text": [
            "100%|██████████| 48/48 [00:09<00:00,  5.25it/s]\n",
            "100%|██████████| 14/14 [00:03<00:00,  3.93it/s]\n"
          ]
        },
        {
          "output_type": "stream",
          "name": "stdout",
          "text": [
            "Running epoch 81/149\n",
            "----------\n"
          ]
        },
        {
          "output_type": "stream",
          "name": "stderr",
          "text": [
            "100%|██████████| 48/48 [00:08<00:00,  5.83it/s]\n",
            "100%|██████████| 14/14 [00:03<00:00,  3.99it/s]\n"
          ]
        },
        {
          "output_type": "stream",
          "name": "stdout",
          "text": [
            "Running epoch 82/149\n",
            "----------\n"
          ]
        },
        {
          "output_type": "stream",
          "name": "stderr",
          "text": [
            "100%|██████████| 48/48 [00:09<00:00,  5.25it/s]\n",
            "100%|██████████| 14/14 [00:02<00:00,  5.90it/s]\n"
          ]
        },
        {
          "output_type": "stream",
          "name": "stdout",
          "text": [
            "Running epoch 83/149\n",
            "----------\n"
          ]
        },
        {
          "output_type": "stream",
          "name": "stderr",
          "text": [
            "100%|██████████| 48/48 [00:10<00:00,  4.72it/s]\n",
            "100%|██████████| 14/14 [00:02<00:00,  5.75it/s]\n"
          ]
        },
        {
          "output_type": "stream",
          "name": "stdout",
          "text": [
            "Running epoch 84/149\n",
            "----------\n"
          ]
        },
        {
          "output_type": "stream",
          "name": "stderr",
          "text": [
            "100%|██████████| 48/48 [00:10<00:00,  4.73it/s]\n",
            "100%|██████████| 14/14 [00:02<00:00,  5.68it/s]\n"
          ]
        },
        {
          "output_type": "stream",
          "name": "stdout",
          "text": [
            "Running epoch 85/149\n",
            "----------\n"
          ]
        },
        {
          "output_type": "stream",
          "name": "stderr",
          "text": [
            "100%|██████████| 48/48 [00:10<00:00,  4.63it/s]\n",
            "100%|██████████| 14/14 [00:02<00:00,  5.60it/s]\n"
          ]
        },
        {
          "output_type": "stream",
          "name": "stdout",
          "text": [
            "Running epoch 86/149\n",
            "----------\n"
          ]
        },
        {
          "output_type": "stream",
          "name": "stderr",
          "text": [
            "100%|██████████| 48/48 [00:09<00:00,  5.04it/s]\n",
            "100%|██████████| 14/14 [00:02<00:00,  5.03it/s]\n"
          ]
        },
        {
          "output_type": "stream",
          "name": "stdout",
          "text": [
            "Running epoch 87/149\n",
            "----------\n"
          ]
        },
        {
          "output_type": "stream",
          "name": "stderr",
          "text": [
            "100%|██████████| 48/48 [00:08<00:00,  5.57it/s]\n",
            "100%|██████████| 14/14 [00:03<00:00,  3.62it/s]\n"
          ]
        },
        {
          "output_type": "stream",
          "name": "stdout",
          "text": [
            "Running epoch 88/149\n",
            "----------\n"
          ]
        },
        {
          "output_type": "stream",
          "name": "stderr",
          "text": [
            "100%|██████████| 48/48 [00:08<00:00,  5.77it/s]\n",
            "100%|██████████| 14/14 [00:02<00:00,  4.88it/s]\n"
          ]
        },
        {
          "output_type": "stream",
          "name": "stdout",
          "text": [
            "Running epoch 89/149\n",
            "----------\n"
          ]
        },
        {
          "output_type": "stream",
          "name": "stderr",
          "text": [
            "100%|██████████| 48/48 [00:09<00:00,  4.92it/s]\n",
            "100%|██████████| 14/14 [00:02<00:00,  5.85it/s]\n"
          ]
        },
        {
          "output_type": "stream",
          "name": "stdout",
          "text": [
            "Running epoch 90/149\n",
            "----------\n"
          ]
        },
        {
          "output_type": "stream",
          "name": "stderr",
          "text": [
            "100%|██████████| 48/48 [00:11<00:00,  4.09it/s]\n",
            "100%|██████████| 14/14 [00:02<00:00,  5.49it/s]\n"
          ]
        },
        {
          "output_type": "stream",
          "name": "stdout",
          "text": [
            "Running epoch 91/149\n",
            "----------\n"
          ]
        },
        {
          "output_type": "stream",
          "name": "stderr",
          "text": [
            "100%|██████████| 48/48 [00:10<00:00,  4.73it/s]\n",
            "100%|██████████| 14/14 [00:02<00:00,  5.85it/s]\n"
          ]
        },
        {
          "output_type": "stream",
          "name": "stdout",
          "text": [
            "Running epoch 92/149\n",
            "----------\n"
          ]
        },
        {
          "output_type": "stream",
          "name": "stderr",
          "text": [
            "100%|██████████| 48/48 [00:10<00:00,  4.64it/s]\n",
            "100%|██████████| 14/14 [00:02<00:00,  5.78it/s]\n"
          ]
        },
        {
          "output_type": "stream",
          "name": "stdout",
          "text": [
            "Running epoch 93/149\n",
            "----------\n"
          ]
        },
        {
          "output_type": "stream",
          "name": "stderr",
          "text": [
            "100%|██████████| 48/48 [00:09<00:00,  5.07it/s]\n",
            "100%|██████████| 14/14 [00:03<00:00,  4.58it/s]\n"
          ]
        },
        {
          "output_type": "stream",
          "name": "stdout",
          "text": [
            "Running epoch 94/149\n",
            "----------\n"
          ]
        },
        {
          "output_type": "stream",
          "name": "stderr",
          "text": [
            "100%|██████████| 48/48 [00:08<00:00,  5.73it/s]\n",
            "100%|██████████| 14/14 [00:03<00:00,  3.53it/s]\n"
          ]
        },
        {
          "output_type": "stream",
          "name": "stdout",
          "text": [
            "Running epoch 95/149\n",
            "----------\n"
          ]
        },
        {
          "output_type": "stream",
          "name": "stderr",
          "text": [
            "100%|██████████| 48/48 [00:08<00:00,  5.69it/s]\n",
            "100%|██████████| 14/14 [00:02<00:00,  5.04it/s]\n"
          ]
        },
        {
          "output_type": "stream",
          "name": "stdout",
          "text": [
            "Running epoch 96/149\n",
            "----------\n"
          ]
        },
        {
          "output_type": "stream",
          "name": "stderr",
          "text": [
            "100%|██████████| 48/48 [00:09<00:00,  4.92it/s]\n",
            "100%|██████████| 14/14 [00:02<00:00,  5.66it/s]\n"
          ]
        },
        {
          "output_type": "stream",
          "name": "stdout",
          "text": [
            "Running epoch 97/149\n",
            "----------\n"
          ]
        },
        {
          "output_type": "stream",
          "name": "stderr",
          "text": [
            "100%|██████████| 48/48 [00:10<00:00,  4.68it/s]\n",
            "100%|██████████| 14/14 [00:02<00:00,  5.70it/s]\n"
          ]
        },
        {
          "output_type": "stream",
          "name": "stdout",
          "text": [
            "Running epoch 98/149\n",
            "----------\n"
          ]
        },
        {
          "output_type": "stream",
          "name": "stderr",
          "text": [
            "100%|██████████| 48/48 [00:10<00:00,  4.63it/s]\n",
            "100%|██████████| 14/14 [00:02<00:00,  5.76it/s]\n"
          ]
        },
        {
          "output_type": "stream",
          "name": "stdout",
          "text": [
            "Running epoch 99/149\n",
            "----------\n"
          ]
        },
        {
          "output_type": "stream",
          "name": "stderr",
          "text": [
            "100%|██████████| 48/48 [00:10<00:00,  4.76it/s]\n",
            "100%|██████████| 14/14 [00:02<00:00,  5.30it/s]\n"
          ]
        },
        {
          "output_type": "stream",
          "name": "stdout",
          "text": [
            "Running epoch 100/149\n",
            "----------\n"
          ]
        },
        {
          "output_type": "stream",
          "name": "stderr",
          "text": [
            "100%|██████████| 48/48 [00:08<00:00,  5.62it/s]\n",
            "100%|██████████| 14/14 [00:04<00:00,  3.50it/s]\n"
          ]
        },
        {
          "output_type": "stream",
          "name": "stdout",
          "text": [
            "Running epoch 101/149\n",
            "----------\n"
          ]
        },
        {
          "output_type": "stream",
          "name": "stderr",
          "text": [
            "100%|██████████| 48/48 [00:08<00:00,  5.88it/s]\n",
            "100%|██████████| 14/14 [00:03<00:00,  4.62it/s]\n"
          ]
        },
        {
          "output_type": "stream",
          "name": "stdout",
          "text": [
            "Running epoch 102/149\n",
            "----------\n"
          ]
        },
        {
          "output_type": "stream",
          "name": "stderr",
          "text": [
            "100%|██████████| 48/48 [00:09<00:00,  4.85it/s]\n",
            "100%|██████████| 14/14 [00:02<00:00,  5.73it/s]\n"
          ]
        },
        {
          "output_type": "stream",
          "name": "stdout",
          "text": [
            "Running epoch 103/149\n",
            "----------\n"
          ]
        },
        {
          "output_type": "stream",
          "name": "stderr",
          "text": [
            "100%|██████████| 48/48 [00:10<00:00,  4.68it/s]\n",
            "100%|██████████| 14/14 [00:02<00:00,  5.65it/s]\n"
          ]
        },
        {
          "output_type": "stream",
          "name": "stdout",
          "text": [
            "Running epoch 104/149\n",
            "----------\n"
          ]
        },
        {
          "output_type": "stream",
          "name": "stderr",
          "text": [
            "100%|██████████| 48/48 [00:10<00:00,  4.66it/s]\n",
            "100%|██████████| 14/14 [00:02<00:00,  5.76it/s]\n"
          ]
        },
        {
          "output_type": "stream",
          "name": "stdout",
          "text": [
            "Running epoch 105/149\n",
            "----------\n"
          ]
        },
        {
          "output_type": "stream",
          "name": "stderr",
          "text": [
            "100%|██████████| 48/48 [00:10<00:00,  4.62it/s]\n",
            "100%|██████████| 14/14 [00:02<00:00,  5.68it/s]\n"
          ]
        },
        {
          "output_type": "stream",
          "name": "stdout",
          "text": [
            "Running epoch 106/149\n",
            "----------\n"
          ]
        },
        {
          "output_type": "stream",
          "name": "stderr",
          "text": [
            "100%|██████████| 48/48 [00:09<00:00,  5.10it/s]\n",
            "100%|██████████| 14/14 [00:03<00:00,  4.22it/s]\n"
          ]
        },
        {
          "output_type": "stream",
          "name": "stdout",
          "text": [
            "Running epoch 107/149\n",
            "----------\n"
          ]
        },
        {
          "output_type": "stream",
          "name": "stderr",
          "text": [
            "100%|██████████| 48/48 [00:08<00:00,  5.76it/s]\n",
            "100%|██████████| 14/14 [00:03<00:00,  3.77it/s]\n"
          ]
        },
        {
          "output_type": "stream",
          "name": "stdout",
          "text": [
            "Running epoch 108/149\n",
            "----------\n"
          ]
        },
        {
          "output_type": "stream",
          "name": "stderr",
          "text": [
            "100%|██████████| 48/48 [00:09<00:00,  5.16it/s]\n",
            "100%|██████████| 14/14 [00:02<00:00,  4.92it/s]\n"
          ]
        },
        {
          "output_type": "stream",
          "name": "stdout",
          "text": [
            "Running epoch 109/149\n",
            "----------\n"
          ]
        },
        {
          "output_type": "stream",
          "name": "stderr",
          "text": [
            "100%|██████████| 48/48 [00:10<00:00,  4.37it/s]\n",
            "100%|██████████| 14/14 [00:02<00:00,  4.82it/s]\n"
          ]
        },
        {
          "output_type": "stream",
          "name": "stdout",
          "text": [
            "Running epoch 110/149\n",
            "----------\n"
          ]
        },
        {
          "output_type": "stream",
          "name": "stderr",
          "text": [
            "100%|██████████| 48/48 [00:10<00:00,  4.42it/s]\n",
            "100%|██████████| 14/14 [00:02<00:00,  5.25it/s]\n"
          ]
        },
        {
          "output_type": "stream",
          "name": "stdout",
          "text": [
            "Running epoch 111/149\n",
            "----------\n"
          ]
        },
        {
          "output_type": "stream",
          "name": "stderr",
          "text": [
            "100%|██████████| 48/48 [00:10<00:00,  4.51it/s]\n",
            "100%|██████████| 14/14 [00:02<00:00,  5.61it/s]\n"
          ]
        },
        {
          "output_type": "stream",
          "name": "stdout",
          "text": [
            "Running epoch 112/149\n",
            "----------\n"
          ]
        },
        {
          "output_type": "stream",
          "name": "stderr",
          "text": [
            "100%|██████████| 48/48 [00:10<00:00,  4.68it/s]\n",
            "100%|██████████| 14/14 [00:02<00:00,  5.50it/s]\n"
          ]
        },
        {
          "output_type": "stream",
          "name": "stdout",
          "text": [
            "Running epoch 113/149\n",
            "----------\n"
          ]
        },
        {
          "output_type": "stream",
          "name": "stderr",
          "text": [
            "100%|██████████| 48/48 [00:11<00:00,  4.06it/s]\n",
            "100%|██████████| 14/14 [00:02<00:00,  5.70it/s]\n"
          ]
        },
        {
          "output_type": "stream",
          "name": "stdout",
          "text": [
            "Running epoch 114/149\n",
            "----------\n"
          ]
        },
        {
          "output_type": "stream",
          "name": "stderr",
          "text": [
            "100%|██████████| 48/48 [00:09<00:00,  5.00it/s]\n",
            "100%|██████████| 14/14 [00:03<00:00,  4.54it/s]\n"
          ]
        },
        {
          "output_type": "stream",
          "name": "stdout",
          "text": [
            "Running epoch 115/149\n",
            "----------\n"
          ]
        },
        {
          "output_type": "stream",
          "name": "stderr",
          "text": [
            "100%|██████████| 48/48 [00:08<00:00,  5.79it/s]\n",
            "100%|██████████| 14/14 [00:03<00:00,  3.81it/s]\n"
          ]
        },
        {
          "output_type": "stream",
          "name": "stdout",
          "text": [
            "Running epoch 116/149\n",
            "----------\n"
          ]
        },
        {
          "output_type": "stream",
          "name": "stderr",
          "text": [
            "100%|██████████| 48/48 [00:08<00:00,  5.40it/s]\n",
            "100%|██████████| 14/14 [00:02<00:00,  5.40it/s]\n"
          ]
        },
        {
          "output_type": "stream",
          "name": "stdout",
          "text": [
            "Running epoch 117/149\n",
            "----------\n"
          ]
        },
        {
          "output_type": "stream",
          "name": "stderr",
          "text": [
            "100%|██████████| 48/48 [00:09<00:00,  4.86it/s]\n",
            "100%|██████████| 14/14 [00:02<00:00,  5.60it/s]\n"
          ]
        },
        {
          "output_type": "stream",
          "name": "stdout",
          "text": [
            "Running epoch 118/149\n",
            "----------\n"
          ]
        },
        {
          "output_type": "stream",
          "name": "stderr",
          "text": [
            "100%|██████████| 48/48 [00:09<00:00,  4.86it/s]\n",
            "100%|██████████| 14/14 [00:02<00:00,  5.70it/s]\n"
          ]
        },
        {
          "output_type": "stream",
          "name": "stdout",
          "text": [
            "Running epoch 119/149\n",
            "----------\n"
          ]
        },
        {
          "output_type": "stream",
          "name": "stderr",
          "text": [
            "100%|██████████| 48/48 [00:10<00:00,  4.70it/s]\n",
            "100%|██████████| 14/14 [00:02<00:00,  5.45it/s]\n"
          ]
        },
        {
          "output_type": "stream",
          "name": "stdout",
          "text": [
            "Running epoch 120/149\n",
            "----------\n"
          ]
        },
        {
          "output_type": "stream",
          "name": "stderr",
          "text": [
            "100%|██████████| 48/48 [00:09<00:00,  4.97it/s]\n",
            "100%|██████████| 14/14 [00:02<00:00,  5.51it/s]\n"
          ]
        },
        {
          "output_type": "stream",
          "name": "stdout",
          "text": [
            "Running epoch 121/149\n",
            "----------\n"
          ]
        },
        {
          "output_type": "stream",
          "name": "stderr",
          "text": [
            "100%|██████████| 48/48 [00:08<00:00,  5.55it/s]\n",
            "100%|██████████| 14/14 [00:03<00:00,  3.67it/s]\n"
          ]
        },
        {
          "output_type": "stream",
          "name": "stdout",
          "text": [
            "Running epoch 122/149\n",
            "----------\n"
          ]
        },
        {
          "output_type": "stream",
          "name": "stderr",
          "text": [
            "100%|██████████| 48/48 [00:08<00:00,  5.75it/s]\n",
            "100%|██████████| 14/14 [00:02<00:00,  5.19it/s]\n"
          ]
        },
        {
          "output_type": "stream",
          "name": "stdout",
          "text": [
            "Running epoch 123/149\n",
            "----------\n"
          ]
        },
        {
          "output_type": "stream",
          "name": "stderr",
          "text": [
            "100%|██████████| 48/48 [00:09<00:00,  4.84it/s]\n",
            "100%|██████████| 14/14 [00:02<00:00,  5.57it/s]\n"
          ]
        },
        {
          "output_type": "stream",
          "name": "stdout",
          "text": [
            "Running epoch 124/149\n",
            "----------\n"
          ]
        },
        {
          "output_type": "stream",
          "name": "stderr",
          "text": [
            "100%|██████████| 48/48 [00:09<00:00,  4.83it/s]\n",
            "100%|██████████| 14/14 [00:02<00:00,  5.81it/s]\n"
          ]
        },
        {
          "output_type": "stream",
          "name": "stdout",
          "text": [
            "Running epoch 125/149\n",
            "----------\n"
          ]
        },
        {
          "output_type": "stream",
          "name": "stderr",
          "text": [
            "100%|██████████| 48/48 [00:09<00:00,  4.81it/s]\n",
            "100%|██████████| 14/14 [00:02<00:00,  5.67it/s]\n"
          ]
        },
        {
          "output_type": "stream",
          "name": "stdout",
          "text": [
            "Running epoch 126/149\n",
            "----------\n"
          ]
        },
        {
          "output_type": "stream",
          "name": "stderr",
          "text": [
            "100%|██████████| 48/48 [00:09<00:00,  4.94it/s]\n",
            "100%|██████████| 14/14 [00:02<00:00,  5.52it/s]\n"
          ]
        },
        {
          "output_type": "stream",
          "name": "stdout",
          "text": [
            "Running epoch 127/149\n",
            "----------\n"
          ]
        },
        {
          "output_type": "stream",
          "name": "stderr",
          "text": [
            "100%|██████████| 48/48 [00:08<00:00,  5.70it/s]\n",
            "100%|██████████| 14/14 [00:03<00:00,  3.51it/s]\n"
          ]
        },
        {
          "output_type": "stream",
          "name": "stdout",
          "text": [
            "Running epoch 128/149\n",
            "----------\n"
          ]
        },
        {
          "output_type": "stream",
          "name": "stderr",
          "text": [
            "100%|██████████| 48/48 [00:08<00:00,  5.62it/s]\n",
            "100%|██████████| 14/14 [00:02<00:00,  4.68it/s]\n"
          ]
        },
        {
          "output_type": "stream",
          "name": "stdout",
          "text": [
            "Running epoch 129/149\n",
            "----------\n"
          ]
        },
        {
          "output_type": "stream",
          "name": "stderr",
          "text": [
            "100%|██████████| 48/48 [00:09<00:00,  5.14it/s]\n",
            "100%|██████████| 14/14 [00:02<00:00,  5.70it/s]\n"
          ]
        },
        {
          "output_type": "stream",
          "name": "stdout",
          "text": [
            "Running epoch 130/149\n",
            "----------\n"
          ]
        },
        {
          "output_type": "stream",
          "name": "stderr",
          "text": [
            "100%|██████████| 48/48 [00:10<00:00,  4.72it/s]\n",
            "100%|██████████| 14/14 [00:02<00:00,  5.77it/s]\n"
          ]
        },
        {
          "output_type": "stream",
          "name": "stdout",
          "text": [
            "Running epoch 131/149\n",
            "----------\n"
          ]
        },
        {
          "output_type": "stream",
          "name": "stderr",
          "text": [
            "100%|██████████| 48/48 [00:10<00:00,  4.76it/s]\n",
            "100%|██████████| 14/14 [00:02<00:00,  5.61it/s]\n"
          ]
        },
        {
          "output_type": "stream",
          "name": "stdout",
          "text": [
            "Running epoch 132/149\n",
            "----------\n"
          ]
        },
        {
          "output_type": "stream",
          "name": "stderr",
          "text": [
            "100%|██████████| 48/48 [00:10<00:00,  4.70it/s]\n",
            "100%|██████████| 14/14 [00:02<00:00,  5.77it/s]\n"
          ]
        },
        {
          "output_type": "stream",
          "name": "stdout",
          "text": [
            "Running epoch 133/149\n",
            "----------\n"
          ]
        },
        {
          "output_type": "stream",
          "name": "stderr",
          "text": [
            "100%|██████████| 48/48 [00:08<00:00,  5.45it/s]\n",
            "100%|██████████| 14/14 [00:03<00:00,  3.63it/s]\n"
          ]
        },
        {
          "output_type": "stream",
          "name": "stdout",
          "text": [
            "Running epoch 134/149\n",
            "----------\n"
          ]
        },
        {
          "output_type": "stream",
          "name": "stderr",
          "text": [
            "100%|██████████| 48/48 [00:08<00:00,  5.84it/s]\n",
            "100%|██████████| 14/14 [00:03<00:00,  4.46it/s]\n"
          ]
        },
        {
          "output_type": "stream",
          "name": "stdout",
          "text": [
            "Running epoch 135/149\n",
            "----------\n"
          ]
        },
        {
          "output_type": "stream",
          "name": "stderr",
          "text": [
            "100%|██████████| 48/48 [00:09<00:00,  5.13it/s]\n",
            "100%|██████████| 14/14 [00:02<00:00,  5.71it/s]\n"
          ]
        },
        {
          "output_type": "stream",
          "name": "stdout",
          "text": [
            "Running epoch 136/149\n",
            "----------\n"
          ]
        },
        {
          "output_type": "stream",
          "name": "stderr",
          "text": [
            "100%|██████████| 48/48 [00:12<00:00,  3.98it/s]\n",
            "100%|██████████| 14/14 [00:02<00:00,  5.75it/s]\n"
          ]
        },
        {
          "output_type": "stream",
          "name": "stdout",
          "text": [
            "Running epoch 137/149\n",
            "----------\n"
          ]
        },
        {
          "output_type": "stream",
          "name": "stderr",
          "text": [
            "100%|██████████| 48/48 [00:10<00:00,  4.76it/s]\n",
            "100%|██████████| 14/14 [00:02<00:00,  5.73it/s]\n"
          ]
        },
        {
          "output_type": "stream",
          "name": "stdout",
          "text": [
            "Running epoch 138/149\n",
            "----------\n"
          ]
        },
        {
          "output_type": "stream",
          "name": "stderr",
          "text": [
            "100%|██████████| 48/48 [00:09<00:00,  5.01it/s]\n",
            "100%|██████████| 14/14 [00:03<00:00,  4.50it/s]\n"
          ]
        },
        {
          "output_type": "stream",
          "name": "stdout",
          "text": [
            "Running epoch 139/149\n",
            "----------\n"
          ]
        },
        {
          "output_type": "stream",
          "name": "stderr",
          "text": [
            "100%|██████████| 48/48 [00:08<00:00,  5.95it/s]\n",
            "100%|██████████| 14/14 [00:03<00:00,  3.72it/s]\n"
          ]
        },
        {
          "output_type": "stream",
          "name": "stdout",
          "text": [
            "Running epoch 140/149\n",
            "----------\n"
          ]
        },
        {
          "output_type": "stream",
          "name": "stderr",
          "text": [
            "100%|██████████| 48/48 [00:08<00:00,  5.75it/s]\n",
            "100%|██████████| 14/14 [00:02<00:00,  5.64it/s]\n"
          ]
        },
        {
          "output_type": "stream",
          "name": "stdout",
          "text": [
            "Running epoch 141/149\n",
            "----------\n"
          ]
        },
        {
          "output_type": "stream",
          "name": "stderr",
          "text": [
            "100%|██████████| 48/48 [00:09<00:00,  4.83it/s]\n",
            "100%|██████████| 14/14 [00:02<00:00,  5.95it/s]\n"
          ]
        },
        {
          "output_type": "stream",
          "name": "stdout",
          "text": [
            "Running epoch 142/149\n",
            "----------\n"
          ]
        },
        {
          "output_type": "stream",
          "name": "stderr",
          "text": [
            "100%|██████████| 48/48 [00:10<00:00,  4.69it/s]\n",
            "100%|██████████| 14/14 [00:02<00:00,  5.80it/s]\n"
          ]
        },
        {
          "output_type": "stream",
          "name": "stdout",
          "text": [
            "Running epoch 143/149\n",
            "----------\n"
          ]
        },
        {
          "output_type": "stream",
          "name": "stderr",
          "text": [
            "100%|██████████| 48/48 [00:10<00:00,  4.74it/s]\n",
            "100%|██████████| 14/14 [00:02<00:00,  5.62it/s]\n"
          ]
        },
        {
          "output_type": "stream",
          "name": "stdout",
          "text": [
            "Running epoch 144/149\n",
            "----------\n"
          ]
        },
        {
          "output_type": "stream",
          "name": "stderr",
          "text": [
            "100%|██████████| 48/48 [00:09<00:00,  5.28it/s]\n",
            "100%|██████████| 14/14 [00:03<00:00,  4.10it/s]\n"
          ]
        },
        {
          "output_type": "stream",
          "name": "stdout",
          "text": [
            "Running epoch 145/149\n",
            "----------\n"
          ]
        },
        {
          "output_type": "stream",
          "name": "stderr",
          "text": [
            "100%|██████████| 48/48 [00:08<00:00,  5.73it/s]\n",
            "100%|██████████| 14/14 [00:03<00:00,  3.76it/s]\n"
          ]
        },
        {
          "output_type": "stream",
          "name": "stdout",
          "text": [
            "Running epoch 146/149\n",
            "----------\n"
          ]
        },
        {
          "output_type": "stream",
          "name": "stderr",
          "text": [
            "100%|██████████| 48/48 [00:08<00:00,  5.37it/s]\n",
            "100%|██████████| 14/14 [00:02<00:00,  5.81it/s]\n"
          ]
        },
        {
          "output_type": "stream",
          "name": "stdout",
          "text": [
            "Running epoch 147/149\n",
            "----------\n"
          ]
        },
        {
          "output_type": "stream",
          "name": "stderr",
          "text": [
            "100%|██████████| 48/48 [00:10<00:00,  4.72it/s]\n",
            "100%|██████████| 14/14 [00:02<00:00,  5.61it/s]\n"
          ]
        },
        {
          "output_type": "stream",
          "name": "stdout",
          "text": [
            "Running epoch 148/149\n",
            "----------\n"
          ]
        },
        {
          "output_type": "stream",
          "name": "stderr",
          "text": [
            "100%|██████████| 48/48 [00:10<00:00,  4.68it/s]\n",
            "100%|██████████| 14/14 [00:02<00:00,  5.58it/s]\n"
          ]
        },
        {
          "output_type": "stream",
          "name": "stdout",
          "text": [
            "Running epoch 149/149\n",
            "----------\n"
          ]
        },
        {
          "output_type": "stream",
          "name": "stderr",
          "text": [
            "100%|██████████| 48/48 [00:10<00:00,  4.74it/s]\n",
            "100%|██████████| 14/14 [00:02<00:00,  5.62it/s]"
          ]
        },
        {
          "output_type": "stream",
          "name": "stdout",
          "text": [
            "Training complete in 41m 43s\n",
            "Best Validation Accuracy: 1.000000\n"
          ]
        },
        {
          "output_type": "stream",
          "name": "stderr",
          "text": [
            "\n"
          ]
        }
      ],
      "source": [
        "model_trained = train(model, criterion, optimizer, exp_lr_scheduler, num_epochs=150)"
      ]
    },
    {
      "cell_type": "markdown",
      "metadata": {
        "id": "YOvNiRHh0Th6"
      },
      "source": [
        "# Final Evaluation on the Test Dataset"
      ]
    },
    {
      "cell_type": "code",
      "execution_count": null,
      "metadata": {
        "id": "ZoY9bLaL0Th6",
        "colab": {
          "base_uri": "https://localhost:8080/"
        },
        "outputId": "551ef254-2195-4976-bde8-55fe9daf4c92"
      },
      "outputs": [
        {
          "output_type": "stream",
          "name": "stderr",
          "text": [
            "100%|██████████| 16/16 [03:18<00:00, 12.43s/it]\n"
          ]
        },
        {
          "output_type": "stream",
          "name": "stdout",
          "text": [
            "Test Loss: 0.502509\n",
            "\n",
            "Test Accuracy of Bayam: 100% (102/102)\n",
            "Test Accuracy of Kangkung_Air: 100% (95/95)\n",
            "Test Accuracy of Kangkung_Darat: 100% (88/88)\n",
            "Test Accuracy of Kelor: 100% (100/100)\n",
            "Test Accuracy of Pakis: 96% (92/95)\n",
            "\n",
            "Test Accuracy (Overall): 99.3750 (477.0/480.0)\n",
            "Precision: 0.9943\n",
            "Recall: 0.9938\n",
            "F1 Score: 0.9940\n"
          ]
        },
        {
          "output_type": "display_data",
          "data": {
            "text/plain": [
              "<Figure size 500x400 with 2 Axes>"
            ],
            "image/png": "[encoded data removed]"
          },
          "metadata": {}
        }
      ],
      "source": [
        "from sklearn.metrics import confusion_matrix, precision_score, recall_score, f1_score\n",
        "import seaborn as sns\n",
        "import matplotlib.pyplot as plt\n",
        "import torch\n",
        "import numpy as np\n",
        "from tqdm import tqdm\n",
        "\n",
        "def evaluate(model, test_dataloader, criterion, class_categories, BATCH_SIZE):\n",
        "    loss_on_test_dataset = 0.0\n",
        "    correct_class = list(0. for i in range(len(class_categories)))\n",
        "    total_correct_for_all_classes = list(0. for i in range(len(class_categories)))\n",
        "\n",
        "    all_preds = []\n",
        "    all_labels = []\n",
        "\n",
        "    model.eval()\n",
        "\n",
        "    for test_inputs, test_labels in tqdm(test_dataloader):\n",
        "        if torch.cuda.is_available():\n",
        "            test_inputs, test_labels = test_inputs.cuda(), test_labels.cuda()\n",
        "\n",
        "        with torch.no_grad():\n",
        "            output_test = model(test_inputs)\n",
        "            loss = criterion(output_test, test_labels)\n",
        "\n",
        "        loss_on_test_dataset += loss.item() * test_inputs.size(0)\n",
        "        _, pred_test = torch.max(output_test, 1)\n",
        "\n",
        "        all_preds.extend(pred_test.cpu().numpy())\n",
        "        all_labels.extend(test_labels.cpu().numpy())\n",
        "\n",
        "        correct_tensor = pred_test.eq(test_labels.view_as(pred_test))\n",
        "        correct = np.squeeze(correct_tensor.cpu().numpy()) if torch.cuda.is_available() else np.squeeze(correct_tensor.numpy())\n",
        "\n",
        "        if len(test_labels) == BATCH_SIZE:\n",
        "            for i in range(BATCH_SIZE):\n",
        "                label = test_labels.data[i]\n",
        "                correct_class[label] += correct[i].item()\n",
        "                total_correct_for_all_classes[label] += 1\n",
        "\n",
        "    loss_on_test_dataset = loss_on_test_dataset/len(test_dataloader.dataset)\n",
        "    print('Test Loss: {:.6f}\\n'.format(loss_on_test_dataset))\n",
        "\n",
        "    for i in range(len(class_categories)):\n",
        "        if total_correct_for_all_classes[i] > 0:\n",
        "            print('Test Accuracy of %5s: %2d%% (%2d/%2d)' % (\n",
        "                class_categories[i], 100 * correct_class[i] / total_correct_for_all_classes[i],\n",
        "                np.sum(correct_class[i]), np.sum(total_correct_for_all_classes[i])\n",
        "            ))\n",
        "        else:\n",
        "            print('Test Accuracy of %5s: N/A (no training examples)' % (class_categories[i]))\n",
        "\n",
        "    print('\\nTest Accuracy (Overall): {:.4f} ({}/{})'.format(\n",
        "        100 * np.sum(correct_class) / np.sum(total_correct_for_all_classes),\n",
        "        np.sum(correct_class), np.sum(total_correct_for_all_classes)\n",
        "    ))\n",
        "\n",
        "    # Calculate additional metrics\n",
        "    precision = precision_score(all_labels, all_preds, average='macro')\n",
        "    recall = recall_score(all_labels, all_preds, average='macro')\n",
        "    f1 = f1_score(all_labels, all_preds, average='macro')\n",
        "\n",
        "    print('Precision: {:.4f}'.format(precision))\n",
        "    print('Recall: {:.4f}'.format(recall))\n",
        "    print('F1 Score: {:.4f}'.format(f1))\n",
        "\n",
        "    # Confusion matrix\n",
        "    cm = confusion_matrix(all_labels, all_preds)\n",
        "    plt.figure(figsize=(5, 4))\n",
        "    sns.heatmap(cm, annot=True, fmt='d', cmap='Blues', xticklabels=class_categories, yticklabels=class_categories)\n",
        "    plt.xlabel('Predicted')\n",
        "    plt.ylabel('True')\n",
        "    plt.title('Confusion Matrix')\n",
        "    plt.show()\n",
        "\n",
        "# Assuming model_trained, test_dataloader, criterion, class_categories, and BATCH_SIZE are defined\n",
        "evaluate(model_trained, test_dataloader, criterion, class_categories, BATCH_SIZE)"
      ]
    }
  ],
  "metadata": {
    "accelerator": "GPU",
    "colab": {
      "provenance": [],
      "gpuType": "T4"
    },
    "interpreter": {
      "hash": "36cf16204b8548560b1c020c4e8fb5b57f0e4c58016f52f2d4be01e192833930"
    },
    "kernelspec": {
      "display_name": "Python 3",
      "name": "python3"
    },
    "language_info": {
      "codemirror_mode": {
        "name": "ipython",
        "version": 3
      },
      "file_extension": ".py",
      "mimetype": "text/x-python",
      "name": "python",
      "nbconvert_exporter": "python",
      "pygments_lexer": "ipython3",
      "version": "3.9.10"
    }
  },
  "nbformat": 4,
  "nbformat_minor": 0
}