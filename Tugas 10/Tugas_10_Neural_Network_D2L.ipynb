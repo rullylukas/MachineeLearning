{
  "nbformat": 4,
  "nbformat_minor": 0,
  "metadata": {
    "colab": {
      "provenance": []
    },
    "kernelspec": {
      "name": "python3",
      "display_name": "Python 3"
    },
    "language_info": {
      "name": "python"
    }
  },
  "cells": [
    {
      "cell_type": "markdown",
      "source": [
        "Nama : Rully Lukas T\n",
        "\n",
        "NIM : 1103200181\n",
        "\n",
        "Kelas : Machine Learning\n",
        "\n",
        "Tugas 10 Neural Network D2L\n",
        "\n",
        "Link Dataset : https://d2l.ai/chapter_multilayer-perceptrons/kaggle-house-price.html"
      ],
      "metadata": {
        "id": "bKndX5MNBjhV"
      }
    },
    {
      "cell_type": "markdown",
      "source": [
        "# Instalasi dan Memuat Library"
      ],
      "metadata": {
        "id": "ybVsYongB4Kk"
      }
    },
    {
      "cell_type": "code",
      "source": [
        "!pip install d2l"
      ],
      "metadata": {
        "colab": {
          "base_uri": "https://localhost:8080/"
        },
        "id": "4kkVvnCIEVx4",
        "outputId": "a9cd633e-27c8-4e63-ee77-48ac120c2614"
      },
      "execution_count": null,
      "outputs": [
        {
          "output_type": "stream",
          "name": "stdout",
          "text": [
            "Requirement already satisfied: d2l in /usr/local/lib/python3.10/dist-packages (1.0.3)\n",
            "Requirement already satisfied: jupyter==1.0.0 in /usr/local/lib/python3.10/dist-packages (from d2l) (1.0.0)\n",
            "Requirement already satisfied: numpy==1.23.5 in /usr/local/lib/python3.10/dist-packages (from d2l) (1.23.5)\n",
            "Requirement already satisfied: matplotlib==3.7.2 in /usr/local/lib/python3.10/dist-packages (from d2l) (3.7.2)\n",
            "Requirement already satisfied: matplotlib-inline==0.1.6 in /usr/local/lib/python3.10/dist-packages (from d2l) (0.1.6)\n",
            "Requirement already satisfied: requests==2.31.0 in /usr/local/lib/python3.10/dist-packages (from d2l) (2.31.0)\n",
            "Requirement already satisfied: pandas==2.0.3 in /usr/local/lib/python3.10/dist-packages (from d2l) (2.0.3)\n",
            "Requirement already satisfied: scipy==1.10.1 in /usr/local/lib/python3.10/dist-packages (from d2l) (1.10.1)\n",
            "Requirement already satisfied: notebook in /usr/local/lib/python3.10/dist-packages (from jupyter==1.0.0->d2l) (6.5.5)\n",
            "Requirement already satisfied: qtconsole in /usr/local/lib/python3.10/dist-packages (from jupyter==1.0.0->d2l) (5.5.2)\n",
            "Requirement already satisfied: jupyter-console in /usr/local/lib/python3.10/dist-packages (from jupyter==1.0.0->d2l) (6.1.0)\n",
            "Requirement already satisfied: nbconvert in /usr/local/lib/python3.10/dist-packages (from jupyter==1.0.0->d2l) (6.5.4)\n",
            "Requirement already satisfied: ipykernel in /usr/local/lib/python3.10/dist-packages (from jupyter==1.0.0->d2l) (5.5.6)\n",
            "Requirement already satisfied: ipywidgets in /usr/local/lib/python3.10/dist-packages (from jupyter==1.0.0->d2l) (7.7.1)\n",
            "Requirement already satisfied: contourpy>=1.0.1 in /usr/local/lib/python3.10/dist-packages (from matplotlib==3.7.2->d2l) (1.2.1)\n",
            "Requirement already satisfied: cycler>=0.10 in /usr/local/lib/python3.10/dist-packages (from matplotlib==3.7.2->d2l) (0.12.1)\n",
            "Requirement already satisfied: fonttools>=4.22.0 in /usr/local/lib/python3.10/dist-packages (from matplotlib==3.7.2->d2l) (4.51.0)\n",
            "Requirement already satisfied: kiwisolver>=1.0.1 in /usr/local/lib/python3.10/dist-packages (from matplotlib==3.7.2->d2l) (1.4.5)\n",
            "Requirement already satisfied: packaging>=20.0 in /usr/local/lib/python3.10/dist-packages (from matplotlib==3.7.2->d2l) (24.0)\n",
            "Requirement already satisfied: pillow>=6.2.0 in /usr/local/lib/python3.10/dist-packages (from matplotlib==3.7.2->d2l) (9.4.0)\n",
            "Requirement already satisfied: pyparsing<3.1,>=2.3.1 in /usr/local/lib/python3.10/dist-packages (from matplotlib==3.7.2->d2l) (3.0.9)\n",
            "Requirement already satisfied: python-dateutil>=2.7 in /usr/local/lib/python3.10/dist-packages (from matplotlib==3.7.2->d2l) (2.8.2)\n",
            "Requirement already satisfied: traitlets in /usr/local/lib/python3.10/dist-packages (from matplotlib-inline==0.1.6->d2l) (5.7.1)\n",
            "Requirement already satisfied: pytz>=2020.1 in /usr/local/lib/python3.10/dist-packages (from pandas==2.0.3->d2l) (2023.4)\n",
            "Requirement already satisfied: tzdata>=2022.1 in /usr/local/lib/python3.10/dist-packages (from pandas==2.0.3->d2l) (2024.1)\n",
            "Requirement already satisfied: charset-normalizer<4,>=2 in /usr/local/lib/python3.10/dist-packages (from requests==2.31.0->d2l) (3.3.2)\n",
            "Requirement already satisfied: idna<4,>=2.5 in /usr/local/lib/python3.10/dist-packages (from requests==2.31.0->d2l) (3.7)\n",
            "Requirement already satisfied: urllib3<3,>=1.21.1 in /usr/local/lib/python3.10/dist-packages (from requests==2.31.0->d2l) (2.0.7)\n",
            "Requirement already satisfied: certifi>=2017.4.17 in /usr/local/lib/python3.10/dist-packages (from requests==2.31.0->d2l) (2024.2.2)\n",
            "Requirement already satisfied: six>=1.5 in /usr/local/lib/python3.10/dist-packages (from python-dateutil>=2.7->matplotlib==3.7.2->d2l) (1.16.0)\n",
            "Requirement already satisfied: ipython-genutils in /usr/local/lib/python3.10/dist-packages (from ipykernel->jupyter==1.0.0->d2l) (0.2.0)\n",
            "Requirement already satisfied: ipython>=5.0.0 in /usr/local/lib/python3.10/dist-packages (from ipykernel->jupyter==1.0.0->d2l) (7.34.0)\n",
            "Requirement already satisfied: jupyter-client in /usr/local/lib/python3.10/dist-packages (from ipykernel->jupyter==1.0.0->d2l) (6.1.12)\n",
            "Requirement already satisfied: tornado>=4.2 in /usr/local/lib/python3.10/dist-packages (from ipykernel->jupyter==1.0.0->d2l) (6.3.3)\n",
            "Requirement already satisfied: widgetsnbextension~=3.6.0 in /usr/local/lib/python3.10/dist-packages (from ipywidgets->jupyter==1.0.0->d2l) (3.6.6)\n",
            "Requirement already satisfied: jupyterlab-widgets>=1.0.0 in /usr/local/lib/python3.10/dist-packages (from ipywidgets->jupyter==1.0.0->d2l) (3.0.10)\n",
            "Requirement already satisfied: prompt-toolkit!=3.0.0,!=3.0.1,<3.1.0,>=2.0.0 in /usr/local/lib/python3.10/dist-packages (from jupyter-console->jupyter==1.0.0->d2l) (3.0.43)\n",
            "Requirement already satisfied: pygments in /usr/local/lib/python3.10/dist-packages (from jupyter-console->jupyter==1.0.0->d2l) (2.16.1)\n",
            "Requirement already satisfied: lxml in /usr/local/lib/python3.10/dist-packages (from nbconvert->jupyter==1.0.0->d2l) (4.9.4)\n",
            "Requirement already satisfied: beautifulsoup4 in /usr/local/lib/python3.10/dist-packages (from nbconvert->jupyter==1.0.0->d2l) (4.12.3)\n",
            "Requirement already satisfied: bleach in /usr/local/lib/python3.10/dist-packages (from nbconvert->jupyter==1.0.0->d2l) (6.1.0)\n",
            "Requirement already satisfied: defusedxml in /usr/local/lib/python3.10/dist-packages (from nbconvert->jupyter==1.0.0->d2l) (0.7.1)\n",
            "Requirement already satisfied: entrypoints>=0.2.2 in /usr/local/lib/python3.10/dist-packages (from nbconvert->jupyter==1.0.0->d2l) (0.4)\n",
            "Requirement already satisfied: jinja2>=3.0 in /usr/local/lib/python3.10/dist-packages (from nbconvert->jupyter==1.0.0->d2l) (3.1.4)\n",
            "Requirement already satisfied: jupyter-core>=4.7 in /usr/local/lib/python3.10/dist-packages (from nbconvert->jupyter==1.0.0->d2l) (5.7.2)\n",
            "Requirement already satisfied: jupyterlab-pygments in /usr/local/lib/python3.10/dist-packages (from nbconvert->jupyter==1.0.0->d2l) (0.3.0)\n",
            "Requirement already satisfied: MarkupSafe>=2.0 in /usr/local/lib/python3.10/dist-packages (from nbconvert->jupyter==1.0.0->d2l) (2.1.5)\n",
            "Requirement already satisfied: mistune<2,>=0.8.1 in /usr/local/lib/python3.10/dist-packages (from nbconvert->jupyter==1.0.0->d2l) (0.8.4)\n",
            "Requirement already satisfied: nbclient>=0.5.0 in /usr/local/lib/python3.10/dist-packages (from nbconvert->jupyter==1.0.0->d2l) (0.10.0)\n",
            "Requirement already satisfied: nbformat>=5.1 in /usr/local/lib/python3.10/dist-packages (from nbconvert->jupyter==1.0.0->d2l) (5.10.4)\n",
            "Requirement already satisfied: pandocfilters>=1.4.1 in /usr/local/lib/python3.10/dist-packages (from nbconvert->jupyter==1.0.0->d2l) (1.5.1)\n",
            "Requirement already satisfied: tinycss2 in /usr/local/lib/python3.10/dist-packages (from nbconvert->jupyter==1.0.0->d2l) (1.3.0)\n",
            "Requirement already satisfied: pyzmq<25,>=17 in /usr/local/lib/python3.10/dist-packages (from notebook->jupyter==1.0.0->d2l) (24.0.1)\n",
            "Requirement already satisfied: argon2-cffi in /usr/local/lib/python3.10/dist-packages (from notebook->jupyter==1.0.0->d2l) (23.1.0)\n",
            "Requirement already satisfied: nest-asyncio>=1.5 in /usr/local/lib/python3.10/dist-packages (from notebook->jupyter==1.0.0->d2l) (1.6.0)\n",
            "Requirement already satisfied: Send2Trash>=1.8.0 in /usr/local/lib/python3.10/dist-packages (from notebook->jupyter==1.0.0->d2l) (1.8.3)\n",
            "Requirement already satisfied: terminado>=0.8.3 in /usr/local/lib/python3.10/dist-packages (from notebook->jupyter==1.0.0->d2l) (0.18.1)\n",
            "Requirement already satisfied: prometheus-client in /usr/local/lib/python3.10/dist-packages (from notebook->jupyter==1.0.0->d2l) (0.20.0)\n",
            "Requirement already satisfied: nbclassic>=0.4.7 in /usr/local/lib/python3.10/dist-packages (from notebook->jupyter==1.0.0->d2l) (1.0.0)\n",
            "Requirement already satisfied: qtpy>=2.4.0 in /usr/local/lib/python3.10/dist-packages (from qtconsole->jupyter==1.0.0->d2l) (2.4.1)\n",
            "Requirement already satisfied: setuptools>=18.5 in /usr/local/lib/python3.10/dist-packages (from ipython>=5.0.0->ipykernel->jupyter==1.0.0->d2l) (67.7.2)\n",
            "Requirement already satisfied: jedi>=0.16 in /usr/local/lib/python3.10/dist-packages (from ipython>=5.0.0->ipykernel->jupyter==1.0.0->d2l) (0.19.1)\n",
            "Requirement already satisfied: decorator in /usr/local/lib/python3.10/dist-packages (from ipython>=5.0.0->ipykernel->jupyter==1.0.0->d2l) (4.4.2)\n",
            "Requirement already satisfied: pickleshare in /usr/local/lib/python3.10/dist-packages (from ipython>=5.0.0->ipykernel->jupyter==1.0.0->d2l) (0.7.5)\n",
            "Requirement already satisfied: backcall in /usr/local/lib/python3.10/dist-packages (from ipython>=5.0.0->ipykernel->jupyter==1.0.0->d2l) (0.2.0)\n",
            "Requirement already satisfied: pexpect>4.3 in /usr/local/lib/python3.10/dist-packages (from ipython>=5.0.0->ipykernel->jupyter==1.0.0->d2l) (4.9.0)\n",
            "Requirement already satisfied: platformdirs>=2.5 in /usr/local/lib/python3.10/dist-packages (from jupyter-core>=4.7->nbconvert->jupyter==1.0.0->d2l) (4.2.2)\n",
            "Requirement already satisfied: jupyter-server>=1.8 in /usr/local/lib/python3.10/dist-packages (from nbclassic>=0.4.7->notebook->jupyter==1.0.0->d2l) (1.24.0)\n",
            "Requirement already satisfied: notebook-shim>=0.2.3 in /usr/local/lib/python3.10/dist-packages (from nbclassic>=0.4.7->notebook->jupyter==1.0.0->d2l) (0.2.4)\n",
            "Requirement already satisfied: fastjsonschema>=2.15 in /usr/local/lib/python3.10/dist-packages (from nbformat>=5.1->nbconvert->jupyter==1.0.0->d2l) (2.19.1)\n",
            "Requirement already satisfied: jsonschema>=2.6 in /usr/local/lib/python3.10/dist-packages (from nbformat>=5.1->nbconvert->jupyter==1.0.0->d2l) (4.19.2)\n",
            "Requirement already satisfied: wcwidth in /usr/local/lib/python3.10/dist-packages (from prompt-toolkit!=3.0.0,!=3.0.1,<3.1.0,>=2.0.0->jupyter-console->jupyter==1.0.0->d2l) (0.2.13)\n",
            "Requirement already satisfied: ptyprocess in /usr/local/lib/python3.10/dist-packages (from terminado>=0.8.3->notebook->jupyter==1.0.0->d2l) (0.7.0)\n",
            "Requirement already satisfied: argon2-cffi-bindings in /usr/local/lib/python3.10/dist-packages (from argon2-cffi->notebook->jupyter==1.0.0->d2l) (21.2.0)\n",
            "Requirement already satisfied: soupsieve>1.2 in /usr/local/lib/python3.10/dist-packages (from beautifulsoup4->nbconvert->jupyter==1.0.0->d2l) (2.5)\n",
            "Requirement already satisfied: webencodings in /usr/local/lib/python3.10/dist-packages (from bleach->nbconvert->jupyter==1.0.0->d2l) (0.5.1)\n",
            "Requirement already satisfied: parso<0.9.0,>=0.8.3 in /usr/local/lib/python3.10/dist-packages (from jedi>=0.16->ipython>=5.0.0->ipykernel->jupyter==1.0.0->d2l) (0.8.4)\n",
            "Requirement already satisfied: attrs>=22.2.0 in /usr/local/lib/python3.10/dist-packages (from jsonschema>=2.6->nbformat>=5.1->nbconvert->jupyter==1.0.0->d2l) (23.2.0)\n",
            "Requirement already satisfied: jsonschema-specifications>=2023.03.6 in /usr/local/lib/python3.10/dist-packages (from jsonschema>=2.6->nbformat>=5.1->nbconvert->jupyter==1.0.0->d2l) (2023.12.1)\n",
            "Requirement already satisfied: referencing>=0.28.4 in /usr/local/lib/python3.10/dist-packages (from jsonschema>=2.6->nbformat>=5.1->nbconvert->jupyter==1.0.0->d2l) (0.35.1)\n",
            "Requirement already satisfied: rpds-py>=0.7.1 in /usr/local/lib/python3.10/dist-packages (from jsonschema>=2.6->nbformat>=5.1->nbconvert->jupyter==1.0.0->d2l) (0.18.1)\n",
            "Requirement already satisfied: anyio<4,>=3.1.0 in /usr/local/lib/python3.10/dist-packages (from jupyter-server>=1.8->nbclassic>=0.4.7->notebook->jupyter==1.0.0->d2l) (3.7.1)\n",
            "Requirement already satisfied: websocket-client in /usr/local/lib/python3.10/dist-packages (from jupyter-server>=1.8->nbclassic>=0.4.7->notebook->jupyter==1.0.0->d2l) (1.8.0)\n",
            "Requirement already satisfied: cffi>=1.0.1 in /usr/local/lib/python3.10/dist-packages (from argon2-cffi-bindings->argon2-cffi->notebook->jupyter==1.0.0->d2l) (1.16.0)\n",
            "Requirement already satisfied: sniffio>=1.1 in /usr/local/lib/python3.10/dist-packages (from anyio<4,>=3.1.0->jupyter-server>=1.8->nbclassic>=0.4.7->notebook->jupyter==1.0.0->d2l) (1.3.1)\n",
            "Requirement already satisfied: exceptiongroup in /usr/local/lib/python3.10/dist-packages (from anyio<4,>=3.1.0->jupyter-server>=1.8->nbclassic>=0.4.7->notebook->jupyter==1.0.0->d2l) (1.2.1)\n",
            "Requirement already satisfied: pycparser in /usr/local/lib/python3.10/dist-packages (from cffi>=1.0.1->argon2-cffi-bindings->argon2-cffi->notebook->jupyter==1.0.0->d2l) (2.22)\n"
          ]
        }
      ]
    },
    {
      "cell_type": "markdown",
      "source": [
        "Program di atas bertujuan untuk membantu pengguna mengunduh dan menginstal paket d2l, yang merupakan sebuah buku daring tentang pembelajaran mesin dan pembelajaran mendalam. Dengan menginstal paket ini, pengguna dapat menggunakan fungsi-fungsi dan modul-modul yang disediakan dalam buku tersebut secara langsung di lingkungan pengembangan Python mereka."
      ],
      "metadata": {
        "id": "t2pTctguG3Pg"
      }
    },
    {
      "cell_type": "code",
      "execution_count": null,
      "metadata": {
        "id": "r8dLrP__BTU1"
      },
      "outputs": [],
      "source": [
        "%matplotlib inline\n",
        "import pandas as pd\n",
        "import torch\n",
        "from torch import nn\n",
        "from d2l import torch as d2l"
      ]
    },
    {
      "cell_type": "markdown",
      "source": [
        "\n",
        "Kode di atas mengatur matplotlib agar output plot ditampilkan secara langsung di notebook. Kemudian, itu mengimpor modul pandas untuk manipulasi data, serta modul torch untuk komputasi tensor menggunakan PyTorch. Modul torch.nn diimpor untuk pembuatan model neural network, dan d2l.torch diimpor dari paket d2l untuk fungsi-fungsi tambahan yang berkaitan dengan PyTorch dalam buku \"Dive into Deep Learning\"."
      ],
      "metadata": {
        "id": "0uNmM22KG8d4"
      }
    },
    {
      "cell_type": "markdown",
      "source": [
        "# Mengunduh Data"
      ],
      "metadata": {
        "id": "qyDYKjR4E4py"
      }
    },
    {
      "cell_type": "code",
      "source": [
        "def download(url, folder, sha1_hash=None):\n",
        "    \"\"\"Download a file to folder and return the local filepath.\"\"\"\n",
        "\n",
        "def extract(filename, folder):\n",
        "    \"\"\"Extract a zip/tar file into folder.\"\"\""
      ],
      "metadata": {
        "id": "qFEZNzRxCKmd"
      },
      "execution_count": null,
      "outputs": []
    },
    {
      "cell_type": "markdown",
      "source": [
        "Fungsi download mendownload sebuah file dari URL yang diberikan dan menyimpannya di folder yang ditentukan. Fungsi ini kemudian mengembalikan jalur file lokal tempat file tersebut disimpan.\n",
        "\n",
        "Fungsi extract mengekstrak file zip/tar yang diberikan ke dalam folder yang ditentukan."
      ],
      "metadata": {
        "id": "xEe9ieIJHGhg"
      }
    },
    {
      "cell_type": "markdown",
      "source": [
        "# Mengakses dan Membaca Dataset"
      ],
      "metadata": {
        "id": "u_45W5sQFDhg"
      }
    },
    {
      "cell_type": "code",
      "source": [
        "class KaggleHouse(d2l.DataModule):\n",
        "    def __init__(self, batch_size, train=None, val=None):\n",
        "        super().__init__()\n",
        "        self.save_hyperparameters()\n",
        "        if self.train is None:\n",
        "            self.raw_train = pd.read_csv(d2l.download(\n",
        "                d2l.DATA_URL + 'kaggle_house_pred_train.csv', self.root,\n",
        "                sha1_hash='585e9cc93e70b39160e7921475f9bcd7d31219ce'))\n",
        "            self.raw_val = pd.read_csv(d2l.download(\n",
        "                d2l.DATA_URL + 'kaggle_house_pred_test.csv', self.root,\n",
        "                sha1_hash='fa19780a7b011d9b009e8bff8e99922a8ee2eb90'))"
      ],
      "metadata": {
        "id": "Ee4QHtnnFGrq"
      },
      "execution_count": null,
      "outputs": []
    },
    {
      "cell_type": "markdown",
      "source": [
        "Dalam kode di atas, terdapat definisi kelas KaggleHouse yang merupakan turunan dari d2l.DataModule. Kelas ini memiliki metode __init__ yang digunakan untuk inisialisasi objek kelas.\n",
        "\n",
        "- Di dalam metode __init__, super().__init__() dipanggil untuk memanggil metode inisialisasi dari kelas induk, yaitu d2l.DataModule.\n",
        "\n",
        "- self.save_hyperparameters() digunakan untuk menyimpan semua argumen yang dilewatkan ke konstruktor sebagai atribut objek. Ini berguna untuk menyimpan hyperparameter dan kemudian dapat diakses di tempat lain dalam kelas.\n",
        "\n",
        "- Jika argumen train tidak diberikan saat pembuatan objek, maka data latih dan data validasi akan diunduh. Data tersebut diunduh menggunakan fungsi download dari modul d2l dengan URL yang ditentukan dan disimpan di direktori yang ditentukan juga."
      ],
      "metadata": {
        "id": "Ff79zZh4HJjv"
      }
    },
    {
      "cell_type": "code",
      "source": [
        "data = KaggleHouse(batch_size=64)\n",
        "print(data.raw_train.shape)\n",
        "print(data.raw_val.shape)"
      ],
      "metadata": {
        "colab": {
          "base_uri": "https://localhost:8080/"
        },
        "id": "Mh8IQw7QFKCf",
        "outputId": "a1304a05-5945-4124-ccd5-f970751ce264"
      },
      "execution_count": null,
      "outputs": [
        {
          "output_type": "stream",
          "name": "stdout",
          "text": [
            "Downloading ../data/kaggle_house_pred_train.csv from http://d2l-data.s3-accelerate.amazonaws.com/kaggle_house_pred_train.csv...\n",
            "Downloading ../data/kaggle_house_pred_test.csv from http://d2l-data.s3-accelerate.amazonaws.com/kaggle_house_pred_test.csv...\n",
            "(1460, 81)\n",
            "(1459, 80)\n"
          ]
        }
      ]
    },
    {
      "cell_type": "markdown",
      "source": [
        "Kode yang diberikan akan menghasilkan dimensi dari data latih (raw_train) dan data validasi (raw_val) yang telah diunduh. Ini akan mencetak jumlah baris (instances) dan kolom (features) dari kedua dataset tersebut. Sebagai contoh:\n",
        "\n",
        "**Output :**\n",
        "\n",
        "Ini menunjukkan bahwa data latih memiliki 1460 baris dan 81 kolom, sementara data validasi memiliki 1459 baris dan 80 kolom. Biasanya, kolom terakhir di data latih adalah target atau variabel yang akan diprediksi."
      ],
      "metadata": {
        "id": "SsVfnyC8HRcT"
      }
    },
    {
      "cell_type": "markdown",
      "source": [
        "# Pra-Prosesan Data"
      ],
      "metadata": {
        "id": "36cnN63kFNH4"
      }
    },
    {
      "cell_type": "code",
      "source": [
        "print(data.raw_train.iloc[:4, [0, 1, 2, 3, -3, -2, -1]])"
      ],
      "metadata": {
        "colab": {
          "base_uri": "https://localhost:8080/"
        },
        "id": "v5BUxZSbFOn4",
        "outputId": "8f5e477d-629b-4376-e377-c2b88faf86f9"
      },
      "execution_count": null,
      "outputs": [
        {
          "output_type": "stream",
          "name": "stdout",
          "text": [
            "   Id  MSSubClass MSZoning  LotFrontage SaleType SaleCondition  SalePrice\n",
            "0   1          60       RL         65.0       WD        Normal     208500\n",
            "1   2          20       RL         80.0       WD        Normal     181500\n",
            "2   3          60       RL         68.0       WD        Normal     223500\n",
            "3   4          70       RL         60.0       WD       Abnorml     140000\n"
          ]
        }
      ]
    },
    {
      "cell_type": "markdown",
      "source": [
        "Perintah ini akan mencetak empat baris pertama dari data latih (raw_train) beserta kolom-kolom yang dipilih. Pemilihan kolom dilakukan dengan menggunakan indeks kolom, di mana [0, 1, 2, 3, -3, -2, -1] menunjukkan indeks kolom dari 0 hingga 3 (kolom pertama hingga keempat), dan indeks negatif menunjukkan indeks kolom dari belakang (dimulai dari -1 untuk kolom terakhir, -2 untuk kolom kedua dari belakang, dan seterusnya).\n",
        "\n",
        "**Output :**\n",
        "\n",
        "Output yang Anda berikan menampilkan empat baris pertama dari data latih, beserta beberapa kolom yang dipilih:\n",
        "\n",
        "- Kolom pertama adalah \"Id\", yang merupakan identifikasi unik untuk setiap rumah.\n",
        "- Kolom kedua adalah \"MSSubClass\", yang merupakan kode kategori yang menggambarkan tipe rumah.\n",
        "- Kolom ketiga adalah \"MSZoning\", yang merupakan zona zonasi untuk setiap rumah.\n",
        "- Kolom keempat adalah \"LotFrontage\", yang merupakan panjang jalan masuk ke rumah.\n",
        "- Kolom kelima dari belakang adalah \"SaleType\", yang merupakan jenis penjualan rumah.\n",
        "- Kolom keempat dari belakang adalah \"SaleCondition\", yang merupakan kondisi penjualan rumah.\n",
        "- Kolom terakhir adalah \"SalePrice\", yang merupakan harga penjualan rumah.\n",
        "\n",
        "Ini adalah contoh beberapa kolom dan baris pertama dari dataset yang mungkin digunakan dalam proyek prediksi harga rumah, di mana fitur-fitur seperti zona zonasi, luas tanah, dan jenis penjualan dapat mempengaruhi harga penjualan rumah."
      ],
      "metadata": {
        "id": "qtCcD3qWHmF_"
      }
    },
    {
      "cell_type": "code",
      "source": [
        "@d2l.add_to_class(KaggleHouse)\n",
        "def preprocess(self):\n",
        "    # Remove the ID and label columns\n",
        "    label = 'SalePrice'\n",
        "    features = pd.concat(\n",
        "        (self.raw_train.drop(columns=['Id', label]),\n",
        "         self.raw_val.drop(columns=['Id'])))\n",
        "    # Standardize numerical columns\n",
        "    numeric_features = features.dtypes[features.dtypes!='object'].index\n",
        "    features[numeric_features] = features[numeric_features].apply(\n",
        "        lambda x: (x - x.mean()) / (x.std()))\n",
        "    # Replace NAN numerical features by 0\n",
        "    features[numeric_features] = features[numeric_features].fillna(0)\n",
        "    # Replace discrete features by one-hot encoding\n",
        "    features = pd.get_dummies(features, dummy_na=True)\n",
        "    # Save preprocessed features\n",
        "    self.train = features[:self.raw_train.shape[0]].copy()\n",
        "    self.train[label] = self.raw_train[label]\n",
        "    self.val = features[self.raw_train.shape[0]:].copy()"
      ],
      "metadata": {
        "id": "5eM_GLqaFRqG"
      },
      "execution_count": null,
      "outputs": []
    },
    {
      "cell_type": "markdown",
      "source": [
        "Dalam kode yang Anda berikan, terdapat fungsi preprocess yang ditambahkan ke dalam kelas KaggleHouse menggunakan dekorator @d2l.add_to_class(KaggleHouse). Fungsi preprocess ini melakukan beberapa langkah pra-pemrosesan data:\n",
        "\n",
        "Menghapus kolom \"Id\" dan kolom target \"SalePrice\" dari data latih (raw_train) dan data validasi (raw_val).\n",
        "Melakukan standarisasi pada fitur-fitur numerik dengan mengurangkan rata-rata dan membaginya dengan standar deviasi.\n",
        "Mengganti nilai yang hilang pada fitur-fitur numerik dengan nilai 0.\n",
        "Mengganti fitur-fitur kategorikal dengan enkoding one-hot.\n",
        "Menyimpan hasil pra-pemrosesan ke dalam atribut train dan val dari objek KaggleHouse, yang mewakili data latih dan data validasi setelah pra-pemrosesan.\n",
        "Ini adalah prosedur umum pra-pemrosesan data yang sering digunakan sebelum memasukkan data ke dalam model pembelajaran mesin. Langkah-langkah ini membantu dalam meningkatkan kualitas dan keberlanjutan model yang akan dibangun."
      ],
      "metadata": {
        "id": "4AdlzcSKH-Bh"
      }
    },
    {
      "cell_type": "code",
      "source": [
        "data.preprocess()\n",
        "data.train.shape"
      ],
      "metadata": {
        "colab": {
          "base_uri": "https://localhost:8080/"
        },
        "id": "atVHb-H1FUI7",
        "outputId": "ddae3488-e15e-4d6d-eb71-f89debe50d8d"
      },
      "execution_count": null,
      "outputs": [
        {
          "output_type": "execute_result",
          "data": {
            "text/plain": [
              "(1460, 331)"
            ]
          },
          "metadata": {},
          "execution_count": 8
        }
      ]
    },
    {
      "cell_type": "markdown",
      "source": [
        "Setelah menjalankan metode preprocess pada objek data, outputnya adalah (1460, 331). Ini menunjukkan bahwa data latih setelah proses pra-pemrosesan memiliki 1460 baris (instances) dan 331 kolom (features).\n",
        "\n",
        "Langkah-langkah pra-pemrosesan yang dilakukan, seperti standarisasi fitur numerik, penggantian nilai yang hilang, dan enkoding one-hot pada fitur kategorikal, telah menghasilkan penambahan fitur-fitur baru dan mungkin mengubah dimensi dataset. Oleh karena itu, jumlah kolom telah meningkat menjadi 331 setelah proses pra-pemrosesan."
      ],
      "metadata": {
        "id": "Rmy56JtvH-_g"
      }
    },
    {
      "cell_type": "markdown",
      "source": [
        "# Ukuran Kesalahan"
      ],
      "metadata": {
        "id": "6cLQUgKkFZFq"
      }
    },
    {
      "cell_type": "code",
      "source": [
        "@d2l.add_to_class(KaggleHouse)\n",
        "def get_dataloader(self, train):\n",
        "    label = 'SalePrice'\n",
        "    data = self.train if train else self.val\n",
        "    if label not in data: return\n",
        "    get_tensor = lambda x: torch.tensor(x.values.astype(float),\n",
        "                                      dtype=torch.float32)\n",
        "    # Logarithm of prices\n",
        "    tensors = (get_tensor(data.drop(columns=[label])),  # X\n",
        "               torch.log(get_tensor(data[label])).reshape((-1, 1)))  # Y\n",
        "    return self.get_tensorloader(tensors, train)"
      ],
      "metadata": {
        "id": "rgYrJt4FFcRg"
      },
      "execution_count": null,
      "outputs": []
    },
    {
      "cell_type": "markdown",
      "source": [
        "Dekorator @d2l.add_to_class(KaggleHouse) digunakan di sini untuk menambahkan metode get_dataloader ke dalam kelas KaggleHouse. Metode ini bertujuan untuk menghasilkan data loader (pengisi data) yang dapat digunakan untuk melatih atau menguji model.\n",
        "\n",
        "Penjelasan mengenai metode get_dataloader:\n",
        "\n",
        "- Metode ini menerima parameter train, yang menentukan apakah dataloader yang dihasilkan akan digunakan untuk data latih (True) atau data validasi (False).\n",
        "- Metode ini memilih data yang akan digunakan berdasarkan nilai dari parameter train.\n",
        "- Jika label target ('SalePrice') tidak ada dalam data yang dipilih, metode akan mengembalikan None.\n",
        "- Metode ini mengonversi data ke dalam tensor PyTorch dengan menggunakan lambda function get_tensor. Fitur-fitur diubah menjadi tensor float32, sementara target (harga rumah) diubah menjadi tensor float32 dan diambil logaritman.\n",
        "- Setelah data diubah ke dalam bentuk tensor, metode get_tensorloader dari kelas KaggleHouse dipanggil untuk membuat data loader dari tensor-tensor tersebut, yang kemudian dikembalikan.\n",
        "\n",
        "Dengan menggunakan metode ini, kita dapat dengan mudah mendapatkan data loader untuk data latih atau data validasi dari objek KaggleHouse."
      ],
      "metadata": {
        "id": "Gzh8Kl8gIMlI"
      }
    },
    {
      "cell_type": "markdown",
      "source": [
        "# K-Fold Cross Validation"
      ],
      "metadata": {
        "id": "qtDktBOGFdxo"
      }
    },
    {
      "cell_type": "code",
      "source": [
        "def k_fold_data(data, k):\n",
        "    rets = []\n",
        "    fold_size = data.train.shape[0] // k\n",
        "    for j in range(k):\n",
        "        idx = range(j * fold_size, (j+1) * fold_size)\n",
        "        rets.append(KaggleHouse(data.batch_size, data.train.drop(index=idx),\n",
        "                                data.train.loc[idx]))\n",
        "    return rets"
      ],
      "metadata": {
        "id": "hY5bim30Fi7Q"
      },
      "execution_count": null,
      "outputs": []
    },
    {
      "cell_type": "markdown",
      "source": [
        "\n",
        "Fungsi k_fold_data yang diberikan bertujuan untuk membagi data latih menjadi k lipatan (folds) untuk validasi silang. Ini dilakukan dengan membagi data latih menjadi k bagian yang sama besar, dan kemudian menggunakan setiap bagian secara bergantian sebagai data validasi sementara yang lainnya digunakan sebagai data latih. Setiap iterasi dari fungsi ini mengembalikan k objek KaggleHouse, masing-masing mewakili satu lipatan dari data untuk validasi silang.\n",
        "\n",
        "Penjelasan lebih lanjut tentang fungsi k_fold_data:\n",
        "\n",
        "- Fungsi ini menerima dua argumen, yaitu data yang merupakan objek KaggleHouse yang berisi data latih, dan k yang merupakan jumlah lipatan yang diinginkan untuk validasi silang.\n",
        "- Fungsi ini membagi data latih menjadi lipatan dengan ukuran yang sama (fold_size), dengan jumlah total lipatan sama dengan k.\n",
        "- Dalam setiap iterasi, sebuah objek KaggleHouse baru dibuat untuk setiap lipatan. Data latih dari lipatan saat ini dihilangkan dari data latih baru, sedangkan lipatan saat ini digunakan sebagai data validasi.\n",
        "- Setiap objek KaggleHouse baru yang dibuat disimpan dalam sebuah daftar rets.\n",
        "- Setelah iterasi selesai, daftar rets yang berisi objek-objek KaggleHouse untuk setiap lipatan dikembalikan sebagai output dari fungsi.\n",
        "\n",
        "Dengan menggunakan fungsi ini, kita dapat mempersiapkan data untuk validasi silang dengan mudah dan kemudian menggunakan lipatan-lipatan tersebut untuk melatih dan menguji model secara berulang-ulang."
      ],
      "metadata": {
        "id": "JlxxvVD6IVbR"
      }
    },
    {
      "cell_type": "code",
      "source": [
        "def k_fold(trainer, data, k, lr):\n",
        "    val_loss, models = [], []\n",
        "    for i, data_fold in enumerate(k_fold_data(data, k)):\n",
        "        model = d2l.LinearRegression(lr)\n",
        "        model.board.yscale='log'\n",
        "        if i != 0: model.board.display = False\n",
        "        trainer.fit(model, data_fold)\n",
        "        val_loss.append(float(model.board.data['val_loss'][-1].y))\n",
        "        models.append(model)\n",
        "    print(f'average validation log mse = {sum(val_loss)/len(val_loss)}')\n",
        "    return models"
      ],
      "metadata": {
        "id": "IqHboBsnFlG4"
      },
      "execution_count": null,
      "outputs": []
    },
    {
      "cell_type": "markdown",
      "source": [
        "Fungsi k_fold yang diberikan bertujuan untuk melatih model menggunakan validasi silang k-fold. Ini dilakukan dengan menggunakan objek trainer untuk melatih model pada setiap lipatan dari data dan mengukur kerugian pada data validasi. Setelah validasi silang selesai, fungsi ini mengembalikan model-model yang dilatih dan rata-rata kerugian validasi pada semua lipatan.\n",
        "\n",
        "Penjelasan lebih lanjut tentang fungsi k_fold:\n",
        "\n",
        "- Fungsi ini menerima empat argumen, yaitu trainer yang merupakan objek untuk melatih model, data yang merupakan objek KaggleHouse yang berisi data, k yang merupakan jumlah lipatan untuk validasi silang, dan lr yang merupakan tingkat pembelajaran (learning rate).\n",
        "- Fungsi ini menggunakan fungsi k_fold_data untuk membagi data latih menjadi k lipatan.\n",
        "- Selama iterasi melalui setiap lipatan dari data, sebuah model regresi linear baru dibuat dan dilatih menggunakan objek trainer.fit.\n",
        "- Setelah pelatihan selesai, kerugian validasi pada model yang dilatih dievaluasi dan disimpan dalam daftar val_loss.\n",
        "- Model-model yang dilatih dan kerugian validasi yang dihitung kemudian dikembalikan sebagai output dari fungsi, bersama dengan rata-rata kerugian validasi pada semua lipatan.\n",
        "\n",
        "Dengan menggunakan fungsi ini, kita dapat melakukan validasi silang k-fold dengan mudah dan mendapatkan model-model yang dilatih serta evaluasi performanya pada setiap lipatan."
      ],
      "metadata": {
        "id": "9DxibIMNIiae"
      }
    },
    {
      "cell_type": "markdown",
      "source": [
        "# Seleksi Model"
      ],
      "metadata": {
        "id": "wvZRBKg2Ftk5"
      }
    },
    {
      "cell_type": "code",
      "source": [
        "trainer = d2l.Trainer(max_epochs=10)\n",
        "models = k_fold(trainer, data, k=5, lr=0.01)"
      ],
      "metadata": {
        "colab": {
          "base_uri": "https://localhost:8080/",
          "height": 422
        },
        "id": "qWzY97aYFvxX",
        "outputId": "a97ef6fc-8938-4821-a4e9-62720e8dbbc7"
      },
      "execution_count": null,
      "outputs": [
        {
          "output_type": "stream",
          "name": "stderr",
          "text": [
            "/usr/local/lib/python3.10/dist-packages/torch/nn/modules/lazy.py:181: UserWarning: Lazy modules are a new feature under heavy development so changes to the API or functionality can happen at any moment.\n",
            "  warnings.warn('Lazy modules are a new feature under heavy development '\n",
            "/usr/local/lib/python3.10/dist-packages/torch/nn/modules/lazy.py:181: UserWarning: Lazy modules are a new feature under heavy development so changes to the API or functionality can happen at any moment.\n",
            "  warnings.warn('Lazy modules are a new feature under heavy development '\n",
            "/usr/local/lib/python3.10/dist-packages/torch/nn/modules/lazy.py:181: UserWarning: Lazy modules are a new feature under heavy development so changes to the API or functionality can happen at any moment.\n",
            "  warnings.warn('Lazy modules are a new feature under heavy development '\n",
            "/usr/local/lib/python3.10/dist-packages/torch/nn/modules/lazy.py:181: UserWarning: Lazy modules are a new feature under heavy development so changes to the API or functionality can happen at any moment.\n",
            "  warnings.warn('Lazy modules are a new feature under heavy development '\n"
          ]
        },
        {
          "output_type": "stream",
          "name": "stdout",
          "text": [
            "average validation log mse = 0.17597740590572358\n"
          ]
        },
        {
          "output_type": "display_data",
          "data": {
            "text/plain": [
              "<Figure size 350x250 with 1 Axes>"
            ],
            "image/svg+xml": "<?xml version=\"1.0\" encoding=\"utf-8\" standalone=\"no\"?>\n<!DOCTYPE svg PUBLIC \"-//W3C//DTD SVG 1.1//EN\"\n  \"http://www.w3.org/Graphics/SVG/1.1/DTD/svg11.dtd\">\n<svg xmlns:xlink=\"http://www.w3.org/1999/xlink\" width=\"240.6625pt\" height=\"183.35625pt\" viewBox=\"0 0 240.6625 183.35625\" xmlns=\"http://www.w3.org/2000/svg\" version=\"1.1\">\n <metadata>\n  <rdf:RDF xmlns:dc=\"http://purl.org/dc/elements/1.1/\" xmlns:cc=\"http://creativecommons.org/ns#\" xmlns:rdf=\"http://www.w3.org/1999/02/22-rdf-syntax-ns#\">\n   <cc:Work>\n    <dc:type rdf:resource=\"http://purl.org/dc/dcmitype/StillImage\"/>\n    <dc:date>2024-05-23T20:14:31.548388</dc:date>\n    <dc:format>image/svg+xml</dc:format>\n    <dc:creator>\n     <cc:Agent>\n      <dc:title>Matplotlib v3.7.2, https://matplotlib.org/</dc:title>\n     </cc:Agent>\n    </dc:creator>\n   </cc:Work>\n  </rdf:RDF>\n </metadata>\n <defs>\n  <style type=\"text/css\">*{stroke-linejoin: round; stroke-linecap: butt}</style>\n </defs>\n <g id=\"figure_1\">\n  <g id=\"patch_1\">\n   <path d=\"M 0 183.35625 \nL 240.6625 183.35625 \nL 240.6625 0 \nL 0 0 \nz\n\" style=\"fill: #ffffff\"/>\n  </g>\n  <g id=\"axes_1\">\n   <g id=\"patch_2\">\n    <path d=\"M 31.8 145.8 \nL 227.1 145.8 \nL 227.1 7.2 \nL 31.8 7.2 \nz\n\" style=\"fill: #ffffff\"/>\n   </g>\n   <g id=\"matplotlib.axis_1\">\n    <g id=\"xtick_1\">\n     <g id=\"line2d_1\">\n      <defs>\n       <path id=\"m0fdea681f4\" d=\"M 0 0 \nL 0 3.5 \n\" style=\"stroke: #000000; stroke-width: 0.8\"/>\n      </defs>\n      <g>\n       <use xlink:href=\"#m0fdea681f4\" x=\"31.8\" y=\"145.8\" style=\"stroke: #000000; stroke-width: 0.8\"/>\n      </g>\n     </g>\n     <g id=\"text_1\">\n      <!-- 0 -->\n      <g transform=\"translate(28.61875 160.398438) scale(0.1 -0.1)\">\n       <defs>\n        <path id=\"DejaVuSans-30\" d=\"M 2034 4250 \nQ 1547 4250 1301 3770 \nQ 1056 3291 1056 2328 \nQ 1056 1369 1301 889 \nQ 1547 409 2034 409 \nQ 2525 409 2770 889 \nQ 3016 1369 3016 2328 \nQ 3016 3291 2770 3770 \nQ 2525 4250 2034 4250 \nz\nM 2034 4750 \nQ 2819 4750 3233 4129 \nQ 3647 3509 3647 2328 \nQ 3647 1150 3233 529 \nQ 2819 -91 2034 -91 \nQ 1250 -91 836 529 \nQ 422 1150 422 2328 \nQ 422 3509 836 4129 \nQ 1250 4750 2034 4750 \nz\n\" transform=\"scale(0.015625)\"/>\n       </defs>\n       <use xlink:href=\"#DejaVuSans-30\"/>\n      </g>\n     </g>\n    </g>\n    <g id=\"xtick_2\">\n     <g id=\"line2d_2\">\n      <g>\n       <use xlink:href=\"#m0fdea681f4\" x=\"70.86\" y=\"145.8\" style=\"stroke: #000000; stroke-width: 0.8\"/>\n      </g>\n     </g>\n     <g id=\"text_2\">\n      <!-- 2 -->\n      <g transform=\"translate(67.67875 160.398438) scale(0.1 -0.1)\">\n       <defs>\n        <path id=\"DejaVuSans-32\" d=\"M 1228 531 \nL 3431 531 \nL 3431 0 \nL 469 0 \nL 469 531 \nQ 828 903 1448 1529 \nQ 2069 2156 2228 2338 \nQ 2531 2678 2651 2914 \nQ 2772 3150 2772 3378 \nQ 2772 3750 2511 3984 \nQ 2250 4219 1831 4219 \nQ 1534 4219 1204 4116 \nQ 875 4013 500 3803 \nL 500 4441 \nQ 881 4594 1212 4672 \nQ 1544 4750 1819 4750 \nQ 2544 4750 2975 4387 \nQ 3406 4025 3406 3419 \nQ 3406 3131 3298 2873 \nQ 3191 2616 2906 2266 \nQ 2828 2175 2409 1742 \nQ 1991 1309 1228 531 \nz\n\" transform=\"scale(0.015625)\"/>\n       </defs>\n       <use xlink:href=\"#DejaVuSans-32\"/>\n      </g>\n     </g>\n    </g>\n    <g id=\"xtick_3\">\n     <g id=\"line2d_3\">\n      <g>\n       <use xlink:href=\"#m0fdea681f4\" x=\"109.92\" y=\"145.8\" style=\"stroke: #000000; stroke-width: 0.8\"/>\n      </g>\n     </g>\n     <g id=\"text_3\">\n      <!-- 4 -->\n      <g transform=\"translate(106.73875 160.398438) scale(0.1 -0.1)\">\n       <defs>\n        <path id=\"DejaVuSans-34\" d=\"M 2419 4116 \nL 825 1625 \nL 2419 1625 \nL 2419 4116 \nz\nM 2253 4666 \nL 3047 4666 \nL 3047 1625 \nL 3713 1625 \nL 3713 1100 \nL 3047 1100 \nL 3047 0 \nL 2419 0 \nL 2419 1100 \nL 313 1100 \nL 313 1709 \nL 2253 4666 \nz\n\" transform=\"scale(0.015625)\"/>\n       </defs>\n       <use xlink:href=\"#DejaVuSans-34\"/>\n      </g>\n     </g>\n    </g>\n    <g id=\"xtick_4\">\n     <g id=\"line2d_4\">\n      <g>\n       <use xlink:href=\"#m0fdea681f4\" x=\"148.98\" y=\"145.8\" style=\"stroke: #000000; stroke-width: 0.8\"/>\n      </g>\n     </g>\n     <g id=\"text_4\">\n      <!-- 6 -->\n      <g transform=\"translate(145.79875 160.398438) scale(0.1 -0.1)\">\n       <defs>\n        <path id=\"DejaVuSans-36\" d=\"M 2113 2584 \nQ 1688 2584 1439 2293 \nQ 1191 2003 1191 1497 \nQ 1191 994 1439 701 \nQ 1688 409 2113 409 \nQ 2538 409 2786 701 \nQ 3034 994 3034 1497 \nQ 3034 2003 2786 2293 \nQ 2538 2584 2113 2584 \nz\nM 3366 4563 \nL 3366 3988 \nQ 3128 4100 2886 4159 \nQ 2644 4219 2406 4219 \nQ 1781 4219 1451 3797 \nQ 1122 3375 1075 2522 \nQ 1259 2794 1537 2939 \nQ 1816 3084 2150 3084 \nQ 2853 3084 3261 2657 \nQ 3669 2231 3669 1497 \nQ 3669 778 3244 343 \nQ 2819 -91 2113 -91 \nQ 1303 -91 875 529 \nQ 447 1150 447 2328 \nQ 447 3434 972 4092 \nQ 1497 4750 2381 4750 \nQ 2619 4750 2861 4703 \nQ 3103 4656 3366 4563 \nz\n\" transform=\"scale(0.015625)\"/>\n       </defs>\n       <use xlink:href=\"#DejaVuSans-36\"/>\n      </g>\n     </g>\n    </g>\n    <g id=\"xtick_5\">\n     <g id=\"line2d_5\">\n      <g>\n       <use xlink:href=\"#m0fdea681f4\" x=\"188.04\" y=\"145.8\" style=\"stroke: #000000; stroke-width: 0.8\"/>\n      </g>\n     </g>\n     <g id=\"text_5\">\n      <!-- 8 -->\n      <g transform=\"translate(184.85875 160.398438) scale(0.1 -0.1)\">\n       <defs>\n        <path id=\"DejaVuSans-38\" d=\"M 2034 2216 \nQ 1584 2216 1326 1975 \nQ 1069 1734 1069 1313 \nQ 1069 891 1326 650 \nQ 1584 409 2034 409 \nQ 2484 409 2743 651 \nQ 3003 894 3003 1313 \nQ 3003 1734 2745 1975 \nQ 2488 2216 2034 2216 \nz\nM 1403 2484 \nQ 997 2584 770 2862 \nQ 544 3141 544 3541 \nQ 544 4100 942 4425 \nQ 1341 4750 2034 4750 \nQ 2731 4750 3128 4425 \nQ 3525 4100 3525 3541 \nQ 3525 3141 3298 2862 \nQ 3072 2584 2669 2484 \nQ 3125 2378 3379 2068 \nQ 3634 1759 3634 1313 \nQ 3634 634 3220 271 \nQ 2806 -91 2034 -91 \nQ 1263 -91 848 271 \nQ 434 634 434 1313 \nQ 434 1759 690 2068 \nQ 947 2378 1403 2484 \nz\nM 1172 3481 \nQ 1172 3119 1398 2916 \nQ 1625 2713 2034 2713 \nQ 2441 2713 2670 2916 \nQ 2900 3119 2900 3481 \nQ 2900 3844 2670 4047 \nQ 2441 4250 2034 4250 \nQ 1625 4250 1398 4047 \nQ 1172 3844 1172 3481 \nz\n\" transform=\"scale(0.015625)\"/>\n       </defs>\n       <use xlink:href=\"#DejaVuSans-38\"/>\n      </g>\n     </g>\n    </g>\n    <g id=\"xtick_6\">\n     <g id=\"line2d_6\">\n      <g>\n       <use xlink:href=\"#m0fdea681f4\" x=\"227.1\" y=\"145.8\" style=\"stroke: #000000; stroke-width: 0.8\"/>\n      </g>\n     </g>\n     <g id=\"text_6\">\n      <!-- 10 -->\n      <g transform=\"translate(220.7375 160.398438) scale(0.1 -0.1)\">\n       <defs>\n        <path id=\"DejaVuSans-31\" d=\"M 794 531 \nL 1825 531 \nL 1825 4091 \nL 703 3866 \nL 703 4441 \nL 1819 4666 \nL 2450 4666 \nL 2450 531 \nL 3481 531 \nL 3481 0 \nL 794 0 \nL 794 531 \nz\n\" transform=\"scale(0.015625)\"/>\n       </defs>\n       <use xlink:href=\"#DejaVuSans-31\"/>\n       <use xlink:href=\"#DejaVuSans-30\" x=\"63.623047\"/>\n      </g>\n     </g>\n    </g>\n    <g id=\"text_7\">\n     <!-- epoch -->\n     <g transform=\"translate(114.221875 174.076563) scale(0.1 -0.1)\">\n      <defs>\n       <path id=\"DejaVuSans-65\" d=\"M 3597 1894 \nL 3597 1613 \nL 953 1613 \nQ 991 1019 1311 708 \nQ 1631 397 2203 397 \nQ 2534 397 2845 478 \nQ 3156 559 3463 722 \nL 3463 178 \nQ 3153 47 2828 -22 \nQ 2503 -91 2169 -91 \nQ 1331 -91 842 396 \nQ 353 884 353 1716 \nQ 353 2575 817 3079 \nQ 1281 3584 2069 3584 \nQ 2775 3584 3186 3129 \nQ 3597 2675 3597 1894 \nz\nM 3022 2063 \nQ 3016 2534 2758 2815 \nQ 2500 3097 2075 3097 \nQ 1594 3097 1305 2825 \nQ 1016 2553 972 2059 \nL 3022 2063 \nz\n\" transform=\"scale(0.015625)\"/>\n       <path id=\"DejaVuSans-70\" d=\"M 1159 525 \nL 1159 -1331 \nL 581 -1331 \nL 581 3500 \nL 1159 3500 \nL 1159 2969 \nQ 1341 3281 1617 3432 \nQ 1894 3584 2278 3584 \nQ 2916 3584 3314 3078 \nQ 3713 2572 3713 1747 \nQ 3713 922 3314 415 \nQ 2916 -91 2278 -91 \nQ 1894 -91 1617 61 \nQ 1341 213 1159 525 \nz\nM 3116 1747 \nQ 3116 2381 2855 2742 \nQ 2594 3103 2138 3103 \nQ 1681 3103 1420 2742 \nQ 1159 2381 1159 1747 \nQ 1159 1113 1420 752 \nQ 1681 391 2138 391 \nQ 2594 391 2855 752 \nQ 3116 1113 3116 1747 \nz\n\" transform=\"scale(0.015625)\"/>\n       <path id=\"DejaVuSans-6f\" d=\"M 1959 3097 \nQ 1497 3097 1228 2736 \nQ 959 2375 959 1747 \nQ 959 1119 1226 758 \nQ 1494 397 1959 397 \nQ 2419 397 2687 759 \nQ 2956 1122 2956 1747 \nQ 2956 2369 2687 2733 \nQ 2419 3097 1959 3097 \nz\nM 1959 3584 \nQ 2709 3584 3137 3096 \nQ 3566 2609 3566 1747 \nQ 3566 888 3137 398 \nQ 2709 -91 1959 -91 \nQ 1206 -91 779 398 \nQ 353 888 353 1747 \nQ 353 2609 779 3096 \nQ 1206 3584 1959 3584 \nz\n\" transform=\"scale(0.015625)\"/>\n       <path id=\"DejaVuSans-63\" d=\"M 3122 3366 \nL 3122 2828 \nQ 2878 2963 2633 3030 \nQ 2388 3097 2138 3097 \nQ 1578 3097 1268 2742 \nQ 959 2388 959 1747 \nQ 959 1106 1268 751 \nQ 1578 397 2138 397 \nQ 2388 397 2633 464 \nQ 2878 531 3122 666 \nL 3122 134 \nQ 2881 22 2623 -34 \nQ 2366 -91 2075 -91 \nQ 1284 -91 818 406 \nQ 353 903 353 1747 \nQ 353 2603 823 3093 \nQ 1294 3584 2113 3584 \nQ 2378 3584 2631 3529 \nQ 2884 3475 3122 3366 \nz\n\" transform=\"scale(0.015625)\"/>\n       <path id=\"DejaVuSans-68\" d=\"M 3513 2113 \nL 3513 0 \nL 2938 0 \nL 2938 2094 \nQ 2938 2591 2744 2837 \nQ 2550 3084 2163 3084 \nQ 1697 3084 1428 2787 \nQ 1159 2491 1159 1978 \nL 1159 0 \nL 581 0 \nL 581 4863 \nL 1159 4863 \nL 1159 2956 \nQ 1366 3272 1645 3428 \nQ 1925 3584 2291 3584 \nQ 2894 3584 3203 3211 \nQ 3513 2838 3513 2113 \nz\n\" transform=\"scale(0.015625)\"/>\n      </defs>\n      <use xlink:href=\"#DejaVuSans-65\"/>\n      <use xlink:href=\"#DejaVuSans-70\" x=\"61.523438\"/>\n      <use xlink:href=\"#DejaVuSans-6f\" x=\"125\"/>\n      <use xlink:href=\"#DejaVuSans-63\" x=\"186.181641\"/>\n      <use xlink:href=\"#DejaVuSans-68\" x=\"241.162109\"/>\n     </g>\n    </g>\n   </g>\n   <g id=\"matplotlib.axis_2\">\n    <g id=\"ytick_1\">\n     <g id=\"line2d_7\">\n      <defs>\n       <path id=\"me8906bd5cb\" d=\"M 0 0 \nL -3.5 0 \n\" style=\"stroke: #000000; stroke-width: 0.8\"/>\n      </defs>\n      <g>\n       <use xlink:href=\"#me8906bd5cb\" x=\"31.8\" y=\"90.984633\" style=\"stroke: #000000; stroke-width: 0.8\"/>\n      </g>\n     </g>\n     <g id=\"text_8\">\n      <!-- $\\mathdefault{10^{0}}$ -->\n      <g transform=\"translate(7.2 94.783852) scale(0.1 -0.1)\">\n       <use xlink:href=\"#DejaVuSans-31\" transform=\"translate(0 0.765625)\"/>\n       <use xlink:href=\"#DejaVuSans-30\" transform=\"translate(63.623047 0.765625)\"/>\n       <use xlink:href=\"#DejaVuSans-30\" transform=\"translate(128.203125 39.046875) scale(0.7)\"/>\n      </g>\n     </g>\n    </g>\n    <g id=\"ytick_2\">\n     <g id=\"line2d_8\">\n      <g>\n       <use xlink:href=\"#me8906bd5cb\" x=\"31.8\" y=\"31.868178\" style=\"stroke: #000000; stroke-width: 0.8\"/>\n      </g>\n     </g>\n     <g id=\"text_9\">\n      <!-- $\\mathdefault{10^{1}}$ -->\n      <g transform=\"translate(7.2 35.667397) scale(0.1 -0.1)\">\n       <use xlink:href=\"#DejaVuSans-31\" transform=\"translate(0 0.684375)\"/>\n       <use xlink:href=\"#DejaVuSans-30\" transform=\"translate(63.623047 0.684375)\"/>\n       <use xlink:href=\"#DejaVuSans-31\" transform=\"translate(128.203125 38.965625) scale(0.7)\"/>\n      </g>\n     </g>\n    </g>\n    <g id=\"ytick_3\">\n     <g id=\"line2d_9\">\n      <defs>\n       <path id=\"m3b9119348a\" d=\"M 0 0 \nL -2 0 \n\" style=\"stroke: #000000; stroke-width: 0.6\"/>\n      </defs>\n      <g>\n       <use xlink:href=\"#m3b9119348a\" x=\"31.8\" y=\"132.305262\" style=\"stroke: #000000; stroke-width: 0.6\"/>\n      </g>\n     </g>\n    </g>\n    <g id=\"ytick_4\">\n     <g id=\"line2d_10\">\n      <g>\n       <use xlink:href=\"#m3b9119348a\" x=\"31.8\" y=\"121.895371\" style=\"stroke: #000000; stroke-width: 0.6\"/>\n      </g>\n     </g>\n    </g>\n    <g id=\"ytick_5\">\n     <g id=\"line2d_11\">\n      <g>\n       <use xlink:href=\"#m3b9119348a\" x=\"31.8\" y=\"114.509436\" style=\"stroke: #000000; stroke-width: 0.6\"/>\n      </g>\n     </g>\n    </g>\n    <g id=\"ytick_6\">\n     <g id=\"line2d_12\">\n      <g>\n       <use xlink:href=\"#m3b9119348a\" x=\"31.8\" y=\"108.780459\" style=\"stroke: #000000; stroke-width: 0.6\"/>\n      </g>\n     </g>\n    </g>\n    <g id=\"ytick_7\">\n     <g id=\"line2d_13\">\n      <g>\n       <use xlink:href=\"#m3b9119348a\" x=\"31.8\" y=\"104.099545\" style=\"stroke: #000000; stroke-width: 0.6\"/>\n      </g>\n     </g>\n    </g>\n    <g id=\"ytick_8\">\n     <g id=\"line2d_14\">\n      <g>\n       <use xlink:href=\"#m3b9119348a\" x=\"31.8\" y=\"100.141888\" style=\"stroke: #000000; stroke-width: 0.6\"/>\n      </g>\n     </g>\n    </g>\n    <g id=\"ytick_9\">\n     <g id=\"line2d_15\">\n      <g>\n       <use xlink:href=\"#m3b9119348a\" x=\"31.8\" y=\"96.71361\" style=\"stroke: #000000; stroke-width: 0.6\"/>\n      </g>\n     </g>\n    </g>\n    <g id=\"ytick_10\">\n     <g id=\"line2d_16\">\n      <g>\n       <use xlink:href=\"#m3b9119348a\" x=\"31.8\" y=\"93.689654\" style=\"stroke: #000000; stroke-width: 0.6\"/>\n      </g>\n     </g>\n    </g>\n    <g id=\"ytick_11\">\n     <g id=\"line2d_17\">\n      <g>\n       <use xlink:href=\"#m3b9119348a\" x=\"31.8\" y=\"73.188807\" style=\"stroke: #000000; stroke-width: 0.6\"/>\n      </g>\n     </g>\n    </g>\n    <g id=\"ytick_12\">\n     <g id=\"line2d_18\">\n      <g>\n       <use xlink:href=\"#m3b9119348a\" x=\"31.8\" y=\"62.778916\" style=\"stroke: #000000; stroke-width: 0.6\"/>\n      </g>\n     </g>\n    </g>\n    <g id=\"ytick_13\">\n     <g id=\"line2d_19\">\n      <g>\n       <use xlink:href=\"#m3b9119348a\" x=\"31.8\" y=\"55.392981\" style=\"stroke: #000000; stroke-width: 0.6\"/>\n      </g>\n     </g>\n    </g>\n    <g id=\"ytick_14\">\n     <g id=\"line2d_20\">\n      <g>\n       <use xlink:href=\"#m3b9119348a\" x=\"31.8\" y=\"49.664005\" style=\"stroke: #000000; stroke-width: 0.6\"/>\n      </g>\n     </g>\n    </g>\n    <g id=\"ytick_15\">\n     <g id=\"line2d_21\">\n      <g>\n       <use xlink:href=\"#m3b9119348a\" x=\"31.8\" y=\"44.98309\" style=\"stroke: #000000; stroke-width: 0.6\"/>\n      </g>\n     </g>\n    </g>\n    <g id=\"ytick_16\">\n     <g id=\"line2d_22\">\n      <g>\n       <use xlink:href=\"#m3b9119348a\" x=\"31.8\" y=\"41.025433\" style=\"stroke: #000000; stroke-width: 0.6\"/>\n      </g>\n     </g>\n    </g>\n    <g id=\"ytick_17\">\n     <g id=\"line2d_23\">\n      <g>\n       <use xlink:href=\"#m3b9119348a\" x=\"31.8\" y=\"37.597155\" style=\"stroke: #000000; stroke-width: 0.6\"/>\n      </g>\n     </g>\n    </g>\n    <g id=\"ytick_18\">\n     <g id=\"line2d_24\">\n      <g>\n       <use xlink:href=\"#m3b9119348a\" x=\"31.8\" y=\"34.573199\" style=\"stroke: #000000; stroke-width: 0.6\"/>\n      </g>\n     </g>\n    </g>\n    <g id=\"ytick_19\">\n     <g id=\"line2d_25\">\n      <g>\n       <use xlink:href=\"#m3b9119348a\" x=\"31.8\" y=\"14.072352\" style=\"stroke: #000000; stroke-width: 0.6\"/>\n      </g>\n     </g>\n    </g>\n   </g>\n   <g id=\"line2d_26\">\n    <path d=\"M 35.911579 13.5 \n\" clip-path=\"url(#pe47adda5d8)\" style=\"fill: none; stroke: #1f77b4; stroke-width: 1.5; stroke-linecap: square\"/>\n   </g>\n   <g id=\"line2d_27\">\n    <path d=\"M 35.911579 13.5 \nL 45.162632 107.217044 \n\" clip-path=\"url(#pe47adda5d8)\" style=\"fill: none; stroke: #1f77b4; stroke-width: 1.5; stroke-linecap: square\"/>\n   </g>\n   <g id=\"line2d_28\">\n    <path d=\"M 35.911579 13.5 \nL 45.162632 107.217044 \n\" clip-path=\"url(#pe47adda5d8)\" style=\"fill: none; stroke: #1f77b4; stroke-width: 1.5; stroke-linecap: square\"/>\n   </g>\n   <g id=\"line2d_29\">\n    <path d=\"M 51.33 109.644499 \n\" clip-path=\"url(#pe47adda5d8)\" style=\"fill: none; stroke-dasharray: 5.55,2.4; stroke-dashoffset: 0; stroke: #ff7f0e; stroke-width: 1.5\"/>\n   </g>\n   <g id=\"line2d_30\">\n    <path d=\"M 35.911579 13.5 \nL 45.162632 107.217044 \nL 54.413684 112.674841 \n\" clip-path=\"url(#pe47adda5d8)\" style=\"fill: none; stroke: #1f77b4; stroke-width: 1.5; stroke-linecap: square\"/>\n   </g>\n   <g id=\"line2d_31\">\n    <path d=\"M 51.33 109.644499 \n\" clip-path=\"url(#pe47adda5d8)\" style=\"fill: none; stroke-dasharray: 5.55,2.4; stroke-dashoffset: 0; stroke: #ff7f0e; stroke-width: 1.5\"/>\n   </g>\n   <g id=\"line2d_32\">\n    <path d=\"M 35.911579 13.5 \nL 45.162632 107.217044 \nL 54.413684 112.674841 \nL 63.664737 113.037577 \n\" clip-path=\"url(#pe47adda5d8)\" style=\"fill: none; stroke: #1f77b4; stroke-width: 1.5; stroke-linecap: square\"/>\n   </g>\n   <g id=\"line2d_33\">\n    <path d=\"M 51.33 109.644499 \n\" clip-path=\"url(#pe47adda5d8)\" style=\"fill: none; stroke-dasharray: 5.55,2.4; stroke-dashoffset: 0; stroke: #ff7f0e; stroke-width: 1.5\"/>\n   </g>\n   <g id=\"line2d_34\">\n    <path d=\"M 35.911579 13.5 \nL 45.162632 107.217044 \nL 54.413684 112.674841 \nL 63.664737 113.037577 \n\" clip-path=\"url(#pe47adda5d8)\" style=\"fill: none; stroke: #1f77b4; stroke-width: 1.5; stroke-linecap: square\"/>\n   </g>\n   <g id=\"line2d_35\">\n    <path d=\"M 51.33 109.644499 \nL 70.86 116.854866 \n\" clip-path=\"url(#pe47adda5d8)\" style=\"fill: none; stroke-dasharray: 5.55,2.4; stroke-dashoffset: 0; stroke: #ff7f0e; stroke-width: 1.5\"/>\n   </g>\n   <g id=\"line2d_36\">\n    <path d=\"M 35.911579 13.5 \nL 45.162632 107.217044 \nL 54.413684 112.674841 \nL 63.664737 113.037577 \nL 72.915789 115.706491 \n\" clip-path=\"url(#pe47adda5d8)\" style=\"fill: none; stroke: #1f77b4; stroke-width: 1.5; stroke-linecap: square\"/>\n   </g>\n   <g id=\"line2d_37\">\n    <path d=\"M 51.33 109.644499 \nL 70.86 116.854866 \n\" clip-path=\"url(#pe47adda5d8)\" style=\"fill: none; stroke-dasharray: 5.55,2.4; stroke-dashoffset: 0; stroke: #ff7f0e; stroke-width: 1.5\"/>\n   </g>\n   <g id=\"line2d_38\">\n    <path d=\"M 35.911579 13.5 \nL 45.162632 107.217044 \nL 54.413684 112.674841 \nL 63.664737 113.037577 \nL 72.915789 115.706491 \nL 82.166842 120.413481 \n\" clip-path=\"url(#pe47adda5d8)\" style=\"fill: none; stroke: #1f77b4; stroke-width: 1.5; stroke-linecap: square\"/>\n   </g>\n   <g id=\"line2d_39\">\n    <path d=\"M 51.33 109.644499 \nL 70.86 116.854866 \n\" clip-path=\"url(#pe47adda5d8)\" style=\"fill: none; stroke-dasharray: 5.55,2.4; stroke-dashoffset: 0; stroke: #ff7f0e; stroke-width: 1.5\"/>\n   </g>\n   <g id=\"line2d_40\">\n    <path d=\"M 35.911579 13.5 \nL 45.162632 107.217044 \nL 54.413684 112.674841 \nL 63.664737 113.037577 \nL 72.915789 115.706491 \nL 82.166842 120.413481 \n\" clip-path=\"url(#pe47adda5d8)\" style=\"fill: none; stroke: #1f77b4; stroke-width: 1.5; stroke-linecap: square\"/>\n   </g>\n   <g id=\"line2d_41\">\n    <path d=\"M 51.33 109.644499 \nL 70.86 116.854866 \nL 90.39 122.304878 \n\" clip-path=\"url(#pe47adda5d8)\" style=\"fill: none; stroke-dasharray: 5.55,2.4; stroke-dashoffset: 0; stroke: #ff7f0e; stroke-width: 1.5\"/>\n   </g>\n   <g id=\"line2d_42\">\n    <path d=\"M 35.911579 13.5 \nL 45.162632 107.217044 \nL 54.413684 112.674841 \nL 63.664737 113.037577 \nL 72.915789 115.706491 \nL 82.166842 120.413481 \nL 91.417895 120.684057 \n\" clip-path=\"url(#pe47adda5d8)\" style=\"fill: none; stroke: #1f77b4; stroke-width: 1.5; stroke-linecap: square\"/>\n   </g>\n   <g id=\"line2d_43\">\n    <path d=\"M 51.33 109.644499 \nL 70.86 116.854866 \nL 90.39 122.304878 \n\" clip-path=\"url(#pe47adda5d8)\" style=\"fill: none; stroke-dasharray: 5.55,2.4; stroke-dashoffset: 0; stroke: #ff7f0e; stroke-width: 1.5\"/>\n   </g>\n   <g id=\"line2d_44\">\n    <path d=\"M 35.911579 13.5 \nL 45.162632 107.217044 \nL 54.413684 112.674841 \nL 63.664737 113.037577 \nL 72.915789 115.706491 \nL 82.166842 120.413481 \nL 91.417895 120.684057 \nL 100.668947 123.041088 \n\" clip-path=\"url(#pe47adda5d8)\" style=\"fill: none; stroke: #1f77b4; stroke-width: 1.5; stroke-linecap: square\"/>\n   </g>\n   <g id=\"line2d_45\">\n    <path d=\"M 51.33 109.644499 \nL 70.86 116.854866 \nL 90.39 122.304878 \n\" clip-path=\"url(#pe47adda5d8)\" style=\"fill: none; stroke-dasharray: 5.55,2.4; stroke-dashoffset: 0; stroke: #ff7f0e; stroke-width: 1.5\"/>\n   </g>\n   <g id=\"line2d_46\">\n    <path d=\"M 35.911579 13.5 \nL 45.162632 107.217044 \nL 54.413684 112.674841 \nL 63.664737 113.037577 \nL 72.915789 115.706491 \nL 82.166842 120.413481 \nL 91.417895 120.684057 \nL 100.668947 123.041088 \n\" clip-path=\"url(#pe47adda5d8)\" style=\"fill: none; stroke: #1f77b4; stroke-width: 1.5; stroke-linecap: square\"/>\n   </g>\n   <g id=\"line2d_47\">\n    <path d=\"M 51.33 109.644499 \nL 70.86 116.854866 \nL 90.39 122.304878 \nL 109.92 124.539754 \n\" clip-path=\"url(#pe47adda5d8)\" style=\"fill: none; stroke-dasharray: 5.55,2.4; stroke-dashoffset: 0; stroke: #ff7f0e; stroke-width: 1.5\"/>\n   </g>\n   <g id=\"line2d_48\">\n    <path d=\"M 35.911579 13.5 \nL 45.162632 107.217044 \nL 54.413684 112.674841 \nL 63.664737 113.037577 \nL 72.915789 115.706491 \nL 82.166842 120.413481 \nL 91.417895 120.684057 \nL 100.668947 123.041088 \nL 109.92 126.138517 \n\" clip-path=\"url(#pe47adda5d8)\" style=\"fill: none; stroke: #1f77b4; stroke-width: 1.5; stroke-linecap: square\"/>\n   </g>\n   <g id=\"line2d_49\">\n    <path d=\"M 51.33 109.644499 \nL 70.86 116.854866 \nL 90.39 122.304878 \nL 109.92 124.539754 \n\" clip-path=\"url(#pe47adda5d8)\" style=\"fill: none; stroke-dasharray: 5.55,2.4; stroke-dashoffset: 0; stroke: #ff7f0e; stroke-width: 1.5\"/>\n   </g>\n   <g id=\"line2d_50\">\n    <path d=\"M 35.911579 13.5 \nL 45.162632 107.217044 \nL 54.413684 112.674841 \nL 63.664737 113.037577 \nL 72.915789 115.706491 \nL 82.166842 120.413481 \nL 91.417895 120.684057 \nL 100.668947 123.041088 \nL 109.92 126.138517 \nL 119.171053 127.028966 \n\" clip-path=\"url(#pe47adda5d8)\" style=\"fill: none; stroke: #1f77b4; stroke-width: 1.5; stroke-linecap: square\"/>\n   </g>\n   <g id=\"line2d_51\">\n    <path d=\"M 51.33 109.644499 \nL 70.86 116.854866 \nL 90.39 122.304878 \nL 109.92 124.539754 \n\" clip-path=\"url(#pe47adda5d8)\" style=\"fill: none; stroke-dasharray: 5.55,2.4; stroke-dashoffset: 0; stroke: #ff7f0e; stroke-width: 1.5\"/>\n   </g>\n   <g id=\"line2d_52\">\n    <path d=\"M 35.911579 13.5 \nL 45.162632 107.217044 \nL 54.413684 112.674841 \nL 63.664737 113.037577 \nL 72.915789 115.706491 \nL 82.166842 120.413481 \nL 91.417895 120.684057 \nL 100.668947 123.041088 \nL 109.92 126.138517 \nL 119.171053 127.028966 \n\" clip-path=\"url(#pe47adda5d8)\" style=\"fill: none; stroke: #1f77b4; stroke-width: 1.5; stroke-linecap: square\"/>\n   </g>\n   <g id=\"line2d_53\">\n    <path d=\"M 51.33 109.644499 \nL 70.86 116.854866 \nL 90.39 122.304878 \nL 109.92 124.539754 \nL 129.45 129.557821 \n\" clip-path=\"url(#pe47adda5d8)\" style=\"fill: none; stroke-dasharray: 5.55,2.4; stroke-dashoffset: 0; stroke: #ff7f0e; stroke-width: 1.5\"/>\n   </g>\n   <g id=\"line2d_54\">\n    <path d=\"M 35.911579 13.5 \nL 45.162632 107.217044 \nL 54.413684 112.674841 \nL 63.664737 113.037577 \nL 72.915789 115.706491 \nL 82.166842 120.413481 \nL 91.417895 120.684057 \nL 100.668947 123.041088 \nL 109.92 126.138517 \nL 119.171053 127.028966 \nL 128.422105 128.839964 \n\" clip-path=\"url(#pe47adda5d8)\" style=\"fill: none; stroke: #1f77b4; stroke-width: 1.5; stroke-linecap: square\"/>\n   </g>\n   <g id=\"line2d_55\">\n    <path d=\"M 51.33 109.644499 \nL 70.86 116.854866 \nL 90.39 122.304878 \nL 109.92 124.539754 \nL 129.45 129.557821 \n\" clip-path=\"url(#pe47adda5d8)\" style=\"fill: none; stroke-dasharray: 5.55,2.4; stroke-dashoffset: 0; stroke: #ff7f0e; stroke-width: 1.5\"/>\n   </g>\n   <g id=\"line2d_56\">\n    <path d=\"M 35.911579 13.5 \nL 45.162632 107.217044 \nL 54.413684 112.674841 \nL 63.664737 113.037577 \nL 72.915789 115.706491 \nL 82.166842 120.413481 \nL 91.417895 120.684057 \nL 100.668947 123.041088 \nL 109.92 126.138517 \nL 119.171053 127.028966 \nL 128.422105 128.839964 \nL 137.673158 127.548524 \n\" clip-path=\"url(#pe47adda5d8)\" style=\"fill: none; stroke: #1f77b4; stroke-width: 1.5; stroke-linecap: square\"/>\n   </g>\n   <g id=\"line2d_57\">\n    <path d=\"M 51.33 109.644499 \nL 70.86 116.854866 \nL 90.39 122.304878 \nL 109.92 124.539754 \nL 129.45 129.557821 \n\" clip-path=\"url(#pe47adda5d8)\" style=\"fill: none; stroke-dasharray: 5.55,2.4; stroke-dashoffset: 0; stroke: #ff7f0e; stroke-width: 1.5\"/>\n   </g>\n   <g id=\"line2d_58\">\n    <path d=\"M 35.911579 13.5 \nL 45.162632 107.217044 \nL 54.413684 112.674841 \nL 63.664737 113.037577 \nL 72.915789 115.706491 \nL 82.166842 120.413481 \nL 91.417895 120.684057 \nL 100.668947 123.041088 \nL 109.92 126.138517 \nL 119.171053 127.028966 \nL 128.422105 128.839964 \nL 137.673158 127.548524 \n\" clip-path=\"url(#pe47adda5d8)\" style=\"fill: none; stroke: #1f77b4; stroke-width: 1.5; stroke-linecap: square\"/>\n   </g>\n   <g id=\"line2d_59\">\n    <path d=\"M 51.33 109.644499 \nL 70.86 116.854866 \nL 90.39 122.304878 \nL 109.92 124.539754 \nL 129.45 129.557821 \nL 148.98 132.388586 \n\" clip-path=\"url(#pe47adda5d8)\" style=\"fill: none; stroke-dasharray: 5.55,2.4; stroke-dashoffset: 0; stroke: #ff7f0e; stroke-width: 1.5\"/>\n   </g>\n   <g id=\"line2d_60\">\n    <path d=\"M 35.911579 13.5 \nL 45.162632 107.217044 \nL 54.413684 112.674841 \nL 63.664737 113.037577 \nL 72.915789 115.706491 \nL 82.166842 120.413481 \nL 91.417895 120.684057 \nL 100.668947 123.041088 \nL 109.92 126.138517 \nL 119.171053 127.028966 \nL 128.422105 128.839964 \nL 137.673158 127.548524 \nL 146.924211 133.563745 \n\" clip-path=\"url(#pe47adda5d8)\" style=\"fill: none; stroke: #1f77b4; stroke-width: 1.5; stroke-linecap: square\"/>\n   </g>\n   <g id=\"line2d_61\">\n    <path d=\"M 51.33 109.644499 \nL 70.86 116.854866 \nL 90.39 122.304878 \nL 109.92 124.539754 \nL 129.45 129.557821 \nL 148.98 132.388586 \n\" clip-path=\"url(#pe47adda5d8)\" style=\"fill: none; stroke-dasharray: 5.55,2.4; stroke-dashoffset: 0; stroke: #ff7f0e; stroke-width: 1.5\"/>\n   </g>\n   <g id=\"line2d_62\">\n    <path d=\"M 35.911579 13.5 \nL 45.162632 107.217044 \nL 54.413684 112.674841 \nL 63.664737 113.037577 \nL 72.915789 115.706491 \nL 82.166842 120.413481 \nL 91.417895 120.684057 \nL 100.668947 123.041088 \nL 109.92 126.138517 \nL 119.171053 127.028966 \nL 128.422105 128.839964 \nL 137.673158 127.548524 \nL 146.924211 133.563745 \nL 156.175263 129.301403 \n\" clip-path=\"url(#pe47adda5d8)\" style=\"fill: none; stroke: #1f77b4; stroke-width: 1.5; stroke-linecap: square\"/>\n   </g>\n   <g id=\"line2d_63\">\n    <path d=\"M 51.33 109.644499 \nL 70.86 116.854866 \nL 90.39 122.304878 \nL 109.92 124.539754 \nL 129.45 129.557821 \nL 148.98 132.388586 \n\" clip-path=\"url(#pe47adda5d8)\" style=\"fill: none; stroke-dasharray: 5.55,2.4; stroke-dashoffset: 0; stroke: #ff7f0e; stroke-width: 1.5\"/>\n   </g>\n   <g id=\"line2d_64\">\n    <path d=\"M 35.911579 13.5 \nL 45.162632 107.217044 \nL 54.413684 112.674841 \nL 63.664737 113.037577 \nL 72.915789 115.706491 \nL 82.166842 120.413481 \nL 91.417895 120.684057 \nL 100.668947 123.041088 \nL 109.92 126.138517 \nL 119.171053 127.028966 \nL 128.422105 128.839964 \nL 137.673158 127.548524 \nL 146.924211 133.563745 \nL 156.175263 129.301403 \n\" clip-path=\"url(#pe47adda5d8)\" style=\"fill: none; stroke: #1f77b4; stroke-width: 1.5; stroke-linecap: square\"/>\n   </g>\n   <g id=\"line2d_65\">\n    <path d=\"M 51.33 109.644499 \nL 70.86 116.854866 \nL 90.39 122.304878 \nL 109.92 124.539754 \nL 129.45 129.557821 \nL 148.98 132.388586 \nL 168.51 134.153671 \n\" clip-path=\"url(#pe47adda5d8)\" style=\"fill: none; stroke-dasharray: 5.55,2.4; stroke-dashoffset: 0; stroke: #ff7f0e; stroke-width: 1.5\"/>\n   </g>\n   <g id=\"line2d_66\">\n    <path d=\"M 35.911579 13.5 \nL 45.162632 107.217044 \nL 54.413684 112.674841 \nL 63.664737 113.037577 \nL 72.915789 115.706491 \nL 82.166842 120.413481 \nL 91.417895 120.684057 \nL 100.668947 123.041088 \nL 109.92 126.138517 \nL 119.171053 127.028966 \nL 128.422105 128.839964 \nL 137.673158 127.548524 \nL 146.924211 133.563745 \nL 156.175263 129.301403 \nL 165.426316 135.185326 \n\" clip-path=\"url(#pe47adda5d8)\" style=\"fill: none; stroke: #1f77b4; stroke-width: 1.5; stroke-linecap: square\"/>\n   </g>\n   <g id=\"line2d_67\">\n    <path d=\"M 51.33 109.644499 \nL 70.86 116.854866 \nL 90.39 122.304878 \nL 109.92 124.539754 \nL 129.45 129.557821 \nL 148.98 132.388586 \nL 168.51 134.153671 \n\" clip-path=\"url(#pe47adda5d8)\" style=\"fill: none; stroke-dasharray: 5.55,2.4; stroke-dashoffset: 0; stroke: #ff7f0e; stroke-width: 1.5\"/>\n   </g>\n   <g id=\"line2d_68\">\n    <path d=\"M 35.911579 13.5 \nL 45.162632 107.217044 \nL 54.413684 112.674841 \nL 63.664737 113.037577 \nL 72.915789 115.706491 \nL 82.166842 120.413481 \nL 91.417895 120.684057 \nL 100.668947 123.041088 \nL 109.92 126.138517 \nL 119.171053 127.028966 \nL 128.422105 128.839964 \nL 137.673158 127.548524 \nL 146.924211 133.563745 \nL 156.175263 129.301403 \nL 165.426316 135.185326 \nL 174.677368 133.826455 \n\" clip-path=\"url(#pe47adda5d8)\" style=\"fill: none; stroke: #1f77b4; stroke-width: 1.5; stroke-linecap: square\"/>\n   </g>\n   <g id=\"line2d_69\">\n    <path d=\"M 51.33 109.644499 \nL 70.86 116.854866 \nL 90.39 122.304878 \nL 109.92 124.539754 \nL 129.45 129.557821 \nL 148.98 132.388586 \nL 168.51 134.153671 \n\" clip-path=\"url(#pe47adda5d8)\" style=\"fill: none; stroke-dasharray: 5.55,2.4; stroke-dashoffset: 0; stroke: #ff7f0e; stroke-width: 1.5\"/>\n   </g>\n   <g id=\"line2d_70\">\n    <path d=\"M 35.911579 13.5 \nL 45.162632 107.217044 \nL 54.413684 112.674841 \nL 63.664737 113.037577 \nL 72.915789 115.706491 \nL 82.166842 120.413481 \nL 91.417895 120.684057 \nL 100.668947 123.041088 \nL 109.92 126.138517 \nL 119.171053 127.028966 \nL 128.422105 128.839964 \nL 137.673158 127.548524 \nL 146.924211 133.563745 \nL 156.175263 129.301403 \nL 165.426316 135.185326 \nL 174.677368 133.826455 \n\" clip-path=\"url(#pe47adda5d8)\" style=\"fill: none; stroke: #1f77b4; stroke-width: 1.5; stroke-linecap: square\"/>\n   </g>\n   <g id=\"line2d_71\">\n    <path d=\"M 51.33 109.644499 \nL 70.86 116.854866 \nL 90.39 122.304878 \nL 109.92 124.539754 \nL 129.45 129.557821 \nL 148.98 132.388586 \nL 168.51 134.153671 \nL 188.04 135.035101 \n\" clip-path=\"url(#pe47adda5d8)\" style=\"fill: none; stroke-dasharray: 5.55,2.4; stroke-dashoffset: 0; stroke: #ff7f0e; stroke-width: 1.5\"/>\n   </g>\n   <g id=\"line2d_72\">\n    <path d=\"M 35.911579 13.5 \nL 45.162632 107.217044 \nL 54.413684 112.674841 \nL 63.664737 113.037577 \nL 72.915789 115.706491 \nL 82.166842 120.413481 \nL 91.417895 120.684057 \nL 100.668947 123.041088 \nL 109.92 126.138517 \nL 119.171053 127.028966 \nL 128.422105 128.839964 \nL 137.673158 127.548524 \nL 146.924211 133.563745 \nL 156.175263 129.301403 \nL 165.426316 135.185326 \nL 174.677368 133.826455 \nL 183.928421 137.48346 \n\" clip-path=\"url(#pe47adda5d8)\" style=\"fill: none; stroke: #1f77b4; stroke-width: 1.5; stroke-linecap: square\"/>\n   </g>\n   <g id=\"line2d_73\">\n    <path d=\"M 51.33 109.644499 \nL 70.86 116.854866 \nL 90.39 122.304878 \nL 109.92 124.539754 \nL 129.45 129.557821 \nL 148.98 132.388586 \nL 168.51 134.153671 \nL 188.04 135.035101 \n\" clip-path=\"url(#pe47adda5d8)\" style=\"fill: none; stroke-dasharray: 5.55,2.4; stroke-dashoffset: 0; stroke: #ff7f0e; stroke-width: 1.5\"/>\n   </g>\n   <g id=\"line2d_74\">\n    <path d=\"M 35.911579 13.5 \nL 45.162632 107.217044 \nL 54.413684 112.674841 \nL 63.664737 113.037577 \nL 72.915789 115.706491 \nL 82.166842 120.413481 \nL 91.417895 120.684057 \nL 100.668947 123.041088 \nL 109.92 126.138517 \nL 119.171053 127.028966 \nL 128.422105 128.839964 \nL 137.673158 127.548524 \nL 146.924211 133.563745 \nL 156.175263 129.301403 \nL 165.426316 135.185326 \nL 174.677368 133.826455 \nL 183.928421 137.48346 \nL 193.179474 138.485471 \n\" clip-path=\"url(#pe47adda5d8)\" style=\"fill: none; stroke: #1f77b4; stroke-width: 1.5; stroke-linecap: square\"/>\n   </g>\n   <g id=\"line2d_75\">\n    <path d=\"M 51.33 109.644499 \nL 70.86 116.854866 \nL 90.39 122.304878 \nL 109.92 124.539754 \nL 129.45 129.557821 \nL 148.98 132.388586 \nL 168.51 134.153671 \nL 188.04 135.035101 \n\" clip-path=\"url(#pe47adda5d8)\" style=\"fill: none; stroke-dasharray: 5.55,2.4; stroke-dashoffset: 0; stroke: #ff7f0e; stroke-width: 1.5\"/>\n   </g>\n   <g id=\"line2d_76\">\n    <path d=\"M 35.911579 13.5 \nL 45.162632 107.217044 \nL 54.413684 112.674841 \nL 63.664737 113.037577 \nL 72.915789 115.706491 \nL 82.166842 120.413481 \nL 91.417895 120.684057 \nL 100.668947 123.041088 \nL 109.92 126.138517 \nL 119.171053 127.028966 \nL 128.422105 128.839964 \nL 137.673158 127.548524 \nL 146.924211 133.563745 \nL 156.175263 129.301403 \nL 165.426316 135.185326 \nL 174.677368 133.826455 \nL 183.928421 137.48346 \nL 193.179474 138.485471 \nL 202.430526 134.873257 \n\" clip-path=\"url(#pe47adda5d8)\" style=\"fill: none; stroke: #1f77b4; stroke-width: 1.5; stroke-linecap: square\"/>\n   </g>\n   <g id=\"line2d_77\">\n    <path d=\"M 51.33 109.644499 \nL 70.86 116.854866 \nL 90.39 122.304878 \nL 109.92 124.539754 \nL 129.45 129.557821 \nL 148.98 132.388586 \nL 168.51 134.153671 \nL 188.04 135.035101 \n\" clip-path=\"url(#pe47adda5d8)\" style=\"fill: none; stroke-dasharray: 5.55,2.4; stroke-dashoffset: 0; stroke: #ff7f0e; stroke-width: 1.5\"/>\n   </g>\n   <g id=\"line2d_78\">\n    <path d=\"M 35.911579 13.5 \nL 45.162632 107.217044 \nL 54.413684 112.674841 \nL 63.664737 113.037577 \nL 72.915789 115.706491 \nL 82.166842 120.413481 \nL 91.417895 120.684057 \nL 100.668947 123.041088 \nL 109.92 126.138517 \nL 119.171053 127.028966 \nL 128.422105 128.839964 \nL 137.673158 127.548524 \nL 146.924211 133.563745 \nL 156.175263 129.301403 \nL 165.426316 135.185326 \nL 174.677368 133.826455 \nL 183.928421 137.48346 \nL 193.179474 138.485471 \nL 202.430526 134.873257 \n\" clip-path=\"url(#pe47adda5d8)\" style=\"fill: none; stroke: #1f77b4; stroke-width: 1.5; stroke-linecap: square\"/>\n   </g>\n   <g id=\"line2d_79\">\n    <path d=\"M 51.33 109.644499 \nL 70.86 116.854866 \nL 90.39 122.304878 \nL 109.92 124.539754 \nL 129.45 129.557821 \nL 148.98 132.388586 \nL 168.51 134.153671 \nL 188.04 135.035101 \nL 207.57 137.729944 \n\" clip-path=\"url(#pe47adda5d8)\" style=\"fill: none; stroke-dasharray: 5.55,2.4; stroke-dashoffset: 0; stroke: #ff7f0e; stroke-width: 1.5\"/>\n   </g>\n   <g id=\"line2d_80\">\n    <path d=\"M 35.911579 13.5 \nL 45.162632 107.217044 \nL 54.413684 112.674841 \nL 63.664737 113.037577 \nL 72.915789 115.706491 \nL 82.166842 120.413481 \nL 91.417895 120.684057 \nL 100.668947 123.041088 \nL 109.92 126.138517 \nL 119.171053 127.028966 \nL 128.422105 128.839964 \nL 137.673158 127.548524 \nL 146.924211 133.563745 \nL 156.175263 129.301403 \nL 165.426316 135.185326 \nL 174.677368 133.826455 \nL 183.928421 137.48346 \nL 193.179474 138.485471 \nL 202.430526 134.873257 \nL 211.681579 139.113383 \n\" clip-path=\"url(#pe47adda5d8)\" style=\"fill: none; stroke: #1f77b4; stroke-width: 1.5; stroke-linecap: square\"/>\n   </g>\n   <g id=\"line2d_81\">\n    <path d=\"M 51.33 109.644499 \nL 70.86 116.854866 \nL 90.39 122.304878 \nL 109.92 124.539754 \nL 129.45 129.557821 \nL 148.98 132.388586 \nL 168.51 134.153671 \nL 188.04 135.035101 \nL 207.57 137.729944 \n\" clip-path=\"url(#pe47adda5d8)\" style=\"fill: none; stroke-dasharray: 5.55,2.4; stroke-dashoffset: 0; stroke: #ff7f0e; stroke-width: 1.5\"/>\n   </g>\n   <g id=\"line2d_82\">\n    <path d=\"M 35.911579 13.5 \nL 45.162632 107.217044 \nL 54.413684 112.674841 \nL 63.664737 113.037577 \nL 72.915789 115.706491 \nL 82.166842 120.413481 \nL 91.417895 120.684057 \nL 100.668947 123.041088 \nL 109.92 126.138517 \nL 119.171053 127.028966 \nL 128.422105 128.839964 \nL 137.673158 127.548524 \nL 146.924211 133.563745 \nL 156.175263 129.301403 \nL 165.426316 135.185326 \nL 174.677368 133.826455 \nL 183.928421 137.48346 \nL 193.179474 138.485471 \nL 202.430526 134.873257 \nL 211.681579 139.113383 \nL 220.932632 138.698553 \n\" clip-path=\"url(#pe47adda5d8)\" style=\"fill: none; stroke: #1f77b4; stroke-width: 1.5; stroke-linecap: square\"/>\n   </g>\n   <g id=\"line2d_83\">\n    <path d=\"M 51.33 109.644499 \nL 70.86 116.854866 \nL 90.39 122.304878 \nL 109.92 124.539754 \nL 129.45 129.557821 \nL 148.98 132.388586 \nL 168.51 134.153671 \nL 188.04 135.035101 \nL 207.57 137.729944 \n\" clip-path=\"url(#pe47adda5d8)\" style=\"fill: none; stroke-dasharray: 5.55,2.4; stroke-dashoffset: 0; stroke: #ff7f0e; stroke-width: 1.5\"/>\n   </g>\n   <g id=\"line2d_84\">\n    <path d=\"M 35.911579 13.5 \nL 45.162632 107.217044 \nL 54.413684 112.674841 \nL 63.664737 113.037577 \nL 72.915789 115.706491 \nL 82.166842 120.413481 \nL 91.417895 120.684057 \nL 100.668947 123.041088 \nL 109.92 126.138517 \nL 119.171053 127.028966 \nL 128.422105 128.839964 \nL 137.673158 127.548524 \nL 146.924211 133.563745 \nL 156.175263 129.301403 \nL 165.426316 135.185326 \nL 174.677368 133.826455 \nL 183.928421 137.48346 \nL 193.179474 138.485471 \nL 202.430526 134.873257 \nL 211.681579 139.113383 \nL 220.932632 138.698553 \n\" clip-path=\"url(#pe47adda5d8)\" style=\"fill: none; stroke: #1f77b4; stroke-width: 1.5; stroke-linecap: square\"/>\n   </g>\n   <g id=\"line2d_85\">\n    <path d=\"M 51.33 109.644499 \nL 70.86 116.854866 \nL 90.39 122.304878 \nL 109.92 124.539754 \nL 129.45 129.557821 \nL 148.98 132.388586 \nL 168.51 134.153671 \nL 188.04 135.035101 \nL 207.57 137.729944 \nL 227.1 139.5 \n\" clip-path=\"url(#pe47adda5d8)\" style=\"fill: none; stroke-dasharray: 5.55,2.4; stroke-dashoffset: 0; stroke: #ff7f0e; stroke-width: 1.5\"/>\n   </g>\n   <g id=\"patch_3\">\n    <path d=\"M 31.8 145.8 \nL 31.8 7.2 \n\" style=\"fill: none; stroke: #000000; stroke-width: 0.8; stroke-linejoin: miter; stroke-linecap: square\"/>\n   </g>\n   <g id=\"patch_4\">\n    <path d=\"M 227.1 145.8 \nL 227.1 7.2 \n\" style=\"fill: none; stroke: #000000; stroke-width: 0.8; stroke-linejoin: miter; stroke-linecap: square\"/>\n   </g>\n   <g id=\"patch_5\">\n    <path d=\"M 31.8 145.8 \nL 227.1 145.8 \n\" style=\"fill: none; stroke: #000000; stroke-width: 0.8; stroke-linejoin: miter; stroke-linecap: square\"/>\n   </g>\n   <g id=\"patch_6\">\n    <path d=\"M 31.8 7.2 \nL 227.1 7.2 \n\" style=\"fill: none; stroke: #000000; stroke-width: 0.8; stroke-linejoin: miter; stroke-linecap: square\"/>\n   </g>\n   <g id=\"legend_1\">\n    <g id=\"patch_7\">\n     <path d=\"M 140.509375 45.1125 \nL 220.1 45.1125 \nQ 222.1 45.1125 222.1 43.1125 \nL 222.1 14.2 \nQ 222.1 12.2 220.1 12.2 \nL 140.509375 12.2 \nQ 138.509375 12.2 138.509375 14.2 \nL 138.509375 43.1125 \nQ 138.509375 45.1125 140.509375 45.1125 \nz\n\" style=\"fill: #ffffff; opacity: 0.8; stroke: #cccccc; stroke-linejoin: miter\"/>\n    </g>\n    <g id=\"line2d_86\">\n     <path d=\"M 142.509375 20.298438 \nL 152.509375 20.298438 \nL 162.509375 20.298438 \n\" style=\"fill: none; stroke: #1f77b4; stroke-width: 1.5; stroke-linecap: square\"/>\n    </g>\n    <g id=\"text_10\">\n     <!-- train_loss -->\n     <g transform=\"translate(170.509375 23.798438) scale(0.1 -0.1)\">\n      <defs>\n       <path id=\"DejaVuSans-74\" d=\"M 1172 4494 \nL 1172 3500 \nL 2356 3500 \nL 2356 3053 \nL 1172 3053 \nL 1172 1153 \nQ 1172 725 1289 603 \nQ 1406 481 1766 481 \nL 2356 481 \nL 2356 0 \nL 1766 0 \nQ 1100 0 847 248 \nQ 594 497 594 1153 \nL 594 3053 \nL 172 3053 \nL 172 3500 \nL 594 3500 \nL 594 4494 \nL 1172 4494 \nz\n\" transform=\"scale(0.015625)\"/>\n       <path id=\"DejaVuSans-72\" d=\"M 2631 2963 \nQ 2534 3019 2420 3045 \nQ 2306 3072 2169 3072 \nQ 1681 3072 1420 2755 \nQ 1159 2438 1159 1844 \nL 1159 0 \nL 581 0 \nL 581 3500 \nL 1159 3500 \nL 1159 2956 \nQ 1341 3275 1631 3429 \nQ 1922 3584 2338 3584 \nQ 2397 3584 2469 3576 \nQ 2541 3569 2628 3553 \nL 2631 2963 \nz\n\" transform=\"scale(0.015625)\"/>\n       <path id=\"DejaVuSans-61\" d=\"M 2194 1759 \nQ 1497 1759 1228 1600 \nQ 959 1441 959 1056 \nQ 959 750 1161 570 \nQ 1363 391 1709 391 \nQ 2188 391 2477 730 \nQ 2766 1069 2766 1631 \nL 2766 1759 \nL 2194 1759 \nz\nM 3341 1997 \nL 3341 0 \nL 2766 0 \nL 2766 531 \nQ 2569 213 2275 61 \nQ 1981 -91 1556 -91 \nQ 1019 -91 701 211 \nQ 384 513 384 1019 \nQ 384 1609 779 1909 \nQ 1175 2209 1959 2209 \nL 2766 2209 \nL 2766 2266 \nQ 2766 2663 2505 2880 \nQ 2244 3097 1772 3097 \nQ 1472 3097 1187 3025 \nQ 903 2953 641 2809 \nL 641 3341 \nQ 956 3463 1253 3523 \nQ 1550 3584 1831 3584 \nQ 2591 3584 2966 3190 \nQ 3341 2797 3341 1997 \nz\n\" transform=\"scale(0.015625)\"/>\n       <path id=\"DejaVuSans-69\" d=\"M 603 3500 \nL 1178 3500 \nL 1178 0 \nL 603 0 \nL 603 3500 \nz\nM 603 4863 \nL 1178 4863 \nL 1178 4134 \nL 603 4134 \nL 603 4863 \nz\n\" transform=\"scale(0.015625)\"/>\n       <path id=\"DejaVuSans-6e\" d=\"M 3513 2113 \nL 3513 0 \nL 2938 0 \nL 2938 2094 \nQ 2938 2591 2744 2837 \nQ 2550 3084 2163 3084 \nQ 1697 3084 1428 2787 \nQ 1159 2491 1159 1978 \nL 1159 0 \nL 581 0 \nL 581 3500 \nL 1159 3500 \nL 1159 2956 \nQ 1366 3272 1645 3428 \nQ 1925 3584 2291 3584 \nQ 2894 3584 3203 3211 \nQ 3513 2838 3513 2113 \nz\n\" transform=\"scale(0.015625)\"/>\n       <path id=\"DejaVuSans-5f\" d=\"M 3263 -1063 \nL 3263 -1509 \nL -63 -1509 \nL -63 -1063 \nL 3263 -1063 \nz\n\" transform=\"scale(0.015625)\"/>\n       <path id=\"DejaVuSans-6c\" d=\"M 603 4863 \nL 1178 4863 \nL 1178 0 \nL 603 0 \nL 603 4863 \nz\n\" transform=\"scale(0.015625)\"/>\n       <path id=\"DejaVuSans-73\" d=\"M 2834 3397 \nL 2834 2853 \nQ 2591 2978 2328 3040 \nQ 2066 3103 1784 3103 \nQ 1356 3103 1142 2972 \nQ 928 2841 928 2578 \nQ 928 2378 1081 2264 \nQ 1234 2150 1697 2047 \nL 1894 2003 \nQ 2506 1872 2764 1633 \nQ 3022 1394 3022 966 \nQ 3022 478 2636 193 \nQ 2250 -91 1575 -91 \nQ 1294 -91 989 -36 \nQ 684 19 347 128 \nL 347 722 \nQ 666 556 975 473 \nQ 1284 391 1588 391 \nQ 1994 391 2212 530 \nQ 2431 669 2431 922 \nQ 2431 1156 2273 1281 \nQ 2116 1406 1581 1522 \nL 1381 1569 \nQ 847 1681 609 1914 \nQ 372 2147 372 2553 \nQ 372 3047 722 3315 \nQ 1072 3584 1716 3584 \nQ 2034 3584 2315 3537 \nQ 2597 3491 2834 3397 \nz\n\" transform=\"scale(0.015625)\"/>\n      </defs>\n      <use xlink:href=\"#DejaVuSans-74\"/>\n      <use xlink:href=\"#DejaVuSans-72\" x=\"39.208984\"/>\n      <use xlink:href=\"#DejaVuSans-61\" x=\"80.322266\"/>\n      <use xlink:href=\"#DejaVuSans-69\" x=\"141.601562\"/>\n      <use xlink:href=\"#DejaVuSans-6e\" x=\"169.384766\"/>\n      <use xlink:href=\"#DejaVuSans-5f\" x=\"232.763672\"/>\n      <use xlink:href=\"#DejaVuSans-6c\" x=\"282.763672\"/>\n      <use xlink:href=\"#DejaVuSans-6f\" x=\"310.546875\"/>\n      <use xlink:href=\"#DejaVuSans-73\" x=\"371.728516\"/>\n      <use xlink:href=\"#DejaVuSans-73\" x=\"423.828125\"/>\n     </g>\n    </g>\n    <g id=\"line2d_87\">\n     <path d=\"M 142.509375 35.254688 \nL 152.509375 35.254688 \nL 162.509375 35.254688 \n\" style=\"fill: none; stroke-dasharray: 5.55,2.4; stroke-dashoffset: 0; stroke: #ff7f0e; stroke-width: 1.5\"/>\n    </g>\n    <g id=\"text_11\">\n     <!-- val_loss -->\n     <g transform=\"translate(170.509375 38.754688) scale(0.1 -0.1)\">\n      <defs>\n       <path id=\"DejaVuSans-76\" d=\"M 191 3500 \nL 800 3500 \nL 1894 563 \nL 2988 3500 \nL 3597 3500 \nL 2284 0 \nL 1503 0 \nL 191 3500 \nz\n\" transform=\"scale(0.015625)\"/>\n      </defs>\n      <use xlink:href=\"#DejaVuSans-76\"/>\n      <use xlink:href=\"#DejaVuSans-61\" x=\"59.179688\"/>\n      <use xlink:href=\"#DejaVuSans-6c\" x=\"120.458984\"/>\n      <use xlink:href=\"#DejaVuSans-5f\" x=\"148.242188\"/>\n      <use xlink:href=\"#DejaVuSans-6c\" x=\"198.242188\"/>\n      <use xlink:href=\"#DejaVuSans-6f\" x=\"226.025391\"/>\n      <use xlink:href=\"#DejaVuSans-73\" x=\"287.207031\"/>\n      <use xlink:href=\"#DejaVuSans-73\" x=\"339.306641\"/>\n     </g>\n    </g>\n   </g>\n  </g>\n </g>\n <defs>\n  <clipPath id=\"pe47adda5d8\">\n   <rect x=\"31.8\" y=\"7.2\" width=\"195.3\" height=\"138.6\"/>\n  </clipPath>\n </defs>\n</svg>\n"
          },
          "metadata": {}
        }
      ]
    },
    {
      "cell_type": "markdown",
      "source": [
        "Kode yang Anda berikan menginisialisasi objek trainer dari modul d2l dengan max_epochs=10, yang akan digunakan untuk melatih model. Selanjutnya, fungsi k_fold dipanggil dengan menggunakan trainer, objek data yang berisi data latih, jumlah lipatan (k) sebanyak 5, dan tingkat pembelajaran (lr) sebesar 0.01.\n",
        "\n",
        "Setelah menjalankan fungsi k_fold, kita akan mendapatkan model-model yang telah dilatih dan rata-rata kerugian validasi dari semua lipatan. Model-model tersebut dapat digunakan untuk prediksi di kemudian hari, sedangkan rata-rata kerugian validasi memberikan gambaran tentang performa rata-rata model pada setiap lipatan validasi."
      ],
      "metadata": {
        "id": "GteW_lcpI_6Q"
      }
    },
    {
      "cell_type": "markdown",
      "source": [
        "# Prediksi pada Kaggle"
      ],
      "metadata": {
        "id": "B-Md9i57Fy9I"
      }
    },
    {
      "cell_type": "code",
      "source": [
        "preds = [model(torch.tensor(data.val.values.astype(float), dtype=torch.float32))\n",
        "         for model in models]\n",
        "# Taking exponentiation of predictions in the logarithm scale\n",
        "ensemble_preds = torch.exp(torch.cat(preds, 1)).mean(1)\n",
        "submission = pd.DataFrame({'Id':data.raw_val.Id,\n",
        "                           'SalePrice':ensemble_preds.detach().numpy()})\n",
        "submission.to_csv('submission.csv', index=False)"
      ],
      "metadata": {
        "id": "_ylziHXgF3wL"
      },
      "execution_count": null,
      "outputs": []
    },
    {
      "cell_type": "markdown",
      "source": [
        "Kode tersebut digunakan untuk membuat prediksi harga rumah menggunakan model-model yang telah dilatih pada setiap lipatan dari validasi silang. Prediksi-prediksi tersebut kemudian disatukan dan dirata-ratakan untuk mendapatkan prediksi ensemble. Hasil prediksi tersebut kemudian disimpan dalam format CSV untuk pengiriman atau evaluasi lebih lanjut.\n",
        "\n",
        "Berikut adalah penjelasan langkah-langkah dalam kode tersebut:\n",
        "\n",
        "- Loop for digunakan untuk melakukan prediksi pada setiap model yang telah dilatih, dan hasil prediksi dimasukkan ke dalam list preds.\n",
        "- Kemudian, prediksi-prediksi tersebut diubah kembali dari skala logaritma ke skala asli dengan mengambil eksponensiasi dari nilai-nilai tersebut.\n",
        "- Prediksi-prediksi tersebut kemudian disatukan menggunakan fungsi torch.cat dan dirata-ratakan menggunakan torch.mean(1) untuk mendapatkan prediksi ensemble.\n",
        "- Hasil prediksi tersebut kemudian dibuat menjadi sebuah DataFrame menggunakan objek pd.DataFrame, dan disimpan dalam format CSV dengan nama file 'submission.csv' tanpa menyertakan indeks.\n",
        "\n",
        "File 'submission.csv' yang dihasilkan akan berisi kolom 'Id' yang sesuai dengan data validasi awal dan kolom 'SalePrice' yang berisi prediksi harga rumah. File ini dapat digunakan untuk mengirimkan prediksi Anda atau untuk evaluasi lebih lanjut."
      ],
      "metadata": {
        "id": "pooQHj8bJJyy"
      }
    }
  ]
}